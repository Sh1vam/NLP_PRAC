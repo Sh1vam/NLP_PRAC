{
 "cells": [
  {
   "cell_type": "markdown",
   "id": "5ad403d9-2ab6-4d9f-b5e8-fccf8c2ce702",
   "metadata": {},
   "source": [
    "# Practical 9\n",
    "## Perform text classification."
   ]
  },
  {
   "cell_type": "code",
   "execution_count": 30,
   "id": "ab4be4e0-32e8-42bb-bcaf-22af444e72fd",
   "metadata": {},
   "outputs": [],
   "source": [
    "from nlp_lib import *\n",
    "from sklearn.model_selection import train_test_split\n",
    "from sklearn.feature_extraction.text import TfidfVectorizer\n",
    "from sklearn.svm import LinearSVC\n",
    "import joblib\n",
    "from matplotlib import pyplot as plt\n",
    "import seaborn as sn\n",
    "from sklearn.metrics import confusion_matrix\n",
    "from sklearn.utils import resample\n",
    "from sklearn.pipeline import Pipeline\n",
    "from sklearn.metrics import classification_report"
   ]
  },
  {
   "cell_type": "markdown",
   "id": "87dce507-a856-45e0-92c9-11eaf2c9a47f",
   "metadata": {},
   "source": [
    "### Loading Dataset and Analyzing it"
   ]
  },
  {
   "cell_type": "code",
   "execution_count": 2,
   "id": "97f7819c-f9c0-4876-ba16-688ab8e929b5",
   "metadata": {},
   "outputs": [],
   "source": [
    "df=pd.read_csv(\"bbc_text.csv\")"
   ]
  },
  {
   "cell_type": "code",
   "execution_count": 5,
   "id": "df796556-92dd-48b5-8bf8-45e0d2c91a0d",
   "metadata": {},
   "outputs": [
    {
     "data": {
      "text/plain": [
       "Index(['category', 'text'], dtype='object')"
      ]
     },
     "execution_count": 5,
     "metadata": {},
     "output_type": "execute_result"
    }
   ],
   "source": [
    "df.columns"
   ]
  },
  {
   "cell_type": "code",
   "execution_count": 6,
   "id": "b376a990-9228-4923-bc1b-b4bf1dfe951b",
   "metadata": {},
   "outputs": [
    {
     "data": {
      "text/html": [
       "<div>\n",
       "<style scoped>\n",
       "    .dataframe tbody tr th:only-of-type {\n",
       "        vertical-align: middle;\n",
       "    }\n",
       "\n",
       "    .dataframe tbody tr th {\n",
       "        vertical-align: top;\n",
       "    }\n",
       "\n",
       "    .dataframe thead th {\n",
       "        text-align: right;\n",
       "    }\n",
       "</style>\n",
       "<table border=\"1\" class=\"dataframe\">\n",
       "  <thead>\n",
       "    <tr style=\"text-align: right;\">\n",
       "      <th></th>\n",
       "      <th>category</th>\n",
       "      <th>text</th>\n",
       "    </tr>\n",
       "  </thead>\n",
       "  <tbody>\n",
       "    <tr>\n",
       "      <th>0</th>\n",
       "      <td>tech</td>\n",
       "      <td>tv future in the hands of viewers with home th...</td>\n",
       "    </tr>\n",
       "    <tr>\n",
       "      <th>1</th>\n",
       "      <td>business</td>\n",
       "      <td>worldcom boss  left books alone  former worldc...</td>\n",
       "    </tr>\n",
       "    <tr>\n",
       "      <th>2</th>\n",
       "      <td>sport</td>\n",
       "      <td>tigers wary of farrell  gamble  leicester say ...</td>\n",
       "    </tr>\n",
       "    <tr>\n",
       "      <th>3</th>\n",
       "      <td>sport</td>\n",
       "      <td>yeading face newcastle in fa cup premiership s...</td>\n",
       "    </tr>\n",
       "    <tr>\n",
       "      <th>4</th>\n",
       "      <td>entertainment</td>\n",
       "      <td>ocean s twelve raids box office ocean s twelve...</td>\n",
       "    </tr>\n",
       "  </tbody>\n",
       "</table>\n",
       "</div>"
      ],
      "text/plain": [
       "        category                                               text\n",
       "0           tech  tv future in the hands of viewers with home th...\n",
       "1       business  worldcom boss  left books alone  former worldc...\n",
       "2          sport  tigers wary of farrell  gamble  leicester say ...\n",
       "3          sport  yeading face newcastle in fa cup premiership s...\n",
       "4  entertainment  ocean s twelve raids box office ocean s twelve..."
      ]
     },
     "execution_count": 6,
     "metadata": {},
     "output_type": "execute_result"
    }
   ],
   "source": [
    "df.head()"
   ]
  },
  {
   "cell_type": "code",
   "execution_count": 7,
   "id": "22364126-a746-4433-a80d-e71bfe4aa506",
   "metadata": {},
   "outputs": [
    {
     "data": {
      "text/plain": [
       "category\n",
       "sport            511\n",
       "business         510\n",
       "politics         417\n",
       "tech             401\n",
       "entertainment    386\n",
       "Name: count, dtype: int64"
      ]
     },
     "execution_count": 7,
     "metadata": {},
     "output_type": "execute_result"
    }
   ],
   "source": [
    "df.category.value_counts()"
   ]
  },
  {
   "cell_type": "code",
   "execution_count": 8,
   "id": "e22f8cdd-317b-4ec1-994c-734633020e27",
   "metadata": {},
   "outputs": [],
   "source": [
    "df_min=df.category.value_counts().min()"
   ]
  },
  {
   "cell_type": "code",
   "execution_count": 9,
   "id": "a455f86b-0eea-4ced-a111-7e843bf93559",
   "metadata": {},
   "outputs": [
    {
     "data": {
      "text/plain": [
       "386"
      ]
     },
     "execution_count": 9,
     "metadata": {},
     "output_type": "execute_result"
    }
   ],
   "source": [
    "df_min"
   ]
  },
  {
   "cell_type": "markdown",
   "id": "0204079b-4f56-46ef-a11f-3c03e81f06f5",
   "metadata": {},
   "source": [
    "### Doing UnderSampling for getting Balanced Dataset"
   ]
  },
  {
   "cell_type": "code",
   "execution_count": 11,
   "id": "03e3d0a7-66eb-411f-85bb-e47fbbf81c8d",
   "metadata": {},
   "outputs": [
    {
     "name": "stdout",
     "output_type": "stream",
     "text": [
      "category\n",
      "sport            386\n",
      "politics         386\n",
      "tech             386\n",
      "business         386\n",
      "entertainment    386\n",
      "Name: count, dtype: int64\n"
     ]
    }
   ],
   "source": [
    "min_samples = df_min\n",
    "\n",
    "undersampled_dfs = []\n",
    "\n",
    "for category in df['category'].unique():\n",
    "    df_category = df[df['category'] == category]\n",
    "    \n",
    "    if len(df_category) < min_samples:\n",
    "        df_category_undersampled = resample(df_category, \n",
    "                                            replace=True, \n",
    "                                            n_samples=min_samples, \n",
    "                                            random_state=42)\n",
    "    else:\n",
    "        df_category_undersampled = resample(df_category, \n",
    "                                            replace=False, \n",
    "                                            n_samples=min_samples, \n",
    "                                            random_state=42)\n",
    "    \n",
    "    undersampled_dfs.append(df_category_undersampled)\n",
    "\n",
    "df_undersampled = pd.concat(undersampled_dfs)\n",
    "\n",
    "df_undersampled = df_undersampled.sample(frac=1, random_state=42).reset_index(drop=True)\n",
    "\n",
    "print(df_undersampled['category'].value_counts())"
   ]
  },
  {
   "cell_type": "code",
   "execution_count": 12,
   "id": "d770ad3d-5795-411c-b2fc-b935e50e8400",
   "metadata": {},
   "outputs": [],
   "source": [
    "df=df_undersampled"
   ]
  },
  {
   "cell_type": "code",
   "execution_count": 13,
   "id": "58b8fdca-e3c4-46f2-8cad-f9de6a61ec49",
   "metadata": {},
   "outputs": [
    {
     "data": {
      "text/html": [
       "<div>\n",
       "<style scoped>\n",
       "    .dataframe tbody tr th:only-of-type {\n",
       "        vertical-align: middle;\n",
       "    }\n",
       "\n",
       "    .dataframe tbody tr th {\n",
       "        vertical-align: top;\n",
       "    }\n",
       "\n",
       "    .dataframe thead th {\n",
       "        text-align: right;\n",
       "    }\n",
       "</style>\n",
       "<table border=\"1\" class=\"dataframe\">\n",
       "  <thead>\n",
       "    <tr style=\"text-align: right;\">\n",
       "      <th></th>\n",
       "      <th>category</th>\n",
       "      <th>text</th>\n",
       "    </tr>\n",
       "  </thead>\n",
       "  <tbody>\n",
       "    <tr>\n",
       "      <th>1925</th>\n",
       "      <td>sport</td>\n",
       "      <td>saint-andre anger at absent stars sale sharks ...</td>\n",
       "    </tr>\n",
       "    <tr>\n",
       "      <th>1926</th>\n",
       "      <td>entertainment</td>\n",
       "      <td>manics in charge of bbc 6 music the manic stre...</td>\n",
       "    </tr>\n",
       "    <tr>\n",
       "      <th>1927</th>\n",
       "      <td>sport</td>\n",
       "      <td>adriano s chelsea link rejected adriano s agen...</td>\n",
       "    </tr>\n",
       "    <tr>\n",
       "      <th>1928</th>\n",
       "      <td>entertainment</td>\n",
       "      <td>smith loses us box office crown new comedy dia...</td>\n",
       "    </tr>\n",
       "    <tr>\n",
       "      <th>1929</th>\n",
       "      <td>sport</td>\n",
       "      <td>collins to compete in birmingham world and com...</td>\n",
       "    </tr>\n",
       "  </tbody>\n",
       "</table>\n",
       "</div>"
      ],
      "text/plain": [
       "           category                                               text\n",
       "1925          sport  saint-andre anger at absent stars sale sharks ...\n",
       "1926  entertainment  manics in charge of bbc 6 music the manic stre...\n",
       "1927          sport  adriano s chelsea link rejected adriano s agen...\n",
       "1928  entertainment  smith loses us box office crown new comedy dia...\n",
       "1929          sport  collins to compete in birmingham world and com..."
      ]
     },
     "execution_count": 13,
     "metadata": {},
     "output_type": "execute_result"
    }
   ],
   "source": [
    "df.tail()"
   ]
  },
  {
   "cell_type": "markdown",
   "id": "4b2a9957-3794-4e93-8fe7-1ac8b6cae08d",
   "metadata": {},
   "source": [
    "### Mapping Categories to Numerical Values"
   ]
  },
  {
   "cell_type": "code",
   "execution_count": 14,
   "id": "595e6312-d282-4274-a6d5-2b65a2e049a4",
   "metadata": {},
   "outputs": [],
   "source": [
    "df['target'] = df.category.map({'sport': 0,'politics':1,'tech':2,'business':3,'entertainment':4})"
   ]
  },
  {
   "cell_type": "code",
   "execution_count": 16,
   "id": "4372ba7f-c3c4-4459-b475-56daeb1e5f72",
   "metadata": {},
   "outputs": [
    {
     "data": {
      "text/html": [
       "<div>\n",
       "<style scoped>\n",
       "    .dataframe tbody tr th:only-of-type {\n",
       "        vertical-align: middle;\n",
       "    }\n",
       "\n",
       "    .dataframe tbody tr th {\n",
       "        vertical-align: top;\n",
       "    }\n",
       "\n",
       "    .dataframe thead th {\n",
       "        text-align: right;\n",
       "    }\n",
       "</style>\n",
       "<table border=\"1\" class=\"dataframe\">\n",
       "  <thead>\n",
       "    <tr style=\"text-align: right;\">\n",
       "      <th></th>\n",
       "      <th>category</th>\n",
       "      <th>text</th>\n",
       "      <th>target</th>\n",
       "    </tr>\n",
       "  </thead>\n",
       "  <tbody>\n",
       "    <tr>\n",
       "      <th>1639</th>\n",
       "      <td>entertainment</td>\n",
       "      <td>spike lee backs student directors film-maker s...</td>\n",
       "      <td>4</td>\n",
       "    </tr>\n",
       "    <tr>\n",
       "      <th>552</th>\n",
       "      <td>sport</td>\n",
       "      <td>tottenham bid &amp;#163;8m for forest duo nottingh...</td>\n",
       "      <td>0</td>\n",
       "    </tr>\n",
       "    <tr>\n",
       "      <th>615</th>\n",
       "      <td>politics</td>\n",
       "      <td>tories unveil quango blitz plans plans to abol...</td>\n",
       "      <td>1</td>\n",
       "    </tr>\n",
       "    <tr>\n",
       "      <th>1879</th>\n",
       "      <td>politics</td>\n",
       "      <td>errors  doomed first dome sale the initial att...</td>\n",
       "      <td>1</td>\n",
       "    </tr>\n",
       "    <tr>\n",
       "      <th>868</th>\n",
       "      <td>entertainment</td>\n",
       "      <td>berlin honours s korean director south korean ...</td>\n",
       "      <td>4</td>\n",
       "    </tr>\n",
       "  </tbody>\n",
       "</table>\n",
       "</div>"
      ],
      "text/plain": [
       "           category                                               text  target\n",
       "1639  entertainment  spike lee backs student directors film-maker s...       4\n",
       "552           sport  tottenham bid &#163;8m for forest duo nottingh...       0\n",
       "615        politics  tories unveil quango blitz plans plans to abol...       1\n",
       "1879       politics  errors  doomed first dome sale the initial att...       1\n",
       "868   entertainment  berlin honours s korean director south korean ...       4"
      ]
     },
     "execution_count": 16,
     "metadata": {},
     "output_type": "execute_result"
    }
   ],
   "source": [
    "df.sample(5)"
   ]
  },
  {
   "cell_type": "markdown",
   "id": "772c3638-7a61-43d6-954f-10d5b57010bd",
   "metadata": {},
   "source": [
    "### Doing Text Cleaning and Pre-Processing "
   ]
  },
  {
   "cell_type": "code",
   "execution_count": 18,
   "id": "7db64a28-b483-4898-a4e7-f6ee3042ef25",
   "metadata": {},
   "outputs": [
    {
     "data": {
      "text/plain": [
       "'0123456789'"
      ]
     },
     "execution_count": 18,
     "metadata": {},
     "output_type": "execute_result"
    }
   ],
   "source": [
    "string.digits"
   ]
  },
  {
   "cell_type": "code",
   "execution_count": 21,
   "id": "064ddfec-6c7f-461c-b810-32d651a2ccba",
   "metadata": {},
   "outputs": [],
   "source": [
    "def remove_digits(text):\n",
    "  if pd.isnull(text):  \n",
    "        return np.nan\n",
    "  text = text.translate(str.maketrans('', '', string.digits))\n",
    "  return text.strip()"
   ]
  },
  {
   "cell_type": "code",
   "execution_count": 22,
   "id": "ca035bc2-3185-4c39-b5f6-53a6ef409d11",
   "metadata": {},
   "outputs": [],
   "source": [
    "df['text']=df['text'].str.lower()\n",
    "df['text']=df['text'].apply(remove_html_tags)\n",
    "df['text']=df['text'].apply(remove_url)\n",
    "df['text']=df['text'].apply(removes_specials)\n",
    "df['text']=df['text'].apply(removes_non_printables)\n",
    "df['text']=df['text'].apply(remove_punctuations)\n",
    "df['text']=df['text'].apply(remove_digits)"
   ]
  },
  {
   "cell_type": "code",
   "execution_count": 23,
   "id": "0e55a623-f10c-459e-bfc8-34c259757517",
   "metadata": {},
   "outputs": [],
   "source": [
    "df['text']=df['text'].apply(preprocesswithlema)"
   ]
  },
  {
   "cell_type": "code",
   "execution_count": 24,
   "id": "203efbe2-9926-4392-80d5-b81bf63d963e",
   "metadata": {},
   "outputs": [
    {
     "data": {
      "text/html": [
       "<div>\n",
       "<style scoped>\n",
       "    .dataframe tbody tr th:only-of-type {\n",
       "        vertical-align: middle;\n",
       "    }\n",
       "\n",
       "    .dataframe tbody tr th {\n",
       "        vertical-align: top;\n",
       "    }\n",
       "\n",
       "    .dataframe thead th {\n",
       "        text-align: right;\n",
       "    }\n",
       "</style>\n",
       "<table border=\"1\" class=\"dataframe\">\n",
       "  <thead>\n",
       "    <tr style=\"text-align: right;\">\n",
       "      <th></th>\n",
       "      <th>category</th>\n",
       "      <th>text</th>\n",
       "      <th>target</th>\n",
       "    </tr>\n",
       "  </thead>\n",
       "  <tbody>\n",
       "    <tr>\n",
       "      <th>4</th>\n",
       "      <td>tech</td>\n",
       "      <td>consumer   snub portable video   consumer want...</td>\n",
       "      <td>2</td>\n",
       "    </tr>\n",
       "    <tr>\n",
       "      <th>512</th>\n",
       "      <td>sport</td>\n",
       "      <td>uefa approve fake grass uefa say allow europea...</td>\n",
       "      <td>0</td>\n",
       "    </tr>\n",
       "    <tr>\n",
       "      <th>1526</th>\n",
       "      <td>politics</td>\n",
       "      <td>cabinet anger brown cash raid minister unhappy...</td>\n",
       "      <td>1</td>\n",
       "    </tr>\n",
       "    <tr>\n",
       "      <th>1776</th>\n",
       "      <td>politics</td>\n",
       "      <td>uk   need true immigration datum   home office...</td>\n",
       "      <td>1</td>\n",
       "    </tr>\n",
       "    <tr>\n",
       "      <th>1781</th>\n",
       "      <td>sport</td>\n",
       "      <td>benitez joy red control liverpool boss rafael ...</td>\n",
       "      <td>0</td>\n",
       "    </tr>\n",
       "  </tbody>\n",
       "</table>\n",
       "</div>"
      ],
      "text/plain": [
       "      category                                               text  target\n",
       "4         tech  consumer   snub portable video   consumer want...       2\n",
       "512      sport  uefa approve fake grass uefa say allow europea...       0\n",
       "1526  politics  cabinet anger brown cash raid minister unhappy...       1\n",
       "1776  politics  uk   need true immigration datum   home office...       1\n",
       "1781     sport  benitez joy red control liverpool boss rafael ...       0"
      ]
     },
     "execution_count": 24,
     "metadata": {},
     "output_type": "execute_result"
    }
   ],
   "source": [
    "df.sample(5)"
   ]
  },
  {
   "cell_type": "markdown",
   "id": "7cc43f9c-7380-4d6d-8ff7-39e094736241",
   "metadata": {},
   "source": [
    "### Dividing Data into Training(80%) And Testing(20%) Sets"
   ]
  },
  {
   "cell_type": "code",
   "execution_count": 25,
   "id": "090f9d87-b3c4-4e06-8c90-ea8a321a8a89",
   "metadata": {},
   "outputs": [],
   "source": [
    "X_train, X_test, y_train, y_test = train_test_split(df['text'], df['target'], test_size=0.2, random_state=42)"
   ]
  },
  {
   "cell_type": "markdown",
   "id": "919b243b-7a46-4f29-ae65-d151e5af4dce",
   "metadata": {},
   "source": [
    "### Training The Model and Printing the Result"
   ]
  },
  {
   "cell_type": "code",
   "execution_count": 31,
   "id": "1a619cff-6cf5-439e-ac69-847899824fc4",
   "metadata": {},
   "outputs": [
    {
     "name": "stdout",
     "output_type": "stream",
     "text": [
      "              precision    recall  f1-score   support\n",
      "\n",
      "           0       0.99      0.99      0.99        77\n",
      "           1       0.96      0.99      0.97        78\n",
      "           2       0.96      0.99      0.97        78\n",
      "           3       0.99      0.95      0.97        77\n",
      "           4       0.99      0.97      0.98        76\n",
      "\n",
      "    accuracy                           0.98       386\n",
      "   macro avg       0.98      0.98      0.98       386\n",
      "weighted avg       0.98      0.98      0.98       386\n",
      "\n",
      "1118    u play grammy awards irish rock band u play li...\n",
      "1654    tv s future phone line internet tv talk start ...\n",
      "1865    bat spit drug firm go market german firm main ...\n",
      "941     trouble marsh sec scrutiny stock market regula...\n",
      "331     window worm travel tetris user warn windows vi...\n",
      "Name: text, dtype: object 1118    4\n",
      "1654    2\n",
      "1865    3\n",
      "941     3\n",
      "331     2\n",
      "Name: target, dtype: int64 [4 2 3 3 2]\n"
     ]
    },
    {
     "data": {
      "image/png": "[encoded data removed]",
      "text/plain": [
       "<Figure size 1000x700 with 2 Axes>"
      ]
     },
     "metadata": {},
     "output_type": "display_data"
    }
   ],
   "source": [
    "pipeline = Pipeline([\n",
    "        ('TFIDFvectorizer', TfidfVectorizer(ngram_range=(1, 3))),\n",
    "        ('LinearSVC', LinearSVC())\n",
    "    ])\n",
    "# Train the model\n",
    "pipeline.fit(X_train, y_train)\n",
    "# Make predictions\n",
    "y_pred = pipeline.predict(X_test)\n",
    "#Print Classification Report\n",
    "print(classification_report(y_test, y_pred,zero_division=0))\n",
    "print(X_test[:5],y_test[:5],y_pred[:5])\n",
    "cm = confusion_matrix(y_test, y_pred)\n",
    "plt.figure(figsize = (10,7))\n",
    "sn.heatmap(cm, annot=True,fmt='d')\n",
    "plt.xlabel('Prediction')\n",
    "plt.ylabel('Truth')\n",
    "plt.show()"
   ]
  },
  {
   "cell_type": "markdown",
   "id": "5c57e22f-31a5-4245-ab16-29f9adc4ef59",
   "metadata": {},
   "source": [
    "### Training Model on Whole Dataset and Saving it"
   ]
  },
  {
   "cell_type": "code",
   "execution_count": 32,
   "id": "8de452f3-de0f-4cc9-860e-bf0d7c66bc3f",
   "metadata": {},
   "outputs": [
    {
     "data": {
      "text/plain": [
       "['text_classification.joblib']"
      ]
     },
     "execution_count": 32,
     "metadata": {},
     "output_type": "execute_result"
    }
   ],
   "source": [
    "pipeline = Pipeline([\n",
    "        ('TFIDFvectorizer', TfidfVectorizer(ngram_range=(1, 3))),\n",
    "        ('LinearSVC', LinearSVC())\n",
    "    ])\n",
    "# Train the model on whole dataset\n",
    "pipeline.fit(df['text'], df['target'])\n",
    "joblib.dump(pipeline, \"text_classification.joblib\")"
   ]
  },
  {
   "cell_type": "markdown",
   "id": "24a3c111-1810-48a3-83b4-448a2ca8ad16",
   "metadata": {},
   "source": [
    "### Doing Prediction Using Saved Model"
   ]
  },
  {
   "cell_type": "code",
   "execution_count": 40,
   "id": "daff52aa-1625-422e-ab80-c83983be6377",
   "metadata": {},
   "outputs": [
    {
     "name": "stdout",
     "output_type": "stream",
     "text": [
      "Prediction for 'competition great': sport\n",
      "Prediction for 'comedy': entertainment\n"
     ]
    }
   ],
   "source": [
    "# Load the saved model from the file\n",
    "loaded_pipeline = joblib.load(\"text_classification.joblib\")\n",
    "\n",
    "# Use the loaded model to make predictions on new data\n",
    "new_data = [\"this competition was great\", \"this is a comedy show\"]\n",
    "a = preprocesswithlema(new_data[0])\n",
    "b = preprocesswithlema(new_data[1])\n",
    "new_data=[a,b]\n",
    "predictions = loaded_pipeline.predict(new_data)\n",
    "# Map predictions to category names\n",
    "dictionary = {0: 'sport', 1: 'politics', 2: 'tech', 3: 'business', 4: 'entertainment'}\n",
    "# Print predictions\n",
    "for i, prediction in enumerate(predictions):\n",
    "    print(f\"Prediction for '{new_data[i]}': {dictionary[prediction]}\")"
   ]
  }
 ],
 "metadata": {
  "kernelspec": {
   "display_name": "Python 3 (ipykernel)",
   "language": "python",
   "name": "python3"
  },
  "language_info": {
   "codemirror_mode": {
    "name": "ipython",
    "version": 3
   },
   "file_extension": ".py",
   "mimetype": "text/x-python",
   "name": "python",
   "nbconvert_exporter": "python",
   "pygments_lexer": "ipython3",
   "version": "3.12.6"
  }
 },
 "nbformat": 4,
 "nbformat_minor": 5
}
