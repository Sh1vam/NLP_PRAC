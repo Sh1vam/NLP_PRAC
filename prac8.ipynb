{
 "cells": [
  {
   "cell_type": "markdown",
   "id": "79014bbc-b398-4f0c-86b9-e5f5eab25992",
   "metadata": {},
   "source": [
    "# Practical 8\n",
    "## Convert text into TF IDF vectors."
   ]
  },
  {
   "cell_type": "code",
   "execution_count": 1,
   "id": "7189214b-13c8-45b0-9faf-3b10934eb17c",
   "metadata": {},
   "outputs": [],
   "source": [
    "from nlp_lib import *"
   ]
  },
  {
   "cell_type": "markdown",
   "id": "6181665c-edd5-4366-85fa-22838d141eed",
   "metadata": {},
   "source": [
    "### Loading Dataset and Analyzing it "
   ]
  },
  {
   "cell_type": "code",
   "execution_count": 2,
   "id": "f577a0a0-1d71-404d-9440-0435c152793d",
   "metadata": {},
   "outputs": [],
   "source": [
    "df=pd.read_csv(\"Ecommerce_data.csv\")"
   ]
  },
  {
   "cell_type": "code",
   "execution_count": 3,
   "id": "da78de98-03ca-4372-bc65-9448c46329b5",
   "metadata": {},
   "outputs": [
    {
     "data": {
      "text/html": [
       "<div>\n",
       "<style scoped>\n",
       "    .dataframe tbody tr th:only-of-type {\n",
       "        vertical-align: middle;\n",
       "    }\n",
       "\n",
       "    .dataframe tbody tr th {\n",
       "        vertical-align: top;\n",
       "    }\n",
       "\n",
       "    .dataframe thead th {\n",
       "        text-align: right;\n",
       "    }\n",
       "</style>\n",
       "<table border=\"1\" class=\"dataframe\">\n",
       "  <thead>\n",
       "    <tr style=\"text-align: right;\">\n",
       "      <th></th>\n",
       "      <th>Text</th>\n",
       "      <th>label</th>\n",
       "    </tr>\n",
       "  </thead>\n",
       "  <tbody>\n",
       "    <tr>\n",
       "      <th>0</th>\n",
       "      <td>Urban Ladder Eisner Low Back Study-Office Comp...</td>\n",
       "      <td>Household</td>\n",
       "    </tr>\n",
       "    <tr>\n",
       "      <th>1</th>\n",
       "      <td>Contrast living Wooden Decorative Box,Painted ...</td>\n",
       "      <td>Household</td>\n",
       "    </tr>\n",
       "    <tr>\n",
       "      <th>2</th>\n",
       "      <td>IO Crest SY-PCI40010 PCI RAID Host Controller ...</td>\n",
       "      <td>Electronics</td>\n",
       "    </tr>\n",
       "    <tr>\n",
       "      <th>3</th>\n",
       "      <td>ISAKAA Baby Socks from Just Born to 8 Years- P...</td>\n",
       "      <td>Clothing &amp; Accessories</td>\n",
       "    </tr>\n",
       "    <tr>\n",
       "      <th>4</th>\n",
       "      <td>Indira Designer Women's Art Mysore Silk Saree ...</td>\n",
       "      <td>Clothing &amp; Accessories</td>\n",
       "    </tr>\n",
       "  </tbody>\n",
       "</table>\n",
       "</div>"
      ],
      "text/plain": [
       "                                                Text                   label\n",
       "0  Urban Ladder Eisner Low Back Study-Office Comp...               Household\n",
       "1  Contrast living Wooden Decorative Box,Painted ...               Household\n",
       "2  IO Crest SY-PCI40010 PCI RAID Host Controller ...             Electronics\n",
       "3  ISAKAA Baby Socks from Just Born to 8 Years- P...  Clothing & Accessories\n",
       "4  Indira Designer Women's Art Mysore Silk Saree ...  Clothing & Accessories"
      ]
     },
     "execution_count": 3,
     "metadata": {},
     "output_type": "execute_result"
    }
   ],
   "source": [
    "df.head()"
   ]
  },
  {
   "cell_type": "code",
   "execution_count": 4,
   "id": "ea44a899-ed95-4728-b28e-b2331ef1a8d4",
   "metadata": {},
   "outputs": [
    {
     "data": {
      "text/plain": [
       "Index(['Text', 'label'], dtype='object')"
      ]
     },
     "execution_count": 4,
     "metadata": {},
     "output_type": "execute_result"
    }
   ],
   "source": [
    "df.columns"
   ]
  },
  {
   "cell_type": "code",
   "execution_count": 5,
   "id": "af48517a-e4ae-48e7-91f3-cf02bdeef060",
   "metadata": {},
   "outputs": [
    {
     "data": {
      "text/plain": [
       "(24000, 2)"
      ]
     },
     "execution_count": 5,
     "metadata": {},
     "output_type": "execute_result"
    }
   ],
   "source": [
    "df.shape"
   ]
  },
  {
   "cell_type": "code",
   "execution_count": 6,
   "id": "76ca6c6b-13b6-4c79-91d7-365cdc777539",
   "metadata": {},
   "outputs": [
    {
     "data": {
      "text/plain": [
       "label\n",
       "Household                 6000\n",
       "Electronics               6000\n",
       "Clothing & Accessories    6000\n",
       "Books                     6000\n",
       "Name: count, dtype: int64"
      ]
     },
     "execution_count": 6,
     "metadata": {},
     "output_type": "execute_result"
    }
   ],
   "source": [
    "df.label.value_counts()"
   ]
  },
  {
   "cell_type": "code",
   "execution_count": 7,
   "id": "2a4d906b-5b4e-4bb0-abc9-d9e70586590f",
   "metadata": {},
   "outputs": [
    {
     "data": {
      "text/html": [
       "<div>\n",
       "<style scoped>\n",
       "    .dataframe tbody tr th:only-of-type {\n",
       "        vertical-align: middle;\n",
       "    }\n",
       "\n",
       "    .dataframe tbody tr th {\n",
       "        vertical-align: top;\n",
       "    }\n",
       "\n",
       "    .dataframe thead th {\n",
       "        text-align: right;\n",
       "    }\n",
       "</style>\n",
       "<table border=\"1\" class=\"dataframe\">\n",
       "  <thead>\n",
       "    <tr style=\"text-align: right;\">\n",
       "      <th></th>\n",
       "      <th>Text</th>\n",
       "      <th>label</th>\n",
       "    </tr>\n",
       "  </thead>\n",
       "  <tbody>\n",
       "    <tr>\n",
       "      <th>0</th>\n",
       "      <td>Urban Ladder Eisner Low Back Study-Office Comp...</td>\n",
       "      <td>Household</td>\n",
       "    </tr>\n",
       "    <tr>\n",
       "      <th>1</th>\n",
       "      <td>Contrast living Wooden Decorative Box,Painted ...</td>\n",
       "      <td>Household</td>\n",
       "    </tr>\n",
       "    <tr>\n",
       "      <th>2</th>\n",
       "      <td>IO Crest SY-PCI40010 PCI RAID Host Controller ...</td>\n",
       "      <td>Electronics</td>\n",
       "    </tr>\n",
       "    <tr>\n",
       "      <th>3</th>\n",
       "      <td>ISAKAA Baby Socks from Just Born to 8 Years- P...</td>\n",
       "      <td>Clothing &amp; Accessories</td>\n",
       "    </tr>\n",
       "    <tr>\n",
       "      <th>4</th>\n",
       "      <td>Indira Designer Women's Art Mysore Silk Saree ...</td>\n",
       "      <td>Clothing &amp; Accessories</td>\n",
       "    </tr>\n",
       "  </tbody>\n",
       "</table>\n",
       "</div>"
      ],
      "text/plain": [
       "                                                Text                   label\n",
       "0  Urban Ladder Eisner Low Back Study-Office Comp...               Household\n",
       "1  Contrast living Wooden Decorative Box,Painted ...               Household\n",
       "2  IO Crest SY-PCI40010 PCI RAID Host Controller ...             Electronics\n",
       "3  ISAKAA Baby Socks from Just Born to 8 Years- P...  Clothing & Accessories\n",
       "4  Indira Designer Women's Art Mysore Silk Saree ...  Clothing & Accessories"
      ]
     },
     "execution_count": 7,
     "metadata": {},
     "output_type": "execute_result"
    }
   ],
   "source": [
    "df.head()"
   ]
  },
  {
   "cell_type": "markdown",
   "id": "272d8746-0be9-4337-a60e-a2a34d5281be",
   "metadata": {},
   "source": [
    "### Label Mapping Of Dataset's Target Value"
   ]
  },
  {
   "cell_type": "code",
   "execution_count": 8,
   "id": "4236f1f4-5cbe-421b-9fe2-398067b3622d",
   "metadata": {},
   "outputs": [],
   "source": [
    "df[\"Label_map\"]=df[\"label\"].map({\"Household\":0,\"Electronics\":1,\"Clothing & Accessories\":2,\"Books\":3})"
   ]
  },
  {
   "cell_type": "code",
   "execution_count": 9,
   "id": "ce902537-03c9-4bfd-aacf-e802433afffd",
   "metadata": {},
   "outputs": [
    {
     "data": {
      "text/html": [
       "<div>\n",
       "<style scoped>\n",
       "    .dataframe tbody tr th:only-of-type {\n",
       "        vertical-align: middle;\n",
       "    }\n",
       "\n",
       "    .dataframe tbody tr th {\n",
       "        vertical-align: top;\n",
       "    }\n",
       "\n",
       "    .dataframe thead th {\n",
       "        text-align: right;\n",
       "    }\n",
       "</style>\n",
       "<table border=\"1\" class=\"dataframe\">\n",
       "  <thead>\n",
       "    <tr style=\"text-align: right;\">\n",
       "      <th></th>\n",
       "      <th>Text</th>\n",
       "      <th>label</th>\n",
       "      <th>Label_map</th>\n",
       "    </tr>\n",
       "  </thead>\n",
       "  <tbody>\n",
       "    <tr>\n",
       "      <th>0</th>\n",
       "      <td>Urban Ladder Eisner Low Back Study-Office Comp...</td>\n",
       "      <td>Household</td>\n",
       "      <td>0</td>\n",
       "    </tr>\n",
       "    <tr>\n",
       "      <th>1</th>\n",
       "      <td>Contrast living Wooden Decorative Box,Painted ...</td>\n",
       "      <td>Household</td>\n",
       "      <td>0</td>\n",
       "    </tr>\n",
       "    <tr>\n",
       "      <th>2</th>\n",
       "      <td>IO Crest SY-PCI40010 PCI RAID Host Controller ...</td>\n",
       "      <td>Electronics</td>\n",
       "      <td>1</td>\n",
       "    </tr>\n",
       "    <tr>\n",
       "      <th>3</th>\n",
       "      <td>ISAKAA Baby Socks from Just Born to 8 Years- P...</td>\n",
       "      <td>Clothing &amp; Accessories</td>\n",
       "      <td>2</td>\n",
       "    </tr>\n",
       "    <tr>\n",
       "      <th>4</th>\n",
       "      <td>Indira Designer Women's Art Mysore Silk Saree ...</td>\n",
       "      <td>Clothing &amp; Accessories</td>\n",
       "      <td>2</td>\n",
       "    </tr>\n",
       "  </tbody>\n",
       "</table>\n",
       "</div>"
      ],
      "text/plain": [
       "                                                Text                   label  \\\n",
       "0  Urban Ladder Eisner Low Back Study-Office Comp...               Household   \n",
       "1  Contrast living Wooden Decorative Box,Painted ...               Household   \n",
       "2  IO Crest SY-PCI40010 PCI RAID Host Controller ...             Electronics   \n",
       "3  ISAKAA Baby Socks from Just Born to 8 Years- P...  Clothing & Accessories   \n",
       "4  Indira Designer Women's Art Mysore Silk Saree ...  Clothing & Accessories   \n",
       "\n",
       "   Label_map  \n",
       "0          0  \n",
       "1          0  \n",
       "2          1  \n",
       "3          2  \n",
       "4          2  "
      ]
     },
     "execution_count": 9,
     "metadata": {},
     "output_type": "execute_result"
    }
   ],
   "source": [
    "df.head()"
   ]
  },
  {
   "cell_type": "markdown",
   "id": "566b3e62-bfe5-4803-ae8b-4ed06c100e59",
   "metadata": {},
   "source": [
    "### Importing Different Classifiers for Model Training"
   ]
  },
  {
   "cell_type": "code",
   "execution_count": 10,
   "id": "fc77bdbe-55d0-47e1-b9bc-039acfea8f28",
   "metadata": {},
   "outputs": [],
   "source": [
    "from sklearn.naive_bayes import MultinomialNB\n",
    "from sklearn.tree import DecisionTreeClassifier\n",
    "from sklearn.linear_model import LogisticRegression, LinearRegression\n",
    "from sklearn.neighbors import KNeighborsClassifier\n",
    "from sklearn.svm import *\n",
    "from sklearn.pipeline import Pipeline\n",
    "from sklearn.feature_extraction.text import CountVectorizer\n",
    "from sklearn.ensemble import RandomForestClassifier\n",
    "from sklearn.metrics import classification_report\n",
    "from sklearn.model_selection import train_test_split\n",
    "from sklearn.feature_extraction.text import TfidfVectorizer "
   ]
  },
  {
   "cell_type": "markdown",
   "id": "b732116f-4e96-4368-a1b6-8f6cb84132e7",
   "metadata": {},
   "source": [
    "### Splitting Data into Training & Testing Dataset"
   ]
  },
  {
   "cell_type": "code",
   "execution_count": 11,
   "id": "f76ab22c-ee39-49e1-88be-b1a054a188bb",
   "metadata": {},
   "outputs": [],
   "source": [
    "x_train, x_test, y_train, y_test = train_test_split(df['Text'],\n",
    "                                                    df.Label_map,\n",
    "                                                    test_size=0.2,\n",
    "                                                    random_state=2022,\n",
    "                                                    stratify=df.Label_map)"
   ]
  },
  {
   "cell_type": "code",
   "execution_count": 12,
   "id": "10359c17-dea3-46ea-918d-d80f7c908a76",
   "metadata": {},
   "outputs": [
    {
     "name": "stdout",
     "output_type": "stream",
     "text": [
      "(19200,) (4800,)\n"
     ]
    }
   ],
   "source": [
    "print(x_train.shape, x_test.shape)"
   ]
  },
  {
   "cell_type": "code",
   "execution_count": 13,
   "id": "5d43f142-2192-40e1-a40c-9a8b6f4ab4fe",
   "metadata": {},
   "outputs": [
    {
     "data": {
      "text/plain": [
       "15820    IRIS Furniture Children Deluxe Spiderman Toddl...\n",
       "23276                     Rupa Thermocot Men's Thermal Top\n",
       "4959     Kuchipoo Front Open Kids Thermal Top & Pyjama ...\n",
       "15245    Spread Spain Metallic Gold Bar Trolley/Kitchen...\n",
       "5104     Adulthood Is a Myth: A Sarah's Scribbles Colle...\n",
       "Name: Text, dtype: object"
      ]
     },
     "execution_count": 13,
     "metadata": {},
     "output_type": "execute_result"
    }
   ],
   "source": [
    "x_train.head()"
   ]
  },
  {
   "cell_type": "code",
   "execution_count": 14,
   "id": "0bba2be2-d4f9-4942-bf11-b200fd822adc",
   "metadata": {},
   "outputs": [
    {
     "data": {
      "text/plain": [
       "Label_map\n",
       "0    4800\n",
       "2    4800\n",
       "3    4800\n",
       "1    4800\n",
       "Name: count, dtype: int64"
      ]
     },
     "execution_count": 14,
     "metadata": {},
     "output_type": "execute_result"
    }
   ],
   "source": [
    "y_train.value_counts()"
   ]
  },
  {
   "cell_type": "code",
   "execution_count": 15,
   "id": "45fa759d-2b8a-4666-a289-8ba380b4a827",
   "metadata": {},
   "outputs": [
    {
     "data": {
      "text/plain": [
       "20706    Lal Haveli Designer Handmade Patchwork Decorat...\n",
       "19008    tirupur fashion biz Girls and Kids Solid Cotto...\n",
       "14810    Modern Linguistics: An Introduction About The ...\n",
       "2451     AmazonBasics Apple Certified 30-Pin to USB Cab...\n",
       "6296     The Marine Corps Martial Arts Program: The Com...\n",
       "Name: Text, dtype: object"
      ]
     },
     "execution_count": 15,
     "metadata": {},
     "output_type": "execute_result"
    }
   ],
   "source": [
    "x_test.head()"
   ]
  },
  {
   "cell_type": "code",
   "execution_count": 16,
   "id": "1f10dacc-55b4-4431-bbf0-6b14034453db",
   "metadata": {},
   "outputs": [
    {
     "data": {
      "text/plain": [
       "Label_map\n",
       "0    1200\n",
       "2    1200\n",
       "3    1200\n",
       "1    1200\n",
       "Name: count, dtype: int64"
      ]
     },
     "execution_count": 16,
     "metadata": {},
     "output_type": "execute_result"
    }
   ],
   "source": [
    "y_test.value_counts()"
   ]
  },
  {
   "cell_type": "markdown",
   "id": "82bb0c89-0ab9-41d3-9e9c-85cbdd0058ef",
   "metadata": {},
   "source": [
    "### Training Model on Raw Dataset"
   ]
  },
  {
   "cell_type": "code",
   "execution_count": 20,
   "id": "7d7c05e3-509f-4892-9c20-0b4057d5a740",
   "metadata": {},
   "outputs": [
    {
     "name": "stdout",
     "output_type": "stream",
     "text": [
      "\n",
      "Training with KNeighborsClassifier\n",
      "Results for KNeighborsClassifier:\n",
      "              precision    recall  f1-score   support\n",
      "\n",
      "           0       0.95      0.96      0.95      1200\n",
      "           1       0.96      0.97      0.97      1200\n",
      "           2       0.97      0.98      0.98      1200\n",
      "           3       0.98      0.95      0.96      1200\n",
      "\n",
      "    accuracy                           0.97      4800\n",
      "   macro avg       0.97      0.97      0.97      4800\n",
      "weighted avg       0.97      0.97      0.97      4800\n",
      "\n",
      "20706    Lal Haveli Designer Handmade Patchwork Decorat...\n",
      "19008    tirupur fashion biz Girls and Kids Solid Cotto...\n",
      "14810    Modern Linguistics: An Introduction About The ...\n",
      "2451     AmazonBasics Apple Certified 30-Pin to USB Cab...\n",
      "6296     The Marine Corps Martial Arts Program: The Com...\n",
      "Name: Text, dtype: object 20706    0\n",
      "19008    2\n",
      "14810    3\n",
      "2451     1\n",
      "6296     3\n",
      "Name: Label_map, dtype: int64 [0 2 3 1 3]\n",
      "\n",
      "Training with DecisionTreeClassifier\n",
      "Results for DecisionTreeClassifier:\n",
      "              precision    recall  f1-score   support\n",
      "\n",
      "           0       0.92      0.92      0.92      1200\n",
      "           1       0.94      0.95      0.95      1200\n",
      "           2       0.97      0.95      0.96      1200\n",
      "           3       0.96      0.96      0.96      1200\n",
      "\n",
      "    accuracy                           0.95      4800\n",
      "   macro avg       0.95      0.95      0.95      4800\n",
      "weighted avg       0.95      0.95      0.95      4800\n",
      "\n",
      "20706    Lal Haveli Designer Handmade Patchwork Decorat...\n",
      "19008    tirupur fashion biz Girls and Kids Solid Cotto...\n",
      "14810    Modern Linguistics: An Introduction About The ...\n",
      "2451     AmazonBasics Apple Certified 30-Pin to USB Cab...\n",
      "6296     The Marine Corps Martial Arts Program: The Com...\n",
      "Name: Text, dtype: object 20706    0\n",
      "19008    2\n",
      "14810    3\n",
      "2451     1\n",
      "6296     3\n",
      "Name: Label_map, dtype: int64 [0 2 3 1 3]\n",
      "\n",
      "Training with LogisticRegression\n",
      "Results for LogisticRegression:\n",
      "              precision    recall  f1-score   support\n",
      "\n",
      "           0       0.96      0.97      0.97      1200\n",
      "           1       0.97      0.97      0.97      1200\n",
      "           2       0.98      0.98      0.98      1200\n",
      "           3       0.97      0.95      0.96      1200\n",
      "\n",
      "    accuracy                           0.97      4800\n",
      "   macro avg       0.97      0.97      0.97      4800\n",
      "weighted avg       0.97      0.97      0.97      4800\n",
      "\n",
      "20706    Lal Haveli Designer Handmade Patchwork Decorat...\n",
      "19008    tirupur fashion biz Girls and Kids Solid Cotto...\n",
      "14810    Modern Linguistics: An Introduction About The ...\n",
      "2451     AmazonBasics Apple Certified 30-Pin to USB Cab...\n",
      "6296     The Marine Corps Martial Arts Program: The Com...\n",
      "Name: Text, dtype: object 20706    0\n",
      "19008    2\n",
      "14810    3\n",
      "2451     1\n",
      "6296     3\n",
      "Name: Label_map, dtype: int64 [0 2 3 1 3]\n",
      "\n",
      "Training with LinearSVM\n",
      "Results for LinearSVM:\n",
      "              precision    recall  f1-score   support\n",
      "\n",
      "           0       0.98      0.98      0.98      1200\n",
      "           1       0.98      0.98      0.98      1200\n",
      "           2       0.99      0.99      0.99      1200\n",
      "           3       0.98      0.98      0.98      1200\n",
      "\n",
      "    accuracy                           0.98      4800\n",
      "   macro avg       0.98      0.98      0.98      4800\n",
      "weighted avg       0.98      0.98      0.98      4800\n",
      "\n",
      "20706    Lal Haveli Designer Handmade Patchwork Decorat...\n",
      "19008    tirupur fashion biz Girls and Kids Solid Cotto...\n",
      "14810    Modern Linguistics: An Introduction About The ...\n",
      "2451     AmazonBasics Apple Certified 30-Pin to USB Cab...\n",
      "6296     The Marine Corps Martial Arts Program: The Com...\n",
      "Name: Text, dtype: object 20706    0\n",
      "19008    2\n",
      "14810    3\n",
      "2451     1\n",
      "6296     3\n",
      "Name: Label_map, dtype: int64 [0 2 3 1 3]\n",
      "\n",
      "Training with MultinomialNB\n",
      "Results for MultinomialNB:\n",
      "              precision    recall  f1-score   support\n",
      "\n",
      "           0       0.93      0.96      0.95      1200\n",
      "           1       0.96      0.96      0.96      1200\n",
      "           2       0.97      0.98      0.98      1200\n",
      "           3       0.98      0.93      0.95      1200\n",
      "\n",
      "    accuracy                           0.96      4800\n",
      "   macro avg       0.96      0.96      0.96      4800\n",
      "weighted avg       0.96      0.96      0.96      4800\n",
      "\n",
      "20706    Lal Haveli Designer Handmade Patchwork Decorat...\n",
      "19008    tirupur fashion biz Girls and Kids Solid Cotto...\n",
      "14810    Modern Linguistics: An Introduction About The ...\n",
      "2451     AmazonBasics Apple Certified 30-Pin to USB Cab...\n",
      "6296     The Marine Corps Martial Arts Program: The Com...\n",
      "Name: Text, dtype: object 20706    0\n",
      "19008    2\n",
      "14810    3\n",
      "2451     1\n",
      "6296     3\n",
      "Name: Label_map, dtype: int64 [0 2 3 1 3]\n",
      "\n",
      "Training with RandomForestClassifier\n",
      "Results for RandomForestClassifier:\n",
      "              precision    recall  f1-score   support\n",
      "\n",
      "           0       0.96      0.96      0.96      1200\n",
      "           1       0.97      0.98      0.97      1200\n",
      "           2       0.98      0.99      0.99      1200\n",
      "           3       0.98      0.97      0.97      1200\n",
      "\n",
      "    accuracy                           0.97      4800\n",
      "   macro avg       0.97      0.97      0.97      4800\n",
      "weighted avg       0.97      0.97      0.97      4800\n",
      "\n",
      "20706    Lal Haveli Designer Handmade Patchwork Decorat...\n",
      "19008    tirupur fashion biz Girls and Kids Solid Cotto...\n",
      "14810    Modern Linguistics: An Introduction About The ...\n",
      "2451     AmazonBasics Apple Certified 30-Pin to USB Cab...\n",
      "6296     The Marine Corps Martial Arts Program: The Com...\n",
      "Name: Text, dtype: object 20706    0\n",
      "19008    2\n",
      "14810    3\n",
      "2451     1\n",
      "6296     3\n",
      "Name: Label_map, dtype: int64 [0 2 3 1 3]\n"
     ]
    }
   ],
   "source": [
    "classifiers = {\n",
    "    'KNeighborsClassifier': KNeighborsClassifier(),#n_neighbors=10,metric=\"cosine\"),#n_neighbors=3,metric=\"euclideian\" weights='distance', algorithm='auto', p=2\n",
    "    'DecisionTreeClassifier': DecisionTreeClassifier(),#criterion='entropy', max_depth=10, min_samples_split=4\n",
    "    'LogisticRegression': LogisticRegression(),\n",
    "    'LinearSVM': LinearSVC(),\n",
    "    'MultinomialNB':MultinomialNB(),\n",
    "    \"RandomForestClassifier\" :RandomForestClassifier()\n",
    "}\n",
    "\n",
    "# Loop through classifiers and train each\n",
    "for name, clf in classifiers.items():\n",
    "    print(f\"\\nTraining with {name}\")\n",
    "    \n",
    "    # Create pipeline for each classifier\n",
    "    pipeline = Pipeline([('TfIdfVectorizer', TfidfVectorizer()),('classifier', clf)])\n",
    "    \n",
    "    # Train the model\n",
    "    pipeline.fit(x_train, y_train)\n",
    "    \n",
    "    # Make predictions\n",
    "    y_pred = pipeline.predict(x_test)\n",
    "    \n",
    "    # Print classification report\n",
    "    print(f\"Results for {name}:\")\n",
    "    print(classification_report(y_test, y_pred,zero_division=0))\n",
    "    print(x_test[:5],y_test[:5],y_pred[:5])"
   ]
  },
  {
   "cell_type": "markdown",
   "id": "e60959b4-307c-4a54-975f-a9ffcabbf263",
   "metadata": {},
   "source": [
    "### Imports For Graphical Representation of Confusion Matrix"
   ]
  },
  {
   "cell_type": "code",
   "execution_count": 21,
   "id": "4742b3da-c5d6-4aa5-9235-d1732337cd7c",
   "metadata": {},
   "outputs": [],
   "source": [
    "from matplotlib import pyplot as plt\n",
    "import seaborn as sn\n",
    "from sklearn.metrics import confusion_matrix"
   ]
  },
  {
   "cell_type": "markdown",
   "id": "0646c755-28b2-49c6-93e3-b495e967da55",
   "metadata": {},
   "source": [
    "### Doing Text Pre-Processing and then Training Model again with above classifiers"
   ]
  },
  {
   "cell_type": "code",
   "execution_count": 22,
   "id": "77db0cf4-5c07-45e4-895c-23b52ba94da6",
   "metadata": {},
   "outputs": [],
   "source": [
    "df[\"Text\"]=df[\"Text\"].str.lower()"
   ]
  },
  {
   "cell_type": "code",
   "execution_count": 23,
   "id": "a1806b94-356b-4f34-9c7f-e80e3ef4d8b1",
   "metadata": {},
   "outputs": [],
   "source": [
    "df['Text']=df['Text'].apply(removes_specials)"
   ]
  },
  {
   "cell_type": "code",
   "execution_count": 24,
   "id": "e381f5b5-e91a-484c-bbed-70df72dc7293",
   "metadata": {},
   "outputs": [],
   "source": [
    "df['Text']=df['Text'].apply(remove_stopwords)"
   ]
  },
  {
   "cell_type": "code",
   "execution_count": 25,
   "id": "bf07fc9b-05c1-426c-91b6-51acc7964eb3",
   "metadata": {},
   "outputs": [],
   "source": [
    "df['Text']=df['Text'].apply(tokenized_text)"
   ]
  },
  {
   "cell_type": "code",
   "execution_count": 26,
   "id": "a110c14c-04a0-4166-bf85-b6e10384e702",
   "metadata": {},
   "outputs": [
    {
     "data": {
      "text/html": [
       "<div>\n",
       "<style scoped>\n",
       "    .dataframe tbody tr th:only-of-type {\n",
       "        vertical-align: middle;\n",
       "    }\n",
       "\n",
       "    .dataframe tbody tr th {\n",
       "        vertical-align: top;\n",
       "    }\n",
       "\n",
       "    .dataframe thead th {\n",
       "        text-align: right;\n",
       "    }\n",
       "</style>\n",
       "<table border=\"1\" class=\"dataframe\">\n",
       "  <thead>\n",
       "    <tr style=\"text-align: right;\">\n",
       "      <th></th>\n",
       "      <th>Text</th>\n",
       "      <th>label</th>\n",
       "      <th>Label_map</th>\n",
       "    </tr>\n",
       "  </thead>\n",
       "  <tbody>\n",
       "    <tr>\n",
       "      <th>0</th>\n",
       "      <td>[urban, ladder, eisner, low, back, studyoffice...</td>\n",
       "      <td>Household</td>\n",
       "      <td>0</td>\n",
       "    </tr>\n",
       "    <tr>\n",
       "      <th>1</th>\n",
       "      <td>[contrast, living, wooden, decorative, boxpain...</td>\n",
       "      <td>Household</td>\n",
       "      <td>0</td>\n",
       "    </tr>\n",
       "    <tr>\n",
       "      <th>2</th>\n",
       "      <td>[io, crest, sypci40010, pci, raid, host, contr...</td>\n",
       "      <td>Electronics</td>\n",
       "      <td>1</td>\n",
       "    </tr>\n",
       "    <tr>\n",
       "      <th>3</th>\n",
       "      <td>[isakaa, baby, socks, born, 8, years, pack, 4,...</td>\n",
       "      <td>Clothing &amp; Accessories</td>\n",
       "      <td>2</td>\n",
       "    </tr>\n",
       "    <tr>\n",
       "      <th>4</th>\n",
       "      <td>[indira, designer, womens, art, mysore, silk, ...</td>\n",
       "      <td>Clothing &amp; Accessories</td>\n",
       "      <td>2</td>\n",
       "    </tr>\n",
       "  </tbody>\n",
       "</table>\n",
       "</div>"
      ],
      "text/plain": [
       "                                                Text                   label  \\\n",
       "0  [urban, ladder, eisner, low, back, studyoffice...               Household   \n",
       "1  [contrast, living, wooden, decorative, boxpain...               Household   \n",
       "2  [io, crest, sypci40010, pci, raid, host, contr...             Electronics   \n",
       "3  [isakaa, baby, socks, born, 8, years, pack, 4,...  Clothing & Accessories   \n",
       "4  [indira, designer, womens, art, mysore, silk, ...  Clothing & Accessories   \n",
       "\n",
       "   Label_map  \n",
       "0          0  \n",
       "1          0  \n",
       "2          1  \n",
       "3          2  \n",
       "4          2  "
      ]
     },
     "execution_count": 26,
     "metadata": {},
     "output_type": "execute_result"
    }
   ],
   "source": [
    "df.head()"
   ]
  },
  {
   "cell_type": "code",
   "execution_count": 28,
   "id": "4b864945-0e93-48c7-bb7f-4fff4d96bce3",
   "metadata": {},
   "outputs": [],
   "source": [
    "df['text']=df['Text'].apply(wordnet_lemmatizing)"
   ]
  },
  {
   "cell_type": "code",
   "execution_count": 29,
   "id": "4743646b-e62b-4385-829c-6aa469ed866f",
   "metadata": {},
   "outputs": [
    {
     "data": {
      "text/html": [
       "<div>\n",
       "<style scoped>\n",
       "    .dataframe tbody tr th:only-of-type {\n",
       "        vertical-align: middle;\n",
       "    }\n",
       "\n",
       "    .dataframe tbody tr th {\n",
       "        vertical-align: top;\n",
       "    }\n",
       "\n",
       "    .dataframe thead th {\n",
       "        text-align: right;\n",
       "    }\n",
       "</style>\n",
       "<table border=\"1\" class=\"dataframe\">\n",
       "  <thead>\n",
       "    <tr style=\"text-align: right;\">\n",
       "      <th></th>\n",
       "      <th>Text</th>\n",
       "      <th>label</th>\n",
       "      <th>Label_map</th>\n",
       "      <th>text</th>\n",
       "    </tr>\n",
       "  </thead>\n",
       "  <tbody>\n",
       "    <tr>\n",
       "      <th>0</th>\n",
       "      <td>[urban, ladder, eisner, low, back, studyoffice...</td>\n",
       "      <td>Household</td>\n",
       "      <td>0</td>\n",
       "      <td>[urban, ladder, eisner, low, back, studyoffice...</td>\n",
       "    </tr>\n",
       "    <tr>\n",
       "      <th>1</th>\n",
       "      <td>[contrast, living, wooden, decorative, boxpain...</td>\n",
       "      <td>Household</td>\n",
       "      <td>0</td>\n",
       "      <td>[contrast, living, wooden, decorative, boxpain...</td>\n",
       "    </tr>\n",
       "    <tr>\n",
       "      <th>2</th>\n",
       "      <td>[io, crest, sypci40010, pci, raid, host, contr...</td>\n",
       "      <td>Electronics</td>\n",
       "      <td>1</td>\n",
       "      <td>[io, crest, sypci40010, pci, raid, host, contr...</td>\n",
       "    </tr>\n",
       "    <tr>\n",
       "      <th>3</th>\n",
       "      <td>[isakaa, baby, socks, born, 8, years, pack, 4,...</td>\n",
       "      <td>Clothing &amp; Accessories</td>\n",
       "      <td>2</td>\n",
       "      <td>[isakaa, baby, sock, born, 8, year, pack, 4, 6...</td>\n",
       "    </tr>\n",
       "    <tr>\n",
       "      <th>4</th>\n",
       "      <td>[indira, designer, womens, art, mysore, silk, ...</td>\n",
       "      <td>Clothing &amp; Accessories</td>\n",
       "      <td>2</td>\n",
       "      <td>[indira, designer, womens, art, mysore, silk, ...</td>\n",
       "    </tr>\n",
       "  </tbody>\n",
       "</table>\n",
       "</div>"
      ],
      "text/plain": [
       "                                                Text                   label  \\\n",
       "0  [urban, ladder, eisner, low, back, studyoffice...               Household   \n",
       "1  [contrast, living, wooden, decorative, boxpain...               Household   \n",
       "2  [io, crest, sypci40010, pci, raid, host, contr...             Electronics   \n",
       "3  [isakaa, baby, socks, born, 8, years, pack, 4,...  Clothing & Accessories   \n",
       "4  [indira, designer, womens, art, mysore, silk, ...  Clothing & Accessories   \n",
       "\n",
       "   Label_map                                               text  \n",
       "0          0  [urban, ladder, eisner, low, back, studyoffice...  \n",
       "1          0  [contrast, living, wooden, decorative, boxpain...  \n",
       "2          1  [io, crest, sypci40010, pci, raid, host, contr...  \n",
       "3          2  [isakaa, baby, sock, born, 8, year, pack, 4, 6...  \n",
       "4          2  [indira, designer, womens, art, mysore, silk, ...  "
      ]
     },
     "execution_count": 29,
     "metadata": {},
     "output_type": "execute_result"
    }
   ],
   "source": [
    "df.head()"
   ]
  },
  {
   "cell_type": "code",
   "execution_count": 30,
   "id": "e1a8e9d3-df6f-4bd8-907a-84770ce276bc",
   "metadata": {},
   "outputs": [],
   "source": [
    "df['text_join']=df['text'].apply(lambda x: \" \".join(x))"
   ]
  },
  {
   "cell_type": "code",
   "execution_count": 31,
   "id": "06f467e3-693a-46e8-b714-5270e63ffca5",
   "metadata": {},
   "outputs": [
    {
     "data": {
      "text/html": [
       "<div>\n",
       "<style scoped>\n",
       "    .dataframe tbody tr th:only-of-type {\n",
       "        vertical-align: middle;\n",
       "    }\n",
       "\n",
       "    .dataframe tbody tr th {\n",
       "        vertical-align: top;\n",
       "    }\n",
       "\n",
       "    .dataframe thead th {\n",
       "        text-align: right;\n",
       "    }\n",
       "</style>\n",
       "<table border=\"1\" class=\"dataframe\">\n",
       "  <thead>\n",
       "    <tr style=\"text-align: right;\">\n",
       "      <th></th>\n",
       "      <th>Text</th>\n",
       "      <th>label</th>\n",
       "      <th>Label_map</th>\n",
       "      <th>text</th>\n",
       "      <th>text_join</th>\n",
       "    </tr>\n",
       "  </thead>\n",
       "  <tbody>\n",
       "    <tr>\n",
       "      <th>0</th>\n",
       "      <td>[urban, ladder, eisner, low, back, studyoffice...</td>\n",
       "      <td>Household</td>\n",
       "      <td>0</td>\n",
       "      <td>[urban, ladder, eisner, low, back, studyoffice...</td>\n",
       "      <td>urban ladder eisner low back studyoffice compu...</td>\n",
       "    </tr>\n",
       "    <tr>\n",
       "      <th>1</th>\n",
       "      <td>[contrast, living, wooden, decorative, boxpain...</td>\n",
       "      <td>Household</td>\n",
       "      <td>0</td>\n",
       "      <td>[contrast, living, wooden, decorative, boxpain...</td>\n",
       "      <td>contrast living wooden decorative boxpainted b...</td>\n",
       "    </tr>\n",
       "    <tr>\n",
       "      <th>2</th>\n",
       "      <td>[io, crest, sypci40010, pci, raid, host, contr...</td>\n",
       "      <td>Electronics</td>\n",
       "      <td>1</td>\n",
       "      <td>[io, crest, sypci40010, pci, raid, host, contr...</td>\n",
       "      <td>io crest sypci40010 pci raid host controller c...</td>\n",
       "    </tr>\n",
       "    <tr>\n",
       "      <th>3</th>\n",
       "      <td>[isakaa, baby, socks, born, 8, years, pack, 4,...</td>\n",
       "      <td>Clothing &amp; Accessories</td>\n",
       "      <td>2</td>\n",
       "      <td>[isakaa, baby, sock, born, 8, year, pack, 4, 6...</td>\n",
       "      <td>isakaa baby sock born 8 year pack 4 6 8 12 isa...</td>\n",
       "    </tr>\n",
       "    <tr>\n",
       "      <th>4</th>\n",
       "      <td>[indira, designer, womens, art, mysore, silk, ...</td>\n",
       "      <td>Clothing &amp; Accessories</td>\n",
       "      <td>2</td>\n",
       "      <td>[indira, designer, womens, art, mysore, silk, ...</td>\n",
       "      <td>indira designer womens art mysore silk saree b...</td>\n",
       "    </tr>\n",
       "  </tbody>\n",
       "</table>\n",
       "</div>"
      ],
      "text/plain": [
       "                                                Text                   label  \\\n",
       "0  [urban, ladder, eisner, low, back, studyoffice...               Household   \n",
       "1  [contrast, living, wooden, decorative, boxpain...               Household   \n",
       "2  [io, crest, sypci40010, pci, raid, host, contr...             Electronics   \n",
       "3  [isakaa, baby, socks, born, 8, years, pack, 4,...  Clothing & Accessories   \n",
       "4  [indira, designer, womens, art, mysore, silk, ...  Clothing & Accessories   \n",
       "\n",
       "   Label_map                                               text  \\\n",
       "0          0  [urban, ladder, eisner, low, back, studyoffice...   \n",
       "1          0  [contrast, living, wooden, decorative, boxpain...   \n",
       "2          1  [io, crest, sypci40010, pci, raid, host, contr...   \n",
       "3          2  [isakaa, baby, sock, born, 8, year, pack, 4, 6...   \n",
       "4          2  [indira, designer, womens, art, mysore, silk, ...   \n",
       "\n",
       "                                           text_join  \n",
       "0  urban ladder eisner low back studyoffice compu...  \n",
       "1  contrast living wooden decorative boxpainted b...  \n",
       "2  io crest sypci40010 pci raid host controller c...  \n",
       "3  isakaa baby sock born 8 year pack 4 6 8 12 isa...  \n",
       "4  indira designer womens art mysore silk saree b...  "
      ]
     },
     "execution_count": 31,
     "metadata": {},
     "output_type": "execute_result"
    }
   ],
   "source": [
    "df.head()"
   ]
  },
  {
   "cell_type": "code",
   "execution_count": 32,
   "id": "fff9c7ff-8d22-4491-9fd1-f2fd456c2a61",
   "metadata": {},
   "outputs": [],
   "source": [
    "#Do the 'train-test' splitting with test size of 20% with random state of 2022 and stratify sampling too\n",
    "#Note: Make sure to use only the \"preprocessed_txt\" column for splitting\n",
    "#X_train, X_test,\n",
    "x_train, x_test, y_train, y_test = train_test_split(\n",
    "    df['text_join'], \n",
    "    df.Label_map,\n",
    "    test_size=0.2, # 20% samples will go to test dataset\n",
    "    random_state=2022,\n",
    "    stratify=df.Label_map\n",
    ")"
   ]
  },
  {
   "cell_type": "markdown",
   "id": "c25b020b-f5d3-4def-8754-eb8c6cf4a439",
   "metadata": {},
   "source": [
    "### Training Data on Pre-processed Dataset"
   ]
  },
  {
   "cell_type": "code",
   "execution_count": 34,
   "id": "55560d79-5b7e-4edb-82d5-434db2716291",
   "metadata": {},
   "outputs": [
    {
     "name": "stdout",
     "output_type": "stream",
     "text": [
      "\n",
      "Training with KNeighborsClassifier\n",
      "Results for KNeighborsClassifier:\n",
      "              precision    recall  f1-score   support\n",
      "\n",
      "           0       0.94      0.96      0.95      1200\n",
      "           1       0.96      0.97      0.97      1200\n",
      "           2       0.97      0.98      0.98      1200\n",
      "           3       0.98      0.94      0.96      1200\n",
      "\n",
      "    accuracy                           0.96      4800\n",
      "   macro avg       0.96      0.96      0.96      4800\n",
      "weighted avg       0.96      0.96      0.96      4800\n",
      "\n",
      "20706    lal haveli designer handmade patchwork decorat...\n",
      "19008    tirupur fashion biz girl kid solid cotton cycl...\n",
      "14810    modern linguistics introduction author sk verm...\n",
      "2451     amazonbasics apple certified 30pin usb cable a...\n",
      "6296     marine corp martial art program complete comba...\n",
      "Name: text_join, dtype: object 20706    0\n",
      "19008    2\n",
      "14810    3\n",
      "2451     1\n",
      "6296     3\n",
      "Name: Label_map, dtype: int64 [0 2 3 1 3]\n"
     ]
    },
    {
     "data": {
      "image/png": "[encoded data removed]",
      "text/plain": [
       "<Figure size 1000x700 with 2 Axes>"
      ]
     },
     "metadata": {},
     "output_type": "display_data"
    },
    {
     "name": "stdout",
     "output_type": "stream",
     "text": [
      "\n",
      "Training with DecisionTreeClassifier\n",
      "Results for DecisionTreeClassifier:\n",
      "              precision    recall  f1-score   support\n",
      "\n",
      "           0       0.91      0.93      0.92      1200\n",
      "           1       0.96      0.95      0.95      1200\n",
      "           2       0.98      0.96      0.97      1200\n",
      "           3       0.96      0.97      0.97      1200\n",
      "\n",
      "    accuracy                           0.95      4800\n",
      "   macro avg       0.95      0.95      0.95      4800\n",
      "weighted avg       0.95      0.95      0.95      4800\n",
      "\n",
      "20706    lal haveli designer handmade patchwork decorat...\n",
      "19008    tirupur fashion biz girl kid solid cotton cycl...\n",
      "14810    modern linguistics introduction author sk verm...\n",
      "2451     amazonbasics apple certified 30pin usb cable a...\n",
      "6296     marine corp martial art program complete comba...\n",
      "Name: text_join, dtype: object 20706    0\n",
      "19008    2\n",
      "14810    3\n",
      "2451     1\n",
      "6296     3\n",
      "Name: Label_map, dtype: int64 [0 2 3 1 3]\n"
     ]
    },
    {
     "data": {
      "image/png": "[encoded data removed]",
      "text/plain": [
       "<Figure size 1000x700 with 2 Axes>"
      ]
     },
     "metadata": {},
     "output_type": "display_data"
    },
    {
     "name": "stdout",
     "output_type": "stream",
     "text": [
      "\n",
      "Training with LogisticRegression\n",
      "Results for LogisticRegression:\n",
      "              precision    recall  f1-score   support\n",
      "\n",
      "           0       0.96      0.97      0.97      1200\n",
      "           1       0.97      0.97      0.97      1200\n",
      "           2       0.98      0.99      0.99      1200\n",
      "           3       0.97      0.96      0.97      1200\n",
      "\n",
      "    accuracy                           0.97      4800\n",
      "   macro avg       0.97      0.97      0.97      4800\n",
      "weighted avg       0.97      0.97      0.97      4800\n",
      "\n",
      "20706    lal haveli designer handmade patchwork decorat...\n",
      "19008    tirupur fashion biz girl kid solid cotton cycl...\n",
      "14810    modern linguistics introduction author sk verm...\n",
      "2451     amazonbasics apple certified 30pin usb cable a...\n",
      "6296     marine corp martial art program complete comba...\n",
      "Name: text_join, dtype: object 20706    0\n",
      "19008    2\n",
      "14810    3\n",
      "2451     1\n",
      "6296     3\n",
      "Name: Label_map, dtype: int64 [0 2 3 1 3]\n"
     ]
    },
    {
     "data": {
      "image/png": "[encoded data removed]",
      "text/plain": [
       "<Figure size 1000x700 with 2 Axes>"
      ]
     },
     "metadata": {},
     "output_type": "display_data"
    },
    {
     "name": "stdout",
     "output_type": "stream",
     "text": [
      "\n",
      "Training with LinearSVM\n",
      "Results for LinearSVM:\n",
      "              precision    recall  f1-score   support\n",
      "\n",
      "           0       0.98      0.98      0.98      1200\n",
      "           1       0.98      0.98      0.98      1200\n",
      "           2       0.99      0.99      0.99      1200\n",
      "           3       0.98      0.98      0.98      1200\n",
      "\n",
      "    accuracy                           0.98      4800\n",
      "   macro avg       0.98      0.98      0.98      4800\n",
      "weighted avg       0.98      0.98      0.98      4800\n",
      "\n",
      "20706    lal haveli designer handmade patchwork decorat...\n",
      "19008    tirupur fashion biz girl kid solid cotton cycl...\n",
      "14810    modern linguistics introduction author sk verm...\n",
      "2451     amazonbasics apple certified 30pin usb cable a...\n",
      "6296     marine corp martial art program complete comba...\n",
      "Name: text_join, dtype: object 20706    0\n",
      "19008    2\n",
      "14810    3\n",
      "2451     1\n",
      "6296     3\n",
      "Name: Label_map, dtype: int64 [0 2 3 1 3]\n"
     ]
    },
    {
     "data": {
      "image/png": "[encoded data removed]",
      "text/plain": [
       "<Figure size 1000x700 with 2 Axes>"
      ]
     },
     "metadata": {},
     "output_type": "display_data"
    },
    {
     "name": "stdout",
     "output_type": "stream",
     "text": [
      "\n",
      "Training with MultinomialNB\n",
      "Results for MultinomialNB:\n",
      "              precision    recall  f1-score   support\n",
      "\n",
      "           0       0.93      0.96      0.95      1200\n",
      "           1       0.96      0.97      0.96      1200\n",
      "           2       0.98      0.98      0.98      1200\n",
      "           3       0.98      0.93      0.95      1200\n",
      "\n",
      "    accuracy                           0.96      4800\n",
      "   macro avg       0.96      0.96      0.96      4800\n",
      "weighted avg       0.96      0.96      0.96      4800\n",
      "\n",
      "20706    lal haveli designer handmade patchwork decorat...\n",
      "19008    tirupur fashion biz girl kid solid cotton cycl...\n",
      "14810    modern linguistics introduction author sk verm...\n",
      "2451     amazonbasics apple certified 30pin usb cable a...\n",
      "6296     marine corp martial art program complete comba...\n",
      "Name: text_join, dtype: object 20706    0\n",
      "19008    2\n",
      "14810    3\n",
      "2451     1\n",
      "6296     3\n",
      "Name: Label_map, dtype: int64 [0 2 3 1 3]\n"
     ]
    },
    {
     "data": {
      "image/png": "[encoded data removed]",
      "text/plain": [
       "<Figure size 1000x700 with 2 Axes>"
      ]
     },
     "metadata": {},
     "output_type": "display_data"
    },
    {
     "name": "stdout",
     "output_type": "stream",
     "text": [
      "\n",
      "Training with RandomForestClassifier\n",
      "Results for RandomForestClassifier:\n",
      "              precision    recall  f1-score   support\n",
      "\n",
      "           0       0.96      0.96      0.96      1200\n",
      "           1       0.98      0.98      0.98      1200\n",
      "           2       0.98      0.99      0.99      1200\n",
      "           3       0.98      0.97      0.98      1200\n",
      "\n",
      "    accuracy                           0.98      4800\n",
      "   macro avg       0.98      0.98      0.98      4800\n",
      "weighted avg       0.98      0.98      0.98      4800\n",
      "\n",
      "20706    lal haveli designer handmade patchwork decorat...\n",
      "19008    tirupur fashion biz girl kid solid cotton cycl...\n",
      "14810    modern linguistics introduction author sk verm...\n",
      "2451     amazonbasics apple certified 30pin usb cable a...\n",
      "6296     marine corp martial art program complete comba...\n",
      "Name: text_join, dtype: object 20706    0\n",
      "19008    2\n",
      "14810    3\n",
      "2451     1\n",
      "6296     3\n",
      "Name: Label_map, dtype: int64 [0 2 3 1 3]\n"
     ]
    },
    {
     "data": {
      "image/png": "[encoded data removed]",
      "text/plain": [
       "<Figure size 1000x700 with 2 Axes>"
      ]
     },
     "metadata": {},
     "output_type": "display_data"
    }
   ],
   "source": [
    "classifiers = {\n",
    "    'KNeighborsClassifier': KNeighborsClassifier(),#n_neighbors=10,metric=\"cosine\"),#n_neighbors=3,metric=\"euclideian\" weights='distance', algorithm='auto', p=2\n",
    "    'DecisionTreeClassifier': DecisionTreeClassifier(),#criterion='entropy', max_depth=10, min_samples_split=4\n",
    "    'LogisticRegression': LogisticRegression(),\n",
    "    'LinearSVM': LinearSVC(),\n",
    "    'MultinomialNB':MultinomialNB(),\n",
    "    \"RandomForestClassifier\" :RandomForestClassifier()\n",
    "}\n",
    "\n",
    "# Loop through classifiers and train each\n",
    "for name, clf in classifiers.items():\n",
    "    print(f\"\\nTraining with {name}\")\n",
    "    \n",
    "    # Create pipeline for each classifier\n",
    "    pipeline = Pipeline([\n",
    "        ('TfIdfVectorizer', TfidfVectorizer()),\n",
    "        ('classifier', clf)\n",
    "    ])\n",
    "    \n",
    "    # Train the model\n",
    "    pipeline.fit(x_train, y_train)\n",
    "    \n",
    "    # Make predictions\n",
    "    y_pred = pipeline.predict(x_test)\n",
    "    \n",
    "    # Print classification report\n",
    "    print(f\"Results for {name}:\")\n",
    "    print(classification_report(y_test, y_pred,zero_division=0))\n",
    "    print(x_test[:5],y_test[:5],y_pred[:5])\n",
    "    cm = confusion_matrix(y_test, y_pred)\n",
    "    plt.figure(figsize = (10,7))\n",
    "    sn.heatmap(cm, annot=True,fmt='d')\n",
    "    plt.xlabel('Prediction')\n",
    "    plt.ylabel('Truth')\n",
    "    plt.show()"
   ]
  }
 ],
 "metadata": {
  "kernelspec": {
   "display_name": "Python 3 (ipykernel)",
   "language": "python",
   "name": "python3"
  },
  "language_info": {
   "codemirror_mode": {
    "name": "ipython",
    "version": 3
   },
   "file_extension": ".py",
   "mimetype": "text/x-python",
   "name": "python",
   "nbconvert_exporter": "python",
   "pygments_lexer": "ipython3",
   "version": "3.12.6"
  }
 },
 "nbformat": 4,
 "nbformat_minor": 5
}
