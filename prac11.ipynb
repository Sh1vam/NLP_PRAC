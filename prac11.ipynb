{
 "cells": [
  {
   "cell_type": "markdown",
   "id": "7ebf35be-ce89-44fa-8da8-84c57fbcf72b",
   "metadata": {},
   "source": [
    "# Practical 11\n",
    "## Case Study – Study and prepare a report of Machine translation of Google."
   ]
  },
  {
   "cell_type": "markdown",
   "id": "73e6b0c7-1479-4eaa-a6da-169b6abbb368",
   "metadata": {},
   "source": [
    "**Case Study: Google's Machine Translation**"
   ]
  },
  {
   "cell_type": "markdown",
   "id": "4755a4d8-9ec7-4d8e-9778-4abfc1eec167",
   "metadata": {},
   "source": [
    "**Introduction**\n",
    "\n",
    "Google's machine translation (MT) system has revolutionized the way we interact with languages globally. By leveraging advanced artificial intelligence and machine learning techniques, Google Translate has become an indispensable tool for billions of users worldwide. This case study delves into the technical aspects, challenges, and future directions of Google's MT system."
   ]
  },
  {
   "cell_type": "markdown",
   "id": "2e787e33-dc92-4c43-a5a8-87b2ef960c92",
   "metadata": {},
   "source": [
    "**Key Technologies and Approaches**\n",
    "\n",
    "* **Neural Machine Translation (NMT):**\n",
    "    * Core technology behind Google Translate's advancements.\n",
    "    * Employs artificial neural networks to process input text and generate translations.\n",
    "    * Captures complex language patterns and context, leading to more accurate and fluent translations.\n",
    "* **Statistical Machine Translation (SMT):**\n",
    "    * Earlier approach that relied on statistical models to translate text.\n",
    "    * While less sophisticated than NMT, it still plays a role in certain scenarios.\n",
    "* **Data-Driven Approach:**\n",
    "    * Google leverages massive datasets of translated text to train its models.\n",
    "    * Continuous learning and adaptation to new data improve translation quality over time.\n",
    "* **Language Modeling:**\n",
    "    * Incorporates language models to understand the underlying structure and meaning of text.\n",
    "    * Enhances translation accuracy and fluency by considering the context of words and sentences."
   ]
  },
  {
   "cell_type": "markdown",
   "id": "52d465ae-4b95-48a7-ae55-c2e28b5699dd",
   "metadata": {},
   "source": [
    "**Challenges and Limitations**\n",
    "\n",
    "* **Language Diversity:**\n",
    "    * Translating between languages with limited parallel data remains a significant challenge.\n",
    "    * Google addresses this by developing techniques like zero-shot and few-shot learning.\n",
    "* **Cultural Nuances and Idioms:**\n",
    "    * Accurate translation of cultural references and idioms is complex.\n",
    "    * Google's models are constantly being refined to better handle these nuances.\n",
    "* **Real-time Translation:**\n",
    "    * Real-time translation, especially for low-resource languages, requires efficient algorithms and powerful hardware.\n",
    "    * Google continues to push the boundaries of real-time translation technology."
   ]
  },
  {
   "cell_type": "markdown",
   "id": "8e969251-27ae-4b26-98b9-9777ad93cbe6",
   "metadata": {},
   "source": [
    "**Future Directions**\n",
    "\n",
    "* **Multilingual Models:**\n",
    "    * Developing models that can translate between multiple languages simultaneously.\n",
    "    * Improving translation quality and efficiency for a wider range of language pairs.\n",
    "* **Contextual Understanding:**\n",
    "    * Leveraging contextual information to enhance translation accuracy, especially in ambiguous or domain-specific text.\n",
    "    * Incorporating knowledge graphs and semantic understanding to improve translation quality.\n",
    "* **Ethical Considerations:**\n",
    "    * Addressing potential biases and ensuring fairness in translation systems.\n",
    "    * Developing guidelines and tools to mitigate biases and promote ethical AI."
   ]
  },
  {
   "cell_type": "markdown",
   "id": "9c6e5970-22b3-4ce6-a42c-83a934a1caf9",
   "metadata": {},
   "source": [
    "**Conclusion**\n",
    "\n",
    "Google's machine translation system is a testament to the power of AI and machine learning. By continuously pushing the boundaries of technology, Google Translate has transformed the way we communicate and access information across language barriers. As the field of AI continues to evolve, we can expect even more impressive advancements in machine translation in the years to come."
   ]
  },
  {
   "cell_type": "markdown",
   "id": "0db42531-f26e-4beb-983c-e2f0a2bb8b57",
   "metadata": {},
   "source": [
    "**Potential Research Areas**\n",
    "\n",
    "* **Domain-Specific Translation:**\n",
    "    * Developing models tailored to specific domains like medicine, law, or finance.\n",
    "* **Translation Quality Assessment:**\n",
    "    * Creating automated metrics to evaluate the quality of machine translations.\n",
    "* **Low-Resource Language Translation:**\n",
    "    * Exploring techniques to improve translation quality for languages with limited data.\n",
    "* **Post-Editing and Human-in-the-Loop:**\n",
    "    * Integrating human expertise to refine machine translations and improve accuracy.\n",
    "\n",
    "By delving deeper into these areas, researchers and engineers can further enhance the capabilities of machine translation systems and unlock new possibilities for global communication."
   ]
  },
  {
   "cell_type": "code",
   "execution_count": 1,
   "id": "fc708658-7143-493e-a709-e9868b93a616",
   "metadata": {},
   "outputs": [
    {
     "name": "stderr",
     "output_type": "stream",
     "text": [
      "G:\\Sem 7\\NLP\\Practicals\\venv\\Lib\\site-packages\\transformers\\tokenization_utils_base.py:1617: FutureWarning: `clean_up_tokenization_spaces` was not set. It will be set to `True` by default. This behavior will be deprecated in transformers v4.45, and will be then set to `False` by default. For more details check this issue: https://github.com/huggingface/transformers/issues/31884\n",
      "  warnings.warn(\n"
     ]
    }
   ],
   "source": [
    "\n",
    "from transformers import MBartForConditionalGeneration, MBart50TokenizerFast\n",
    "\n",
    "model = MBartForConditionalGeneration.from_pretrained(\"facebook/mbart-large-50-one-to-many-mmt\")\n",
    "\n",
    "tokenizer = MBart50TokenizerFast.from_pretrained(\"facebook/mbart-large-50-one-to-many-mmt\", src_lang=\"en_XX\")\n",
    "\n",
    "from tkinter import *\n",
    "from tkinter import ttk\n",
    "\n",
    "class Root(Tk):\n",
    "    \n",
    "    def __init__(self):\n",
    "        \n",
    "        super(Root, self).__init__()\n",
    "        \n",
    "        self.title(\"Text Translator\")\n",
    "        self.minsize(5, 5)\n",
    "        \n",
    "        self.labelFrame = ttk.LabelFrame(self, text = \"SELECT\")\n",
    "        self.labelFrame.grid(column = 0, row = 2, padx = 10, pady = 10)\n",
    "        \n",
    "        self.labelFrame2=ttk.LabelFrame(self, text = \"SUBMIT\")\n",
    "        self.labelFrame2.grid(column = 0, row = 1, padx = 10, pady = 10)\n",
    "        self.button()\n",
    "\n",
    "    def button(self):\n",
    "\n",
    "        self.button = ttk.Button(self.labelFrame, text = \"Select Language To Translate\",command = self.Dropdown)\n",
    "        self.button.grid(column = 0, row = 0)\n",
    "        \n",
    "        self.text_area = Text(self, height=5, width=20, font=(\"\",15))\n",
    "        self.text_area.grid()\n",
    "        \n",
    "        self.button2 = ttk.Button(self.labelFrame2, text = \"Enter Text To Translate\",command = self.Input)\n",
    "        self.button2.grid(column = 3, row = 5)\n",
    "\n",
    "        self.output_area = Text(self, height=5, width=20, font=(\"\", 15))\n",
    "        self.output_area.grid()\n",
    "\n",
    "    def Dropdown(self):\n",
    "        \n",
    "        self.language_var = StringVar()\n",
    "        self.language_dropdown = ttk.Combobox(self.labelFrame, textvariable=self.language_var)\n",
    "        self.language_dropdown['values'] = [\"hi_IN\", \"ta_IN\"]\n",
    "        self.language_dropdown.grid(column=0, row=1)\n",
    "        \n",
    "    def Input(self):\n",
    "\n",
    "        global article_en\n",
    "        article_en = self.text_area.get(\"1.0\", \"end-1c\")\n",
    "    \n",
    "        #print(self.language_var.get())\n",
    "        model_inputs = tokenizer(article_en, return_tensors=\"pt\")\n",
    "\n",
    "        generated_tokens = model.generate(\n",
    "            **model_inputs,\n",
    "            forced_bos_token_id=tokenizer.lang_code_to_id[self.language_var.get()]\n",
    "        )\n",
    "        translation = tokenizer.batch_decode(generated_tokens, skip_special_tokens=True)\n",
    "        \n",
    "        self.output_area.delete(\"1.0\", \"end-1c\")\n",
    "        self.output_area.insert(END, translation[0])\n",
    "       \n",
    "root = Root()\n",
    "root.mainloop()\n"
   ]
  },
  {
   "attachments": {
    "b037853f-8787-4564-b10b-0f295e27095b.png": {
     "image/png": "[encoded data removed]"
    }
   },
   "cell_type": "markdown",
   "id": "d5da94dd-fac2-4a39-a6cd-bd4560150897",
   "metadata": {},
   "source": [
    ">>>>>>>![image.png](attachment:b037853f-8787-4564-b10b-0f295e27095b.png)"
   ]
  }
 ],
 "metadata": {
  "kernelspec": {
   "display_name": "Python 3 (ipykernel)",
   "language": "python",
   "name": "python3"
  },
  "language_info": {
   "codemirror_mode": {
    "name": "ipython",
    "version": 3
   },
   "file_extension": ".py",
   "mimetype": "text/x-python",
   "name": "python",
   "nbconvert_exporter": "python",
   "pygments_lexer": "ipython3",
   "version": "3.12.6"
  }
 },
 "nbformat": 4,
 "nbformat_minor": 5
}
