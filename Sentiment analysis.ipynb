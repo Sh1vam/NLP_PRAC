{
 "cells": [
  {
   "cell_type": "code",
   "execution_count": 9,
   "id": "6ece7999-6c4d-45a7-94fb-f1d6a6dbae72",
   "metadata": {},
   "outputs": [],
   "source": [
    "import pandas as pd \n",
    "from sklearn.model_selection import train_test_split\n",
    "from sklearn.feature_extraction.text import TfidfVectorizer\n",
    "from sklearn.svm import *\n",
    "import joblib\n",
    "from sklearn.pipeline import Pipeline"
   ]
  },
  {
   "cell_type": "code",
   "execution_count": 4,
   "id": "e4e0d2ec-ade1-4e09-b877-5cc1439cc6ef",
   "metadata": {},
   "outputs": [],
   "source": [
    "df=pd.read_csv(\"reviews.csv\")"
   ]
  },
  {
   "cell_type": "code",
   "execution_count": 6,
   "id": "e13827fd-ccd6-40a5-8972-ed2777d9fd6a",
   "metadata": {},
   "outputs": [
    {
     "data": {
      "text/html": [
       "<div>\n",
       "<style scoped>\n",
       "    .dataframe tbody tr th:only-of-type {\n",
       "        vertical-align: middle;\n",
       "    }\n",
       "\n",
       "    .dataframe tbody tr th {\n",
       "        vertical-align: top;\n",
       "    }\n",
       "\n",
       "    .dataframe thead th {\n",
       "        text-align: right;\n",
       "    }\n",
       "</style>\n",
       "<table border=\"1\" class=\"dataframe\">\n",
       "  <thead>\n",
       "    <tr style=\"text-align: right;\">\n",
       "      <th></th>\n",
       "      <th>review</th>\n",
       "      <th>sentiment</th>\n",
       "      <th>stopwords_removed</th>\n",
       "      <th>tokenized</th>\n",
       "      <th>porter_stemmed</th>\n",
       "      <th>lancaster_stemmed</th>\n",
       "      <th>snowball_stemming</th>\n",
       "      <th>regexp_stemmed</th>\n",
       "      <th>lemmatized</th>\n",
       "      <th>procss</th>\n",
       "    </tr>\n",
       "  </thead>\n",
       "  <tbody>\n",
       "    <tr>\n",
       "      <th>0</th>\n",
       "      <td>one of the other reviewers has mentioned that ...</td>\n",
       "      <td>positive</td>\n",
       "      <td>one reviewers mentioned watching 1 oz episode ...</td>\n",
       "      <td>['one', 'reviewers', 'mentioned', 'watching', ...</td>\n",
       "      <td>['one', 'review', 'mention', 'watch', '1', 'oz...</td>\n",
       "      <td>['on', 'review', 'ment', 'watch', '1', 'oz', '...</td>\n",
       "      <td>['one', 'review', 'mention', 'watch', '1', 'oz...</td>\n",
       "      <td>['one', 'reviewer', 'mentioned', 'watch', '1',...</td>\n",
       "      <td>['one', 'reviewer', 'mentioned', 'watching', '...</td>\n",
       "      <td>one reviewer mentioned watching 1 oz episode y...</td>\n",
       "    </tr>\n",
       "    <tr>\n",
       "      <th>1</th>\n",
       "      <td>a wonderful little production filming techniqu...</td>\n",
       "      <td>positive</td>\n",
       "      <td>wonderful little production filming technique ...</td>\n",
       "      <td>['wonderful', 'little', 'production', 'filming...</td>\n",
       "      <td>['wonder', 'littl', 'product', 'film', 'techni...</td>\n",
       "      <td>['wond', 'littl', 'produc', 'film', 'techn', '...</td>\n",
       "      <td>['wonder', 'littl', 'product', 'film', 'techni...</td>\n",
       "      <td>['wonderful', 'littl', 'production', 'film', '...</td>\n",
       "      <td>['wonderful', 'little', 'production', 'filming...</td>\n",
       "      <td>wonderful little production filming technique ...</td>\n",
       "    </tr>\n",
       "    <tr>\n",
       "      <th>2</th>\n",
       "      <td>i thought this was a wonderful way to spend ti...</td>\n",
       "      <td>positive</td>\n",
       "      <td>thought wonderful way spend time hot summer we...</td>\n",
       "      <td>['thought', 'wonderful', 'way', 'spend', 'time...</td>\n",
       "      <td>['thought', 'wonder', 'way', 'spend', 'time', ...</td>\n",
       "      <td>['thought', 'wond', 'way', 'spend', 'tim', 'ho...</td>\n",
       "      <td>['thought', 'wonder', 'way', 'spend', 'time', ...</td>\n",
       "      <td>['thought', 'wonderful', 'way', 'spend', 'tim'...</td>\n",
       "      <td>['thought', 'wonderful', 'way', 'spend', 'time...</td>\n",
       "      <td>thought wonderful way spend time hot summer we...</td>\n",
       "    </tr>\n",
       "    <tr>\n",
       "      <th>3</th>\n",
       "      <td>basically theres a family where a little boy j...</td>\n",
       "      <td>negative</td>\n",
       "      <td>basically theres family little boy jake thinks...</td>\n",
       "      <td>['basically', 'theres', 'family', 'little', 'b...</td>\n",
       "      <td>['basic', 'there', 'famili', 'littl', 'boy', '...</td>\n",
       "      <td>['bas', 'ther', 'famy', 'littl', 'boy', 'jak',...</td>\n",
       "      <td>['basic', 'there', 'famili', 'littl', 'boy', '...</td>\n",
       "      <td>['basically', 'there', 'family', 'littl', 'boy...</td>\n",
       "      <td>['basically', 'there', 'family', 'little', 'bo...</td>\n",
       "      <td>basically there family little boy jake think t...</td>\n",
       "    </tr>\n",
       "    <tr>\n",
       "      <th>4</th>\n",
       "      <td>petter matteis love in the time of money is a ...</td>\n",
       "      <td>positive</td>\n",
       "      <td>petter matteis love time money visually stunni...</td>\n",
       "      <td>['petter', 'matteis', 'love', 'time', 'money',...</td>\n",
       "      <td>['petter', 'mattei', 'love', 'time', 'money', ...</td>\n",
       "      <td>['pet', 'mat', 'lov', 'tim', 'money', 'vis', '...</td>\n",
       "      <td>['petter', 'mattei', 'love', 'time', 'money', ...</td>\n",
       "      <td>['petter', 'mattei', 'lov', 'tim', 'money', 'v...</td>\n",
       "      <td>['petter', 'matteis', 'love', 'time', 'money',...</td>\n",
       "      <td>petter matteis love time money visually stunni...</td>\n",
       "    </tr>\n",
       "  </tbody>\n",
       "</table>\n",
       "</div>"
      ],
      "text/plain": [
       "                                              review sentiment  \\\n",
       "0  one of the other reviewers has mentioned that ...  positive   \n",
       "1  a wonderful little production filming techniqu...  positive   \n",
       "2  i thought this was a wonderful way to spend ti...  positive   \n",
       "3  basically theres a family where a little boy j...  negative   \n",
       "4  petter matteis love in the time of money is a ...  positive   \n",
       "\n",
       "                                   stopwords_removed  \\\n",
       "0  one reviewers mentioned watching 1 oz episode ...   \n",
       "1  wonderful little production filming technique ...   \n",
       "2  thought wonderful way spend time hot summer we...   \n",
       "3  basically theres family little boy jake thinks...   \n",
       "4  petter matteis love time money visually stunni...   \n",
       "\n",
       "                                           tokenized  \\\n",
       "0  ['one', 'reviewers', 'mentioned', 'watching', ...   \n",
       "1  ['wonderful', 'little', 'production', 'filming...   \n",
       "2  ['thought', 'wonderful', 'way', 'spend', 'time...   \n",
       "3  ['basically', 'theres', 'family', 'little', 'b...   \n",
       "4  ['petter', 'matteis', 'love', 'time', 'money',...   \n",
       "\n",
       "                                      porter_stemmed  \\\n",
       "0  ['one', 'review', 'mention', 'watch', '1', 'oz...   \n",
       "1  ['wonder', 'littl', 'product', 'film', 'techni...   \n",
       "2  ['thought', 'wonder', 'way', 'spend', 'time', ...   \n",
       "3  ['basic', 'there', 'famili', 'littl', 'boy', '...   \n",
       "4  ['petter', 'mattei', 'love', 'time', 'money', ...   \n",
       "\n",
       "                                   lancaster_stemmed  \\\n",
       "0  ['on', 'review', 'ment', 'watch', '1', 'oz', '...   \n",
       "1  ['wond', 'littl', 'produc', 'film', 'techn', '...   \n",
       "2  ['thought', 'wond', 'way', 'spend', 'tim', 'ho...   \n",
       "3  ['bas', 'ther', 'famy', 'littl', 'boy', 'jak',...   \n",
       "4  ['pet', 'mat', 'lov', 'tim', 'money', 'vis', '...   \n",
       "\n",
       "                                   snowball_stemming  \\\n",
       "0  ['one', 'review', 'mention', 'watch', '1', 'oz...   \n",
       "1  ['wonder', 'littl', 'product', 'film', 'techni...   \n",
       "2  ['thought', 'wonder', 'way', 'spend', 'time', ...   \n",
       "3  ['basic', 'there', 'famili', 'littl', 'boy', '...   \n",
       "4  ['petter', 'mattei', 'love', 'time', 'money', ...   \n",
       "\n",
       "                                      regexp_stemmed  \\\n",
       "0  ['one', 'reviewer', 'mentioned', 'watch', '1',...   \n",
       "1  ['wonderful', 'littl', 'production', 'film', '...   \n",
       "2  ['thought', 'wonderful', 'way', 'spend', 'tim'...   \n",
       "3  ['basically', 'there', 'family', 'littl', 'boy...   \n",
       "4  ['petter', 'mattei', 'lov', 'tim', 'money', 'v...   \n",
       "\n",
       "                                          lemmatized  \\\n",
       "0  ['one', 'reviewer', 'mentioned', 'watching', '...   \n",
       "1  ['wonderful', 'little', 'production', 'filming...   \n",
       "2  ['thought', 'wonderful', 'way', 'spend', 'time...   \n",
       "3  ['basically', 'there', 'family', 'little', 'bo...   \n",
       "4  ['petter', 'matteis', 'love', 'time', 'money',...   \n",
       "\n",
       "                                              procss  \n",
       "0  one reviewer mentioned watching 1 oz episode y...  \n",
       "1  wonderful little production filming technique ...  \n",
       "2  thought wonderful way spend time hot summer we...  \n",
       "3  basically there family little boy jake think t...  \n",
       "4  petter matteis love time money visually stunni...  "
      ]
     },
     "execution_count": 6,
     "metadata": {},
     "output_type": "execute_result"
    }
   ],
   "source": [
    "df.head()"
   ]
  },
  {
   "cell_type": "code",
   "execution_count": 10,
   "id": "da7d0b7d-f247-4d7c-82e1-5c4b0c52bdf4",
   "metadata": {},
   "outputs": [
    {
     "name": "stdout",
     "output_type": "stream",
     "text": [
      "Model trained on the entire dataset and saved as linear_svc_sentiment_classifier.pkl\n"
     ]
    }
   ],
   "source": [
    "X = df['procss']  # Features: processed text\n",
    "y = df['sentiment']  # Target: sentiment labels\n",
    "\n",
    "# Define the pipeline with default parameters\n",
    "pipeline = Pipeline([\n",
    "    ('TFIDFvectorizer', TfidfVectorizer(ngram_range=(1, 3))),\n",
    "    ('classifier', LinearSVC())  # Default LinearSVC parameters\n",
    "])\n",
    "\n",
    "# Train the model on the entire dataset\n",
    "pipeline.fit(X, y)\n",
    "\n",
    "# Save the trained model using joblib\n",
    "joblib_file = \"linear_svc_sentiment_classifier.pkl\"\n",
    "joblib.dump(pipeline, joblib_file)\n",
    "\n",
    "print(f\"Model trained on the entire dataset and saved as {joblib_file}\")"
   ]
  },
  {
   "cell_type": "code",
   "execution_count": 11,
   "id": "05a4c05d-63a4-474e-b385-298b76e7b9a4",
   "metadata": {},
   "outputs": [
    {
     "name": "stdout",
     "output_type": "stream",
     "text": [
      "Predictions: ['positive' 'negative']\n"
     ]
    }
   ],
   "source": [
    "# Load the saved model from the file\n",
    "loaded_pipeline = joblib.load(joblib_file)\n",
    "\n",
    "# Use the loaded model to make predictions on new data\n",
    "new_data = [\"The service was excellent!\", \"I am disappointed with the quality.\"]\n",
    "predictions = loaded_pipeline.predict(new_data)\n",
    "\n",
    "print(f\"Predictions: {predictions}\")\n"
   ]
  },
  {
   "cell_type": "code",
   "execution_count": 14,
   "id": "a9517ee8-525a-46bf-9588-de4b48e6c0d6",
   "metadata": {},
   "outputs": [],
   "source": [
    "from nlp_lib import *"
   ]
  },
  {
   "cell_type": "code",
   "execution_count": 32,
   "id": "b608621d-1c5d-41bb-88b4-f5c07db3cc6c",
   "metadata": {},
   "outputs": [
    {
     "data": {
      "text/plain": [
       "['service bad', 'service nice']"
      ]
     },
     "execution_count": 32,
     "metadata": {},
     "output_type": "execute_result"
    }
   ],
   "source": [
    "new_data = [\"The service was bad.\", \"The service was nice.\"]\n",
    "a = preprocesswithlema(new_data[0])\n",
    "b = preprocesswithlema(new_data[1])\n",
    "new_data=[a,b]\n",
    "new_data"
   ]
  },
  {
   "cell_type": "code",
   "execution_count": 33,
   "id": "959b710d-d763-4b79-9ef0-89a284f6fad4",
   "metadata": {},
   "outputs": [
    {
     "name": "stdout",
     "output_type": "stream",
     "text": [
      "Predictions: ['negative' 'positive']\n"
     ]
    }
   ],
   "source": [
    "\n",
    "predictions = loaded_pipeline.predict(new_data)\n",
    "\n",
    "print(f\"Predictions: {predictions}\")"
   ]
  },
  {
   "cell_type": "markdown",
   "id": "0862dd74-eb6a-4b10-a264-4bd73ec80f3d",
   "metadata": {},
   "source": [
    "### Observation : Preprocessing Reduces time taken to predice though result may be incorrect sometimes"
   ]
  }
 ],
 "metadata": {
  "kernelspec": {
   "display_name": "Python 3 (ipykernel)",
   "language": "python",
   "name": "python3"
  },
  "language_info": {
   "codemirror_mode": {
    "name": "ipython",
    "version": 3
   },
   "file_extension": ".py",
   "mimetype": "text/x-python",
   "name": "python",
   "nbconvert_exporter": "python",
   "pygments_lexer": "ipython3",
   "version": "3.12.3"
  }
 },
 "nbformat": 4,
 "nbformat_minor": 5
}
