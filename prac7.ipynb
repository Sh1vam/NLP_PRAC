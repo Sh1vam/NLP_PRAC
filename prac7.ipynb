{
 "cells": [
  {
   "cell_type": "markdown",
   "id": "87477cd4-e736-4374-8847-09dcacc29de2",
   "metadata": {},
   "source": [
    "# Pratical 7\n",
    "## Generate N-grams of the text."
   ]
  },
  {
   "cell_type": "code",
   "execution_count": 1,
   "id": "7189214b-13c8-45b0-9faf-3b10934eb17c",
   "metadata": {},
   "outputs": [],
   "source": [
    "from nlp_lib import *"
   ]
  },
  {
   "cell_type": "markdown",
   "id": "527fae31-4f14-4433-bc4d-1b6a41c1365e",
   "metadata": {},
   "source": [
    "### Loading Dataset"
   ]
  },
  {
   "cell_type": "code",
   "execution_count": 3,
   "id": "f577a0a0-1d71-404d-9440-0435c152793d",
   "metadata": {},
   "outputs": [],
   "source": [
    "df=pd.read_csv(\"Fake_Real_Data.csv\")"
   ]
  },
  {
   "cell_type": "code",
   "execution_count": 4,
   "id": "da78de98-03ca-4372-bc65-9448c46329b5",
   "metadata": {},
   "outputs": [
    {
     "data": {
      "text/html": [
       "<div>\n",
       "<style scoped>\n",
       "    .dataframe tbody tr th:only-of-type {\n",
       "        vertical-align: middle;\n",
       "    }\n",
       "\n",
       "    .dataframe tbody tr th {\n",
       "        vertical-align: top;\n",
       "    }\n",
       "\n",
       "    .dataframe thead th {\n",
       "        text-align: right;\n",
       "    }\n",
       "</style>\n",
       "<table border=\"1\" class=\"dataframe\">\n",
       "  <thead>\n",
       "    <tr style=\"text-align: right;\">\n",
       "      <th></th>\n",
       "      <th>Text</th>\n",
       "      <th>label</th>\n",
       "    </tr>\n",
       "  </thead>\n",
       "  <tbody>\n",
       "    <tr>\n",
       "      <th>0</th>\n",
       "      <td>Top Trump Surrogate BRUTALLY Stabs Him In The...</td>\n",
       "      <td>Fake</td>\n",
       "    </tr>\n",
       "    <tr>\n",
       "      <th>1</th>\n",
       "      <td>U.S. conservative leader optimistic of common ...</td>\n",
       "      <td>Real</td>\n",
       "    </tr>\n",
       "    <tr>\n",
       "      <th>2</th>\n",
       "      <td>Trump proposes U.S. tax overhaul, stirs concer...</td>\n",
       "      <td>Real</td>\n",
       "    </tr>\n",
       "    <tr>\n",
       "      <th>3</th>\n",
       "      <td>Court Forces Ohio To Allow Millions Of Illega...</td>\n",
       "      <td>Fake</td>\n",
       "    </tr>\n",
       "    <tr>\n",
       "      <th>4</th>\n",
       "      <td>Democrats say Trump agrees to work on immigrat...</td>\n",
       "      <td>Real</td>\n",
       "    </tr>\n",
       "  </tbody>\n",
       "</table>\n",
       "</div>"
      ],
      "text/plain": [
       "                                                Text label\n",
       "0   Top Trump Surrogate BRUTALLY Stabs Him In The...  Fake\n",
       "1  U.S. conservative leader optimistic of common ...  Real\n",
       "2  Trump proposes U.S. tax overhaul, stirs concer...  Real\n",
       "3   Court Forces Ohio To Allow Millions Of Illega...  Fake\n",
       "4  Democrats say Trump agrees to work on immigrat...  Real"
      ]
     },
     "execution_count": 4,
     "metadata": {},
     "output_type": "execute_result"
    }
   ],
   "source": [
    "df.head()"
   ]
  },
  {
   "cell_type": "code",
   "execution_count": 5,
   "id": "ea44a899-ed95-4728-b28e-b2331ef1a8d4",
   "metadata": {},
   "outputs": [
    {
     "data": {
      "text/plain": [
       "Index(['Text', 'label'], dtype='object')"
      ]
     },
     "execution_count": 5,
     "metadata": {},
     "output_type": "execute_result"
    }
   ],
   "source": [
    "df.columns"
   ]
  },
  {
   "cell_type": "code",
   "execution_count": 6,
   "id": "af48517a-e4ae-48e7-91f3-cf02bdeef060",
   "metadata": {},
   "outputs": [
    {
     "data": {
      "text/plain": [
       "(9900, 2)"
      ]
     },
     "execution_count": 6,
     "metadata": {},
     "output_type": "execute_result"
    }
   ],
   "source": [
    "df.shape"
   ]
  },
  {
   "cell_type": "code",
   "execution_count": 7,
   "id": "76ca6c6b-13b6-4c79-91d7-365cdc777539",
   "metadata": {},
   "outputs": [
    {
     "data": {
      "text/plain": [
       "label\n",
       "Fake    5000\n",
       "Real    4900\n",
       "Name: count, dtype: int64"
      ]
     },
     "execution_count": 7,
     "metadata": {},
     "output_type": "execute_result"
    }
   ],
   "source": [
    "df.label.value_counts()"
   ]
  },
  {
   "cell_type": "code",
   "execution_count": 8,
   "id": "2a4d906b-5b4e-4bb0-abc9-d9e70586590f",
   "metadata": {},
   "outputs": [
    {
     "data": {
      "text/html": [
       "<div>\n",
       "<style scoped>\n",
       "    .dataframe tbody tr th:only-of-type {\n",
       "        vertical-align: middle;\n",
       "    }\n",
       "\n",
       "    .dataframe tbody tr th {\n",
       "        vertical-align: top;\n",
       "    }\n",
       "\n",
       "    .dataframe thead th {\n",
       "        text-align: right;\n",
       "    }\n",
       "</style>\n",
       "<table border=\"1\" class=\"dataframe\">\n",
       "  <thead>\n",
       "    <tr style=\"text-align: right;\">\n",
       "      <th></th>\n",
       "      <th>Text</th>\n",
       "      <th>label</th>\n",
       "    </tr>\n",
       "  </thead>\n",
       "  <tbody>\n",
       "    <tr>\n",
       "      <th>0</th>\n",
       "      <td>Top Trump Surrogate BRUTALLY Stabs Him In The...</td>\n",
       "      <td>Fake</td>\n",
       "    </tr>\n",
       "    <tr>\n",
       "      <th>1</th>\n",
       "      <td>U.S. conservative leader optimistic of common ...</td>\n",
       "      <td>Real</td>\n",
       "    </tr>\n",
       "    <tr>\n",
       "      <th>2</th>\n",
       "      <td>Trump proposes U.S. tax overhaul, stirs concer...</td>\n",
       "      <td>Real</td>\n",
       "    </tr>\n",
       "    <tr>\n",
       "      <th>3</th>\n",
       "      <td>Court Forces Ohio To Allow Millions Of Illega...</td>\n",
       "      <td>Fake</td>\n",
       "    </tr>\n",
       "    <tr>\n",
       "      <th>4</th>\n",
       "      <td>Democrats say Trump agrees to work on immigrat...</td>\n",
       "      <td>Real</td>\n",
       "    </tr>\n",
       "  </tbody>\n",
       "</table>\n",
       "</div>"
      ],
      "text/plain": [
       "                                                Text label\n",
       "0   Top Trump Surrogate BRUTALLY Stabs Him In The...  Fake\n",
       "1  U.S. conservative leader optimistic of common ...  Real\n",
       "2  Trump proposes U.S. tax overhaul, stirs concer...  Real\n",
       "3   Court Forces Ohio To Allow Millions Of Illega...  Fake\n",
       "4  Democrats say Trump agrees to work on immigrat...  Real"
      ]
     },
     "execution_count": 8,
     "metadata": {},
     "output_type": "execute_result"
    }
   ],
   "source": [
    "df.head()"
   ]
  },
  {
   "cell_type": "markdown",
   "id": "0f97b2a2-fc99-4474-9954-7a4efa5b93cb",
   "metadata": {},
   "source": [
    "### Mapping Target Values to Numerial Value"
   ]
  },
  {
   "cell_type": "code",
   "execution_count": 9,
   "id": "4236f1f4-5cbe-421b-9fe2-398067b3622d",
   "metadata": {},
   "outputs": [],
   "source": [
    "df[\"Label_map\"]=df[\"label\"].map({\"Fake\":0,\"Real\":1})"
   ]
  },
  {
   "cell_type": "code",
   "execution_count": 10,
   "id": "ce902537-03c9-4bfd-aacf-e802433afffd",
   "metadata": {},
   "outputs": [
    {
     "data": {
      "text/html": [
       "<div>\n",
       "<style scoped>\n",
       "    .dataframe tbody tr th:only-of-type {\n",
       "        vertical-align: middle;\n",
       "    }\n",
       "\n",
       "    .dataframe tbody tr th {\n",
       "        vertical-align: top;\n",
       "    }\n",
       "\n",
       "    .dataframe thead th {\n",
       "        text-align: right;\n",
       "    }\n",
       "</style>\n",
       "<table border=\"1\" class=\"dataframe\">\n",
       "  <thead>\n",
       "    <tr style=\"text-align: right;\">\n",
       "      <th></th>\n",
       "      <th>Text</th>\n",
       "      <th>label</th>\n",
       "      <th>Label_map</th>\n",
       "    </tr>\n",
       "  </thead>\n",
       "  <tbody>\n",
       "    <tr>\n",
       "      <th>0</th>\n",
       "      <td>Top Trump Surrogate BRUTALLY Stabs Him In The...</td>\n",
       "      <td>Fake</td>\n",
       "      <td>0</td>\n",
       "    </tr>\n",
       "    <tr>\n",
       "      <th>1</th>\n",
       "      <td>U.S. conservative leader optimistic of common ...</td>\n",
       "      <td>Real</td>\n",
       "      <td>1</td>\n",
       "    </tr>\n",
       "    <tr>\n",
       "      <th>2</th>\n",
       "      <td>Trump proposes U.S. tax overhaul, stirs concer...</td>\n",
       "      <td>Real</td>\n",
       "      <td>1</td>\n",
       "    </tr>\n",
       "    <tr>\n",
       "      <th>3</th>\n",
       "      <td>Court Forces Ohio To Allow Millions Of Illega...</td>\n",
       "      <td>Fake</td>\n",
       "      <td>0</td>\n",
       "    </tr>\n",
       "    <tr>\n",
       "      <th>4</th>\n",
       "      <td>Democrats say Trump agrees to work on immigrat...</td>\n",
       "      <td>Real</td>\n",
       "      <td>1</td>\n",
       "    </tr>\n",
       "  </tbody>\n",
       "</table>\n",
       "</div>"
      ],
      "text/plain": [
       "                                                Text label  Label_map\n",
       "0   Top Trump Surrogate BRUTALLY Stabs Him In The...  Fake          0\n",
       "1  U.S. conservative leader optimistic of common ...  Real          1\n",
       "2  Trump proposes U.S. tax overhaul, stirs concer...  Real          1\n",
       "3   Court Forces Ohio To Allow Millions Of Illega...  Fake          0\n",
       "4  Democrats say Trump agrees to work on immigrat...  Real          1"
      ]
     },
     "execution_count": 10,
     "metadata": {},
     "output_type": "execute_result"
    }
   ],
   "source": [
    "df.head()"
   ]
  },
  {
   "cell_type": "markdown",
   "id": "980de8e6-ebbf-4a6d-a381-8529ce524dc6",
   "metadata": {},
   "source": [
    "### Importing Different Classifiers "
   ]
  },
  {
   "cell_type": "code",
   "execution_count": 11,
   "id": "fc77bdbe-55d0-47e1-b9bc-039acfea8f28",
   "metadata": {},
   "outputs": [],
   "source": [
    "from sklearn.naive_bayes import MultinomialNB\n",
    "from sklearn.tree import DecisionTreeClassifier\n",
    "from sklearn.linear_model import LogisticRegression, LinearRegression\n",
    "from sklearn.neighbors import KNeighborsClassifier\n",
    "from sklearn.svm import *\n",
    "from sklearn.pipeline import Pipeline\n",
    "from sklearn.feature_extraction.text import CountVectorizer\n",
    "from sklearn.ensemble import RandomForestClassifier\n",
    "from sklearn.metrics import classification_report\n",
    "from sklearn.model_selection import train_test_split\n",
    "from sklearn.feature_extraction.text import TfidfVectorizer "
   ]
  },
  {
   "cell_type": "markdown",
   "id": "b77b188d-3607-4b33-b303-e801f8fd4523",
   "metadata": {},
   "source": [
    "### Splitting Data into Training and Testing sets"
   ]
  },
  {
   "cell_type": "code",
   "execution_count": 12,
   "id": "f76ab22c-ee39-49e1-88be-b1a054a188bb",
   "metadata": {},
   "outputs": [],
   "source": [
    "x_train, x_test, y_train, y_test = train_test_split(df['Text'],\n",
    "                                                    df.Label_map,\n",
    "                                                    test_size=0.2,\n",
    "                                                    random_state=2022,\n",
    "                                                    stratify=df.Label_map)"
   ]
  },
  {
   "cell_type": "markdown",
   "id": "4d624013-55f9-43ce-88f3-ea2e1418e9ac",
   "metadata": {},
   "source": [
    "### Training Model using KNN Classifier"
   ]
  },
  {
   "cell_type": "code",
   "execution_count": 13,
   "id": "7d7c05e3-509f-4892-9c20-0b4057d5a740",
   "metadata": {},
   "outputs": [
    {
     "name": "stdout",
     "output_type": "stream",
     "text": [
      "\n",
      "Training with KNeighborsClassifier\n",
      "Results for KNeighborsClassifier:\n",
      "              precision    recall  f1-score   support\n",
      "\n",
      "           0       0.96      0.49      0.65      1000\n",
      "           1       0.65      0.98      0.78       980\n",
      "\n",
      "    accuracy                           0.73      1980\n",
      "   macro avg       0.81      0.74      0.72      1980\n",
      "weighted avg       0.81      0.73      0.72      1980\n",
      "\n"
     ]
    }
   ],
   "source": [
    "classifiers = {\n",
    "    'KNeighborsClassifier': KNeighborsClassifier(n_neighbors=10,metric=\"euclidean\")\n",
    "}\n",
    "\n",
    "# Loop through classifiers and train each\n",
    "for name, clf in classifiers.items():\n",
    "    print(f\"\\nTraining with {name}\")\n",
    "    \n",
    "    # Create pipeline for each classifier\n",
    "    pipeline = Pipeline([\n",
    "        ('CountVectorizer', CountVectorizer(ngram_range=(1, 3))),\n",
    "        ('classifier', clf)\n",
    "    ])\n",
    "    \n",
    "    # Train the model\n",
    "    pipeline.fit(x_train, y_train)\n",
    "    \n",
    "    # Make predictions\n",
    "    y_pred = pipeline.predict(x_test)\n",
    "    \n",
    "    # Print classification report\n",
    "    print(f\"Results for {name}:\")\n",
    "    print(classification_report(y_test, y_pred,zero_division=0))"
   ]
  },
  {
   "cell_type": "code",
   "execution_count": 14,
   "id": "e950e0b6-9d2c-429f-9087-390e9cd358f7",
   "metadata": {},
   "outputs": [
    {
     "name": "stdout",
     "output_type": "stream",
     "text": [
      "\n",
      "Training with KNeighborsClassifier\n",
      "Results for KNeighborsClassifier:\n",
      "              precision    recall  f1-score   support\n",
      "\n",
      "           0       0.99      0.55      0.71      1000\n",
      "           1       0.69      1.00      0.81       980\n",
      "\n",
      "    accuracy                           0.77      1980\n",
      "   macro avg       0.84      0.77      0.76      1980\n",
      "weighted avg       0.84      0.77      0.76      1980\n",
      "\n"
     ]
    }
   ],
   "source": [
    "classifiers = {\n",
    "    'KNeighborsClassifier': KNeighborsClassifier(n_neighbors=10,metric=\"cosine\")\n",
    "}\n",
    "\n",
    "# Loop through classifiers and train each\n",
    "for name, clf in classifiers.items():\n",
    "    print(f\"\\nTraining with {name}\")\n",
    "    \n",
    "    # Create pipeline for each classifier\n",
    "    pipeline = Pipeline([\n",
    "        ('CountVectorizer', CountVectorizer(ngram_range=(1, 3))),\n",
    "        ('classifier', clf)\n",
    "    ])\n",
    "    \n",
    "    # Train the model\n",
    "    pipeline.fit(x_train, y_train)\n",
    "    \n",
    "    # Make predictions\n",
    "    y_pred = pipeline.predict(x_test)\n",
    "    \n",
    "    # Print classification report\n",
    "    print(f\"Results for {name}:\")\n",
    "    print(classification_report(y_test, y_pred,zero_division=0))"
   ]
  },
  {
   "cell_type": "markdown",
   "id": "5e171930-4ad9-422a-b7f6-9c0f6aa91ebc",
   "metadata": {},
   "source": [
    "### Training Model using RandomForest Classifier"
   ]
  },
  {
   "cell_type": "code",
   "execution_count": 15,
   "id": "198cfb5f-8ccf-48f5-a1f9-e63614a661de",
   "metadata": {},
   "outputs": [
    {
     "name": "stdout",
     "output_type": "stream",
     "text": [
      "\n",
      "Training with RandomForestClassifier\n",
      "Results for RandomForestClassifier:\n",
      "              precision    recall  f1-score   support\n",
      "\n",
      "           0       1.00      0.99      0.99      1000\n",
      "           1       0.99      1.00      0.99       980\n",
      "\n",
      "    accuracy                           0.99      1980\n",
      "   macro avg       0.99      0.99      0.99      1980\n",
      "weighted avg       0.99      0.99      0.99      1980\n",
      "\n"
     ]
    }
   ],
   "source": [
    "classifiers = {\n",
    "    \"RandomForestClassifier\" :RandomForestClassifier()\n",
    "}\n",
    "\n",
    "# Loop through classifiers and train each\n",
    "for name, clf in classifiers.items():\n",
    "    print(f\"\\nTraining with {name}\")\n",
    "    \n",
    "    # Create pipeline for each classifier\n",
    "    pipeline = Pipeline([\n",
    "        ('CountVectorizer', CountVectorizer(ngram_range=(3, 3))),#only try gram\n",
    "        ('classifier', clf)\n",
    "    ])\n",
    "    \n",
    "    # Train the model\n",
    "    pipeline.fit(x_train, y_train)\n",
    "    \n",
    "    # Make predictions\n",
    "    y_pred = pipeline.predict(x_test)\n",
    "    \n",
    "    # Print classification report\n",
    "    print(f\"Results for {name}:\")\n",
    "    print(classification_report(y_test, y_pred,zero_division=0))"
   ]
  },
  {
   "cell_type": "markdown",
   "id": "a8773928-4796-434e-86d8-fb8bb03bf9f6",
   "metadata": {},
   "source": [
    "### Training Model using Naive Bayes Classifier"
   ]
  },
  {
   "cell_type": "code",
   "execution_count": 16,
   "id": "950e334f-6061-4314-9da1-7d55641d39d5",
   "metadata": {},
   "outputs": [
    {
     "name": "stdout",
     "output_type": "stream",
     "text": [
      "\n",
      "Training with MultinomialNB\n",
      "Results for MultinomialNB:\n",
      "              precision    recall  f1-score   support\n",
      "\n",
      "           0       0.99      0.99      0.99      1000\n",
      "           1       0.99      0.98      0.99       980\n",
      "\n",
      "    accuracy                           0.99      1980\n",
      "   macro avg       0.99      0.99      0.99      1980\n",
      "weighted avg       0.99      0.99      0.99      1980\n",
      "\n"
     ]
    }
   ],
   "source": [
    "classifiers = {\n",
    "    'MultinomialNB':MultinomialNB(alpha=0.75)\n",
    "}\n",
    "\n",
    "# Loop through classifiers and train each\n",
    "for name, clf in classifiers.items():\n",
    "    print(f\"\\nTraining with {name}\")\n",
    "    \n",
    "    # Create pipeline for each classifier\n",
    "    pipeline = Pipeline([\n",
    "        ('CountVectorizer', CountVectorizer(ngram_range=(1, 2))),\n",
    "        ('classifier', clf)\n",
    "    ])\n",
    "    \n",
    "    # Train the model\n",
    "    pipeline.fit(x_train, y_train)\n",
    "    \n",
    "    # Make predictions\n",
    "    y_pred = pipeline.predict(x_test)\n",
    "    \n",
    "    # Print classification report\n",
    "    print(f\"Results for {name}:\")\n",
    "    print(classification_report(y_test, y_pred,zero_division=0))"
   ]
  },
  {
   "cell_type": "markdown",
   "id": "fe641756-76fb-424e-8689-bf44f6c1994e",
   "metadata": {},
   "source": [
    "### Pre-processing dataset and then training model again with above classifiers"
   ]
  },
  {
   "cell_type": "code",
   "execution_count": 17,
   "id": "77db0cf4-5c07-45e4-895c-23b52ba94da6",
   "metadata": {},
   "outputs": [],
   "source": [
    "df[\"Text\"]=df[\"Text\"].str.lower()"
   ]
  },
  {
   "cell_type": "code",
   "execution_count": 18,
   "id": "a1806b94-356b-4f34-9c7f-e80e3ef4d8b1",
   "metadata": {},
   "outputs": [],
   "source": [
    "df['Text']=df['Text'].apply(remove_punctuations)"
   ]
  },
  {
   "cell_type": "code",
   "execution_count": 19,
   "id": "e381f5b5-e91a-484c-bbed-70df72dc7293",
   "metadata": {},
   "outputs": [],
   "source": [
    "df['Text']=df['Text'].apply(remove_stopwords)"
   ]
  },
  {
   "cell_type": "code",
   "execution_count": 20,
   "id": "bf07fc9b-05c1-426c-91b6-51acc7964eb3",
   "metadata": {},
   "outputs": [],
   "source": [
    "df['Text']=df['Text'].apply(tokenized_text)"
   ]
  },
  {
   "cell_type": "code",
   "execution_count": 21,
   "id": "a110c14c-04a0-4166-bf85-b6e10384e702",
   "metadata": {},
   "outputs": [
    {
     "data": {
      "text/html": [
       "<div>\n",
       "<style scoped>\n",
       "    .dataframe tbody tr th:only-of-type {\n",
       "        vertical-align: middle;\n",
       "    }\n",
       "\n",
       "    .dataframe tbody tr th {\n",
       "        vertical-align: top;\n",
       "    }\n",
       "\n",
       "    .dataframe thead th {\n",
       "        text-align: right;\n",
       "    }\n",
       "</style>\n",
       "<table border=\"1\" class=\"dataframe\">\n",
       "  <thead>\n",
       "    <tr style=\"text-align: right;\">\n",
       "      <th></th>\n",
       "      <th>Text</th>\n",
       "      <th>label</th>\n",
       "      <th>Label_map</th>\n",
       "    </tr>\n",
       "  </thead>\n",
       "  <tbody>\n",
       "    <tr>\n",
       "      <th>0</th>\n",
       "      <td>[top, trump, surrogate, brutally, stabs, back,...</td>\n",
       "      <td>Fake</td>\n",
       "      <td>0</td>\n",
       "    </tr>\n",
       "    <tr>\n",
       "      <th>1</th>\n",
       "      <td>[us, conservative, leader, optimistic, common,...</td>\n",
       "      <td>Real</td>\n",
       "      <td>1</td>\n",
       "    </tr>\n",
       "    <tr>\n",
       "      <th>2</th>\n",
       "      <td>[trump, proposes, us, tax, overhaul, stirs, co...</td>\n",
       "      <td>Real</td>\n",
       "      <td>1</td>\n",
       "    </tr>\n",
       "    <tr>\n",
       "      <th>3</th>\n",
       "      <td>[court, forces, ohio, allow, millions, illegal...</td>\n",
       "      <td>Fake</td>\n",
       "      <td>0</td>\n",
       "    </tr>\n",
       "    <tr>\n",
       "      <th>4</th>\n",
       "      <td>[democrats, say, trump, agrees, work, immigrat...</td>\n",
       "      <td>Real</td>\n",
       "      <td>1</td>\n",
       "    </tr>\n",
       "  </tbody>\n",
       "</table>\n",
       "</div>"
      ],
      "text/plain": [
       "                                                Text label  Label_map\n",
       "0  [top, trump, surrogate, brutally, stabs, back,...  Fake          0\n",
       "1  [us, conservative, leader, optimistic, common,...  Real          1\n",
       "2  [trump, proposes, us, tax, overhaul, stirs, co...  Real          1\n",
       "3  [court, forces, ohio, allow, millions, illegal...  Fake          0\n",
       "4  [democrats, say, trump, agrees, work, immigrat...  Real          1"
      ]
     },
     "execution_count": 21,
     "metadata": {},
     "output_type": "execute_result"
    }
   ],
   "source": [
    "df.head()"
   ]
  },
  {
   "cell_type": "code",
   "execution_count": 22,
   "id": "4b864945-0e93-48c7-bb7f-4fff4d96bce3",
   "metadata": {},
   "outputs": [],
   "source": [
    "df['text']=df['Text'].apply(wordnet_lemmatizing)"
   ]
  },
  {
   "cell_type": "code",
   "execution_count": 23,
   "id": "4743646b-e62b-4385-829c-6aa469ed866f",
   "metadata": {},
   "outputs": [
    {
     "data": {
      "text/html": [
       "<div>\n",
       "<style scoped>\n",
       "    .dataframe tbody tr th:only-of-type {\n",
       "        vertical-align: middle;\n",
       "    }\n",
       "\n",
       "    .dataframe tbody tr th {\n",
       "        vertical-align: top;\n",
       "    }\n",
       "\n",
       "    .dataframe thead th {\n",
       "        text-align: right;\n",
       "    }\n",
       "</style>\n",
       "<table border=\"1\" class=\"dataframe\">\n",
       "  <thead>\n",
       "    <tr style=\"text-align: right;\">\n",
       "      <th></th>\n",
       "      <th>Text</th>\n",
       "      <th>label</th>\n",
       "      <th>Label_map</th>\n",
       "      <th>text</th>\n",
       "    </tr>\n",
       "  </thead>\n",
       "  <tbody>\n",
       "    <tr>\n",
       "      <th>0</th>\n",
       "      <td>[top, trump, surrogate, brutally, stabs, back,...</td>\n",
       "      <td>Fake</td>\n",
       "      <td>0</td>\n",
       "      <td>[top, trump, surrogate, brutally, stab, back, ...</td>\n",
       "    </tr>\n",
       "    <tr>\n",
       "      <th>1</th>\n",
       "      <td>[us, conservative, leader, optimistic, common,...</td>\n",
       "      <td>Real</td>\n",
       "      <td>1</td>\n",
       "      <td>[u, conservative, leader, optimistic, common, ...</td>\n",
       "    </tr>\n",
       "    <tr>\n",
       "      <th>2</th>\n",
       "      <td>[trump, proposes, us, tax, overhaul, stirs, co...</td>\n",
       "      <td>Real</td>\n",
       "      <td>1</td>\n",
       "      <td>[trump, proposes, u, tax, overhaul, stir, conc...</td>\n",
       "    </tr>\n",
       "    <tr>\n",
       "      <th>3</th>\n",
       "      <td>[court, forces, ohio, allow, millions, illegal...</td>\n",
       "      <td>Fake</td>\n",
       "      <td>0</td>\n",
       "      <td>[court, force, ohio, allow, million, illegally...</td>\n",
       "    </tr>\n",
       "    <tr>\n",
       "      <th>4</th>\n",
       "      <td>[democrats, say, trump, agrees, work, immigrat...</td>\n",
       "      <td>Real</td>\n",
       "      <td>1</td>\n",
       "      <td>[democrat, say, trump, agrees, work, immigrati...</td>\n",
       "    </tr>\n",
       "  </tbody>\n",
       "</table>\n",
       "</div>"
      ],
      "text/plain": [
       "                                                Text label  Label_map  \\\n",
       "0  [top, trump, surrogate, brutally, stabs, back,...  Fake          0   \n",
       "1  [us, conservative, leader, optimistic, common,...  Real          1   \n",
       "2  [trump, proposes, us, tax, overhaul, stirs, co...  Real          1   \n",
       "3  [court, forces, ohio, allow, millions, illegal...  Fake          0   \n",
       "4  [democrats, say, trump, agrees, work, immigrat...  Real          1   \n",
       "\n",
       "                                                text  \n",
       "0  [top, trump, surrogate, brutally, stab, back, ...  \n",
       "1  [u, conservative, leader, optimistic, common, ...  \n",
       "2  [trump, proposes, u, tax, overhaul, stir, conc...  \n",
       "3  [court, force, ohio, allow, million, illegally...  \n",
       "4  [democrat, say, trump, agrees, work, immigrati...  "
      ]
     },
     "execution_count": 23,
     "metadata": {},
     "output_type": "execute_result"
    }
   ],
   "source": [
    "df.head()"
   ]
  },
  {
   "cell_type": "code",
   "execution_count": 24,
   "id": "e1a8e9d3-df6f-4bd8-907a-84770ce276bc",
   "metadata": {},
   "outputs": [],
   "source": [
    "df['text_join']=df['text'].apply(lambda x: \" \".join(x))"
   ]
  },
  {
   "cell_type": "code",
   "execution_count": 25,
   "id": "06f467e3-693a-46e8-b714-5270e63ffca5",
   "metadata": {},
   "outputs": [
    {
     "data": {
      "text/html": [
       "<div>\n",
       "<style scoped>\n",
       "    .dataframe tbody tr th:only-of-type {\n",
       "        vertical-align: middle;\n",
       "    }\n",
       "\n",
       "    .dataframe tbody tr th {\n",
       "        vertical-align: top;\n",
       "    }\n",
       "\n",
       "    .dataframe thead th {\n",
       "        text-align: right;\n",
       "    }\n",
       "</style>\n",
       "<table border=\"1\" class=\"dataframe\">\n",
       "  <thead>\n",
       "    <tr style=\"text-align: right;\">\n",
       "      <th></th>\n",
       "      <th>Text</th>\n",
       "      <th>label</th>\n",
       "      <th>Label_map</th>\n",
       "      <th>text</th>\n",
       "      <th>text_join</th>\n",
       "    </tr>\n",
       "  </thead>\n",
       "  <tbody>\n",
       "    <tr>\n",
       "      <th>0</th>\n",
       "      <td>[top, trump, surrogate, brutally, stabs, back,...</td>\n",
       "      <td>Fake</td>\n",
       "      <td>0</td>\n",
       "      <td>[top, trump, surrogate, brutally, stab, back, ...</td>\n",
       "      <td>top trump surrogate brutally stab back ‘ he ’ ...</td>\n",
       "    </tr>\n",
       "    <tr>\n",
       "      <th>1</th>\n",
       "      <td>[us, conservative, leader, optimistic, common,...</td>\n",
       "      <td>Real</td>\n",
       "      <td>1</td>\n",
       "      <td>[u, conservative, leader, optimistic, common, ...</td>\n",
       "      <td>u conservative leader optimistic common ground...</td>\n",
       "    </tr>\n",
       "    <tr>\n",
       "      <th>2</th>\n",
       "      <td>[trump, proposes, us, tax, overhaul, stirs, co...</td>\n",
       "      <td>Real</td>\n",
       "      <td>1</td>\n",
       "      <td>[trump, proposes, u, tax, overhaul, stir, conc...</td>\n",
       "      <td>trump proposes u tax overhaul stir concern def...</td>\n",
       "    </tr>\n",
       "    <tr>\n",
       "      <th>3</th>\n",
       "      <td>[court, forces, ohio, allow, millions, illegal...</td>\n",
       "      <td>Fake</td>\n",
       "      <td>0</td>\n",
       "      <td>[court, force, ohio, allow, million, illegally...</td>\n",
       "      <td>court force ohio allow million illegally purge...</td>\n",
       "    </tr>\n",
       "    <tr>\n",
       "      <th>4</th>\n",
       "      <td>[democrats, say, trump, agrees, work, immigrat...</td>\n",
       "      <td>Real</td>\n",
       "      <td>1</td>\n",
       "      <td>[democrat, say, trump, agrees, work, immigrati...</td>\n",
       "      <td>democrat say trump agrees work immigration bil...</td>\n",
       "    </tr>\n",
       "  </tbody>\n",
       "</table>\n",
       "</div>"
      ],
      "text/plain": [
       "                                                Text label  Label_map  \\\n",
       "0  [top, trump, surrogate, brutally, stabs, back,...  Fake          0   \n",
       "1  [us, conservative, leader, optimistic, common,...  Real          1   \n",
       "2  [trump, proposes, us, tax, overhaul, stirs, co...  Real          1   \n",
       "3  [court, forces, ohio, allow, millions, illegal...  Fake          0   \n",
       "4  [democrats, say, trump, agrees, work, immigrat...  Real          1   \n",
       "\n",
       "                                                text  \\\n",
       "0  [top, trump, surrogate, brutally, stab, back, ...   \n",
       "1  [u, conservative, leader, optimistic, common, ...   \n",
       "2  [trump, proposes, u, tax, overhaul, stir, conc...   \n",
       "3  [court, force, ohio, allow, million, illegally...   \n",
       "4  [democrat, say, trump, agrees, work, immigrati...   \n",
       "\n",
       "                                           text_join  \n",
       "0  top trump surrogate brutally stab back ‘ he ’ ...  \n",
       "1  u conservative leader optimistic common ground...  \n",
       "2  trump proposes u tax overhaul stir concern def...  \n",
       "3  court force ohio allow million illegally purge...  \n",
       "4  democrat say trump agrees work immigration bil...  "
      ]
     },
     "execution_count": 25,
     "metadata": {},
     "output_type": "execute_result"
    }
   ],
   "source": [
    "df.head()"
   ]
  },
  {
   "cell_type": "code",
   "execution_count": 26,
   "id": "fff9c7ff-8d22-4491-9fd1-f2fd456c2a61",
   "metadata": {},
   "outputs": [],
   "source": [
    "#Do the 'train-test' splitting with test size of 20% with random state of 2022 and stratify sampling too\n",
    "#Note: Make sure to use only the \"preprocessed_txt\" column for splitting\n",
    "\n",
    "X_train, X_test, y_train, y_test = train_test_split(\n",
    "    df['text_join'], \n",
    "    df.Label_map,\n",
    "    test_size=0.2, # 20% samples will go to test dataset\n",
    "    random_state=2022,\n",
    "    stratify=df.Label_map\n",
    ")"
   ]
  },
  {
   "cell_type": "code",
   "execution_count": 27,
   "id": "0879203b-7c54-4ce5-b689-916383242eeb",
   "metadata": {},
   "outputs": [
    {
     "name": "stdout",
     "output_type": "stream",
     "text": [
      "              precision    recall  f1-score   support\n",
      "\n",
      "           0       0.93      0.99      0.95      1000\n",
      "           1       0.98      0.92      0.95       980\n",
      "\n",
      "    accuracy                           0.95      1980\n",
      "   macro avg       0.96      0.95      0.95      1980\n",
      "weighted avg       0.95      0.95      0.95      1980\n",
      "\n"
     ]
    }
   ],
   "source": [
    "#1. create a pipeline object\n",
    "clf = Pipeline([\n",
    "    ('vectorizer_n_grams', CountVectorizer(ngram_range = (3, 3))),                       #using the ngram_range parameter \n",
    "    ('random_forest', (RandomForestClassifier()))         \n",
    "])\n",
    "\n",
    "#2. fit with X_train and y_train\n",
    "clf.fit(X_train, y_train)\n",
    "\n",
    "\n",
    "#3. get the predictions for X_test and store it in y_pred\n",
    "y_pred = clf.predict(X_test)\n",
    "\n",
    "\n",
    "#4. print the classfication report\n",
    "print(classification_report(y_test, y_pred))"
   ]
  },
  {
   "cell_type": "markdown",
   "id": "fb8ccdc7-985c-4724-b7d0-47c8380f7983",
   "metadata": {},
   "source": [
    "### Printing & Plotting Confusion Matrix for Trained Model"
   ]
  },
  {
   "cell_type": "code",
   "execution_count": 28,
   "id": "7a8bb6a0-4ac7-45e0-b4c6-3614b414b8ef",
   "metadata": {},
   "outputs": [
    {
     "data": {
      "text/plain": [
       "array([[986,  14],\n",
       "       [ 79, 901]], dtype=int64)"
      ]
     },
     "execution_count": 28,
     "metadata": {},
     "output_type": "execute_result"
    }
   ],
   "source": [
    "#finally print the confusion matrix for the best model\n",
    "\n",
    "from sklearn.metrics import confusion_matrix\n",
    "cm = confusion_matrix(y_test, y_pred)\n",
    "cm\n"
   ]
  },
  {
   "cell_type": "code",
   "execution_count": 29,
   "id": "331992ac-1a8f-4322-95c7-b2bcc250678f",
   "metadata": {},
   "outputs": [
    {
     "data": {
      "text/plain": [
       "Text(95.72222222222221, 0.5, 'Truth')"
      ]
     },
     "execution_count": 29,
     "metadata": {},
     "output_type": "execute_result"
    },
    {
     "data": {
      "image/png": "[encoded data removed]",
      "text/plain": [
       "<Figure size 1000x700 with 2 Axes>"
      ]
     },
     "metadata": {},
     "output_type": "display_data"
    }
   ],
   "source": [
    "from matplotlib import pyplot as plt\n",
    "import seaborn as sn\n",
    "plt.figure(figsize = (10,7))\n",
    "sn.heatmap(cm, annot=True, fmt='d')\n",
    "plt.xlabel('Prediction')\n",
    "plt.ylabel('Truth')"
   ]
  },
  {
   "cell_type": "code",
   "execution_count": 30,
   "id": "653648cc-3e49-4dac-a35e-4831a20e3c48",
   "metadata": {},
   "outputs": [
    {
     "name": "stdout",
     "output_type": "stream",
     "text": [
      "              precision    recall  f1-score   support\n",
      "\n",
      "           0       0.99      0.97      0.98      1000\n",
      "           1       0.97      0.99      0.98       980\n",
      "\n",
      "    accuracy                           0.98      1980\n",
      "   macro avg       0.98      0.98      0.98      1980\n",
      "weighted avg       0.98      0.98      0.98      1980\n",
      "\n",
      "[[968  32]\n",
      " [  5 975]]\n"
     ]
    },
    {
     "data": {
      "text/plain": [
       "Text(95.72222222222221, 0.5, 'Truth')"
      ]
     },
     "execution_count": 30,
     "metadata": {},
     "output_type": "execute_result"
    },
    {
     "data": {
      "image/png": "[encoded data removed]",
      "text/plain": [
       "<Figure size 1000x700 with 2 Axes>"
      ]
     },
     "metadata": {},
     "output_type": "display_data"
    }
   ],
   "source": [
    "\n",
    "clf = Pipeline([\n",
    "    ('vectorizer_n_grams', CountVectorizer(ngram_range = (1,2))),                       #using the ngram_range parameter \n",
    "    ('clf', (MultinomialNB(alpha=0.75)))         \n",
    "])\n",
    "\n",
    "#2. fit with X_train and y_train\n",
    "clf.fit(X_train, y_train)\n",
    "\n",
    "\n",
    "#3. get the predictions for X_test and store it in y_pred\n",
    "y_pred = clf.predict(X_test)\n",
    "\n",
    "\n",
    "#4. print the classfication report\n",
    "print(classification_report(y_test, y_pred))\n",
    "cm = confusion_matrix(y_test, y_pred)\n",
    "print(cm)\n",
    "plt.figure(figsize = (10,7))\n",
    "sn.heatmap(cm, annot=True, fmt='d')\n",
    "plt.xlabel('Prediction')\n",
    "plt.ylabel('Truth')"
   ]
  },
  {
   "cell_type": "code",
   "execution_count": 32,
   "id": "35141be4-bf72-4594-b985-cac7c09fcc52",
   "metadata": {},
   "outputs": [
    {
     "name": "stdout",
     "output_type": "stream",
     "text": [
      "              precision    recall  f1-score   support\n",
      "\n",
      "           0       0.98      0.83      0.90      1000\n",
      "           1       0.85      0.98      0.91       980\n",
      "\n",
      "    accuracy                           0.91      1980\n",
      "   macro avg       0.91      0.91      0.90      1980\n",
      "weighted avg       0.92      0.91      0.90      1980\n",
      "\n",
      "[[829 171]\n",
      " [ 17 963]]\n"
     ]
    },
    {
     "data": {
      "text/plain": [
       "Text(95.72222222222221, 0.5, 'Truth')"
      ]
     },
     "execution_count": 32,
     "metadata": {},
     "output_type": "execute_result"
    },
    {
     "data": {
      "image/png": "[encoded data removed]",
      "text/plain": [
       "<Figure size 1000x700 with 2 Axes>"
      ]
     },
     "metadata": {},
     "output_type": "display_data"
    }
   ],
   "source": [
    "\n",
    "clf = Pipeline([\n",
    "    ('vectorizer_n_grams', CountVectorizer(ngram_range = (1,3))),                       #using the ngram_range parameter \n",
    "    ('clf', KNeighborsClassifier(n_neighbors=10,metric=\"cosine\"))\n",
    "])\n",
    "\n",
    "#2. fit with X_train and y_train\n",
    "clf.fit(X_train, y_train)\n",
    "\n",
    "\n",
    "#3. get the predictions for X_test and store it in y_pred\n",
    "y_pred = clf.predict(X_test)\n",
    "\n",
    "\n",
    "#4. print the classfication report\n",
    "print(classification_report(y_test, y_pred))\n",
    "cm = confusion_matrix(y_test, y_pred)\n",
    "print(cm)\n",
    "plt.figure(figsize = (10,7))\n",
    "sn.heatmap(cm, annot=True, fmt='d')\n",
    "plt.xlabel('Prediction')\n",
    "plt.ylabel('Truth')"
   ]
  },
  {
   "cell_type": "code",
   "execution_count": 33,
   "id": "70fd4521-f318-496e-84bd-07f56ff287a5",
   "metadata": {},
   "outputs": [
    {
     "name": "stdout",
     "output_type": "stream",
     "text": [
      "              precision    recall  f1-score   support\n",
      "\n",
      "           0       1.00      0.01      0.03      1000\n",
      "           1       0.50      1.00      0.67       980\n",
      "\n",
      "    accuracy                           0.50      1980\n",
      "   macro avg       0.75      0.51      0.35      1980\n",
      "weighted avg       0.75      0.50      0.34      1980\n",
      "\n",
      "[[ 15 985]\n",
      " [  0 980]]\n"
     ]
    },
    {
     "data": {
      "text/plain": [
       "Text(95.72222222222221, 0.5, 'Truth')"
      ]
     },
     "execution_count": 33,
     "metadata": {},
     "output_type": "execute_result"
    },
    {
     "data": {
      "image/png": "[encoded data removed]",
      "text/plain": [
       "<Figure size 1000x700 with 2 Axes>"
      ]
     },
     "metadata": {},
     "output_type": "display_data"
    }
   ],
   "source": [
    "\n",
    "clf = Pipeline([\n",
    "    ('vectorizer_n_grams', CountVectorizer(ngram_range = (1,3))),                       #using the ngram_range parameter \n",
    "    ('clf', KNeighborsClassifier(n_neighbors=10,metric=\"euclidean\"))      \n",
    "])\n",
    "\n",
    "#2. fit with X_train and y_train\n",
    "clf.fit(X_train, y_train)\n",
    "\n",
    "\n",
    "#3. get the predictions for X_test and store it in y_pred\n",
    "y_pred = clf.predict(X_test)\n",
    "\n",
    "\n",
    "#4. print the classfication report\n",
    "print(classification_report(y_test, y_pred))\n",
    "cm = confusion_matrix(y_test, y_pred)\n",
    "print(cm)\n",
    "plt.figure(figsize = (10,7))\n",
    "sn.heatmap(cm, annot=True, fmt='d')\n",
    "plt.xlabel('Prediction')\n",
    "plt.ylabel('Truth')"
   ]
  }
 ],
 "metadata": {
  "kernelspec": {
   "display_name": "Python 3 (ipykernel)",
   "language": "python",
   "name": "python3"
  },
  "language_info": {
   "codemirror_mode": {
    "name": "ipython",
    "version": 3
   },
   "file_extension": ".py",
   "mimetype": "text/x-python",
   "name": "python",
   "nbconvert_exporter": "python",
   "pygments_lexer": "ipython3",
   "version": "3.12.6"
  }
 },
 "nbformat": 4,
 "nbformat_minor": 5
}
