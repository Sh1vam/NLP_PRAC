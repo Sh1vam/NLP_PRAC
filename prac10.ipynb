{
 "cells": [
  {
   "cell_type": "markdown",
   "id": "39c50d81-5c2e-4a95-b549-cd366332df52",
   "metadata": {},
   "source": [
    "# Practical 10\n",
    "## Implement text similarity technique."
   ]
  },
  {
   "cell_type": "code",
   "execution_count": 2,
   "id": "6a407a3e-ffaf-422b-b790-897bd6603367",
   "metadata": {},
   "outputs": [],
   "source": [
    "from nlp_lib import *"
   ]
  },
  {
   "cell_type": "code",
   "execution_count": 3,
   "id": "b0754dd2-f7bc-44fe-a9ac-697f3a0dff07",
   "metadata": {},
   "outputs": [],
   "source": [
    "nlp=spacy.load(\"en_core_web_md\")"
   ]
  },
  {
   "cell_type": "markdown",
   "id": "b673e685-8a83-4a43-9fa1-64fe0f77d263",
   "metadata": {},
   "source": [
    "### Custome Function for Padding"
   ]
  },
  {
   "cell_type": "code",
   "execution_count": 4,
   "id": "7f32a465-3bee-4acd-93da-07c141e82346",
   "metadata": {},
   "outputs": [],
   "source": [
    "def pad_docs(doc1, doc2):\n",
    "    len1 = len(doc1.split(\" \"))\n",
    "    len2 = len(doc2.split(\" \"))\n",
    "    pad_token = \" <>\"\n",
    "    # If doc1 is shorter, we pad it with \"<PAD>\"\n",
    "    if len1 < len2:\n",
    "        \n",
    "        pad_length = len2 - len1\n",
    "        token = (pad_token * pad_length)\n",
    "        padded_doc1 = \" \".join(doc1.split(\" \")) + token\n",
    "        return padded_doc1, doc2, len2\n",
    "    \n",
    "    # If doc2 is shorter, we pad it with \"<PAD>\"\n",
    "    elif len2 < len1:\n",
    "\n",
    "        pad_length = len1 - len2\n",
    "        token = pad_token * pad_length\n",
    "        padded_doc2 = \" \".join(doc2.split(\" \")) + token\n",
    "        return doc1, padded_doc2, len1\n",
    "    \n",
    "    # If they're the same length, no padding needed\n",
    "    return doc1, doc2, len1"
   ]
  },
  {
   "cell_type": "markdown",
   "id": "5864ec8e-576a-4b04-adac-498eb12057c8",
   "metadata": {},
   "source": [
    "### SImple Tex similarity Technique using Spacy Library"
   ]
  },
  {
   "cell_type": "code",
   "execution_count": 7,
   "id": "615c2c79-3e6d-438b-a906-1c2055b6f3c4",
   "metadata": {},
   "outputs": [
    {
     "name": "stdout",
     "output_type": "stream",
     "text": [
      "0.2219836413860321\n",
      "0.5155265927314758\n",
      "0.9479376077651978\n"
     ]
    }
   ],
   "source": [
    "w1 =\"red\"\n",
    "w2 =\"Blue\"\n",
    "w1=nlp.vocab[w1]\n",
    "w2=nlp.vocab[w2]\n",
    "print(w1.similarity(w2))\n",
    "w3=\"color\"\n",
    "w3=nlp.vocab[w3]\n",
    "print(w1.similarity(w3))\n",
    "w4=\"colour\"\n",
    "w4=nlp.vocab[w4]\n",
    "print(w3.similarity(w4))"
   ]
  },
  {
   "cell_type": "code",
   "execution_count": 12,
   "id": "b57528ed-3c5d-4c0c-b0a8-a4ce472d2bb3",
   "metadata": {},
   "outputs": [
    {
     "data": {
      "text/plain": [
       "0.9408547336346195"
      ]
     },
     "execution_count": 12,
     "metadata": {},
     "output_type": "execute_result"
    }
   ],
   "source": [
    "w1 =\"he is eating apple\"\n",
    "w2 =\"he is eating food\"\n",
    "w1=nlp(w1)\n",
    "w2=nlp(w2)\n",
    "w1.similarity(w2)"
   ]
  },
  {
   "cell_type": "code",
   "execution_count": 22,
   "id": "f8001489-c813-4bdc-9be8-b6269e04702d",
   "metadata": {},
   "outputs": [
    {
     "name": "stdout",
     "output_type": "stream",
     "text": [
      "[('he', 'PRON'), ('is', 'AUX'), ('eating', 'VERB'), ('apple', 'NOUN')] [('he', 'PRON'), ('is', 'AUX'), ('eating', 'VERB'), ('fruit', 'NOUN')]\n",
      "['he', 'eating', 'apple'] ['he', 'eating', 'fruit']\n",
      "he he\n",
      "1.0\n",
      "eating eating\n",
      "1.0\n",
      "apple fruit\n",
      "0.6735886257554996\n"
     ]
    }
   ],
   "source": [
    "l=['PRON','PROPN','ADJ','NOUN','ADV','VERB']\n",
    "w1 =\"he is eating apple\"\n",
    "w2 =\"he is eating fruit\"\n",
    "w1,w2,len0=pad_docs(w1, w2)\n",
    "p1=pos_tag(w1)\n",
    "p2=pos_tag(w2)\n",
    "print(p1,p2)\n",
    "t1=[x for x,y in p1 if y in l]\n",
    "t2=[x for x,y in p2 if y in l]\n",
    "print(t1,t2)\n",
    "for i in range(0,len0-1):\n",
    "    a=nlp(t1[i])\n",
    "    b=nlp(t2[i])\n",
    "    print(a,b)\n",
    "    print(a.similarity(b))"
   ]
  },
  {
   "cell_type": "markdown",
   "id": "bd9a5816-096f-4d40-bfd2-4ff73c194e3d",
   "metadata": {},
   "source": [
    "### Text Similarity Using pretrained Model"
   ]
  },
  {
   "cell_type": "code",
   "execution_count": 23,
   "id": "26aa7c27-1631-4220-8fb7-c10d31b7f987",
   "metadata": {
    "scrolled": true
   },
   "outputs": [
    {
     "name": "stderr",
     "output_type": "stream",
     "text": [
      "G:\\Sem 7\\NLP\\Practicals\\venv\\Lib\\site-packages\\sentence_transformers\\cross_encoder\\CrossEncoder.py:13: TqdmExperimentalWarning: Using `tqdm.autonotebook.tqdm` in notebook mode. Use `tqdm.tqdm` instead to force console mode (e.g. in jupyter console)\n",
      "  from tqdm.autonotebook import tqdm, trange\n"
     ]
    },
    {
     "name": "stdout",
     "output_type": "stream",
     "text": [
      "WARNING:tensorflow:From G:\\Sem 7\\NLP\\Practicals\\venv\\Lib\\site-packages\\tf_keras\\src\\losses.py:2976: The name tf.losses.sparse_softmax_cross_entropy is deprecated. Please use tf.compat.v1.losses.sparse_softmax_cross_entropy instead.\n",
      "\n"
     ]
    },
    {
     "data": {
      "application/vnd.jupyter.widget-view+json": {
       "model_id": "99106bb841b947d990e7ab0b36c8f8dc",
       "version_major": 2,
       "version_minor": 0
      },
      "text/plain": [
       "modules.json:   0%|          | 0.00/349 [00:00<?, ?B/s]"
      ]
     },
     "metadata": {},
     "output_type": "display_data"
    },
    {
     "name": "stderr",
     "output_type": "stream",
     "text": [
      "G:\\Sem 7\\NLP\\Practicals\\venv\\Lib\\site-packages\\huggingface_hub\\file_download.py:147: UserWarning: `huggingface_hub` cache-system uses symlinks by default to efficiently store duplicated files but your machine does not support them in C:\\Users\\PCD\\.cache\\huggingface\\hub\\models--sentence-transformers--all-MiniLM-L6-v2. Caching files will still work but in a degraded version that might require more space on your disk. This warning can be disabled by setting the `HF_HUB_DISABLE_SYMLINKS_WARNING` environment variable. For more details, see https://huggingface.co/docs/huggingface_hub/how-to-cache#limitations.\n",
      "To support symlinks on Windows, you either need to activate Developer Mode or to run Python as an administrator. In order to activate developer mode, see this article: https://docs.microsoft.com/en-us/windows/apps/get-started/enable-your-device-for-development\n",
      "  warnings.warn(message)\n"
     ]
    },
    {
     "data": {
      "application/vnd.jupyter.widget-view+json": {
       "model_id": "2bc3d252a5d445d79e3235c729ec0862",
       "version_major": 2,
       "version_minor": 0
      },
      "text/plain": [
       "config_sentence_transformers.json:   0%|          | 0.00/116 [00:00<?, ?B/s]"
      ]
     },
     "metadata": {},
     "output_type": "display_data"
    },
    {
     "data": {
      "application/vnd.jupyter.widget-view+json": {
       "model_id": "3b570331266b46fc967699d1ab2817db",
       "version_major": 2,
       "version_minor": 0
      },
      "text/plain": [
       "README.md:   0%|          | 0.00/10.7k [00:00<?, ?B/s]"
      ]
     },
     "metadata": {},
     "output_type": "display_data"
    },
    {
     "data": {
      "application/vnd.jupyter.widget-view+json": {
       "model_id": "9d635e67a4ba4170a382aa80c1b922d8",
       "version_major": 2,
       "version_minor": 0
      },
      "text/plain": [
       "sentence_bert_config.json:   0%|          | 0.00/53.0 [00:00<?, ?B/s]"
      ]
     },
     "metadata": {},
     "output_type": "display_data"
    },
    {
     "data": {
      "application/vnd.jupyter.widget-view+json": {
       "model_id": "b4b4fa646d124be39eff5d57c1bd9acd",
       "version_major": 2,
       "version_minor": 0
      },
      "text/plain": [
       "config.json:   0%|          | 0.00/612 [00:00<?, ?B/s]"
      ]
     },
     "metadata": {},
     "output_type": "display_data"
    },
    {
     "data": {
      "application/vnd.jupyter.widget-view+json": {
       "model_id": "59ef000fed174add9569366a1e3b1e33",
       "version_major": 2,
       "version_minor": 0
      },
      "text/plain": [
       "model.safetensors:   0%|          | 0.00/90.9M [00:00<?, ?B/s]"
      ]
     },
     "metadata": {},
     "output_type": "display_data"
    },
    {
     "data": {
      "application/vnd.jupyter.widget-view+json": {
       "model_id": "62e2349bce0545cea6261089ae70a8a1",
       "version_major": 2,
       "version_minor": 0
      },
      "text/plain": [
       "tokenizer_config.json:   0%|          | 0.00/350 [00:00<?, ?B/s]"
      ]
     },
     "metadata": {},
     "output_type": "display_data"
    },
    {
     "data": {
      "application/vnd.jupyter.widget-view+json": {
       "model_id": "68dce8da2fe44649a4336ed0d2ad8bc8",
       "version_major": 2,
       "version_minor": 0
      },
      "text/plain": [
       "vocab.txt:   0%|          | 0.00/232k [00:00<?, ?B/s]"
      ]
     },
     "metadata": {},
     "output_type": "display_data"
    },
    {
     "data": {
      "application/vnd.jupyter.widget-view+json": {
       "model_id": "3c5c291a5a1d47978c7dfbddafb86953",
       "version_major": 2,
       "version_minor": 0
      },
      "text/plain": [
       "tokenizer.json:   0%|          | 0.00/466k [00:00<?, ?B/s]"
      ]
     },
     "metadata": {},
     "output_type": "display_data"
    },
    {
     "data": {
      "application/vnd.jupyter.widget-view+json": {
       "model_id": "4308fc3a70d14811aa2996990f2fb0ec",
       "version_major": 2,
       "version_minor": 0
      },
      "text/plain": [
       "special_tokens_map.json:   0%|          | 0.00/112 [00:00<?, ?B/s]"
      ]
     },
     "metadata": {},
     "output_type": "display_data"
    },
    {
     "name": "stderr",
     "output_type": "stream",
     "text": [
      "G:\\Sem 7\\NLP\\Practicals\\venv\\Lib\\site-packages\\transformers\\tokenization_utils_base.py:1617: FutureWarning: `clean_up_tokenization_spaces` was not set. It will be set to `True` by default. This behavior will be deprecated in transformers v4.45, and will be then set to `False` by default. For more details check this issue: https://github.com/huggingface/transformers/issues/31884\n",
      "  warnings.warn(\n"
     ]
    },
    {
     "data": {
      "application/vnd.jupyter.widget-view+json": {
       "model_id": "16f755a45fb14b2dbf106ad2dec8e313",
       "version_major": 2,
       "version_minor": 0
      },
      "text/plain": [
       "1_Pooling/config.json:   0%|          | 0.00/190 [00:00<?, ?B/s]"
      ]
     },
     "metadata": {},
     "output_type": "display_data"
    }
   ],
   "source": [
    "from sentence_transformers import SentenceTransformer,util\n",
    "model = SentenceTransformer('all-MiniLM-L6-v2')"
   ]
  },
  {
   "cell_type": "code",
   "execution_count": 24,
   "id": "f3293165-6442-49c2-baa3-f601dd6bfc27",
   "metadata": {
    "scrolled": true
   },
   "outputs": [
    {
     "name": "stdout",
     "output_type": "stream",
     "text": [
      "Sentence: This framework generates embeddings for each input sentence\n",
      "Embedding: [-1.37173766e-02 -4.28514928e-02 -1.56285763e-02  1.40537480e-02\n",
      "  3.95538136e-02  1.21796295e-01  2.94333622e-02 -3.17524187e-02\n",
      "  3.54959443e-02 -7.93140009e-02  1.75878443e-02 -4.04369943e-02\n",
      "  4.97259535e-02  2.54912097e-02 -7.18700737e-02  8.14968720e-02\n",
      "  1.47070258e-03  4.79627252e-02 -4.50336114e-02 -9.92174819e-02\n",
      " -2.81769987e-02  6.45046383e-02  4.44670655e-02 -4.76217233e-02\n",
      " -3.52952555e-02  4.38671820e-02 -5.28566018e-02  4.33055888e-04\n",
      "  1.01921491e-01  1.64072420e-02  3.26996520e-02 -3.45986597e-02\n",
      "  1.21339215e-02  7.94871002e-02  4.58345423e-03  1.57778151e-02\n",
      " -9.68204439e-03  2.87625771e-02 -5.05806133e-02 -1.55793652e-02\n",
      " -2.87906453e-02 -9.62280575e-03  3.15556936e-02  2.27348767e-02\n",
      "  8.71449113e-02 -3.85027640e-02 -8.84718671e-02 -8.75503290e-03\n",
      " -2.12343317e-02  2.08923630e-02 -9.02077630e-02 -5.25732301e-02\n",
      " -1.05638755e-02  2.88310554e-02 -1.61454957e-02  6.17836043e-03\n",
      " -1.23234605e-02 -1.07337041e-02  2.83353925e-02 -5.28567955e-02\n",
      " -3.58618312e-02 -5.97989075e-02 -1.09055536e-02  2.91566253e-02\n",
      "  7.97979161e-02 -3.27860005e-04  6.83503132e-03  1.32718692e-02\n",
      " -4.24620025e-02  1.87657420e-02 -9.89234149e-02  2.09049843e-02\n",
      " -8.69606137e-02 -1.50152231e-02 -4.86201495e-02  8.04414600e-02\n",
      " -3.67697747e-03 -6.65044561e-02  1.14556812e-01 -3.04228738e-02\n",
      "  2.96631809e-02 -2.80695520e-02  4.64989543e-02 -2.25513931e-02\n",
      "  8.54223073e-02  3.15446705e-02  7.34541491e-02 -2.21862029e-02\n",
      " -5.29678464e-02  1.27129946e-02 -5.27339801e-02 -1.06188759e-01\n",
      "  7.04731196e-02  2.76736524e-02 -8.05531442e-02  2.39649527e-02\n",
      " -2.65125148e-02 -2.17330884e-02  4.35275547e-02  4.84712422e-02\n",
      " -2.37067398e-02  2.85768397e-02  1.11846149e-01 -6.34935796e-02\n",
      " -1.58318300e-02 -2.26169508e-02 -1.31027857e-02 -1.62062712e-03\n",
      " -3.60928960e-02 -9.78297219e-02 -4.67729084e-02  1.76271461e-02\n",
      " -3.97492051e-02 -1.76389251e-04  3.39627638e-02 -2.09633727e-02\n",
      "  6.33662613e-03 -2.59411223e-02  8.10410231e-02  6.14393204e-02\n",
      " -5.44591853e-03  6.48276433e-02 -1.16844073e-01  2.36860774e-02\n",
      " -1.32058756e-02 -1.12476528e-01  1.90049205e-02 -1.74660243e-34\n",
      "  5.58949634e-02  1.94244571e-02  4.65439260e-02  5.18645868e-02\n",
      "  3.89390886e-02  3.40541452e-02 -4.32113931e-02  7.90637136e-02\n",
      " -9.79530141e-02 -1.27441036e-02 -2.91871391e-02  1.02052186e-02\n",
      "  1.88115686e-02  1.08942531e-01  6.63465187e-02 -5.35295233e-02\n",
      " -3.29228565e-02  4.69827168e-02  2.28882972e-02  2.74114646e-02\n",
      " -2.91982777e-02  3.12706754e-02 -2.22850442e-02 -1.02282219e-01\n",
      " -2.79116854e-02  1.13793034e-02  9.06309038e-02 -4.75414917e-02\n",
      " -1.00718975e-01 -1.23231960e-02 -7.96928555e-02 -1.44636054e-02\n",
      " -7.76400492e-02 -7.66918249e-03  9.73954424e-03  2.24204659e-02\n",
      "  7.77268484e-02 -3.17158247e-03  2.11537853e-02 -3.30394171e-02\n",
      "  9.55250300e-03 -3.73011567e-02  2.61360593e-02 -9.79088340e-03\n",
      " -6.31505400e-02  5.77436807e-03 -3.80030572e-02  1.29684908e-02\n",
      " -1.82499327e-02 -1.56283062e-02 -1.23364001e-03  5.55579402e-02\n",
      "  1.13090791e-04 -5.61256781e-02  7.40165263e-02  1.84451863e-02\n",
      " -2.66368538e-02  1.31951887e-02  7.50086680e-02 -2.46796999e-02\n",
      " -3.24006192e-02 -1.57675110e-02 -8.03517085e-03 -5.61318407e-03\n",
      "  1.05687650e-02  3.26166628e-03 -3.91990058e-02 -9.38677192e-02\n",
      "  1.14227176e-01  6.57304823e-02 -4.72633801e-02  1.45088043e-02\n",
      " -3.54490578e-02 -3.37761566e-02 -5.15505783e-02 -3.81003413e-03\n",
      " -5.15036173e-02 -5.93429357e-02 -1.69413164e-03  7.42107853e-02\n",
      " -4.20091450e-02 -7.19975159e-02  3.17250155e-02 -1.66303478e-02\n",
      "  3.96985561e-03 -6.52750954e-02  2.77391206e-02 -7.51649365e-02\n",
      "  2.27455478e-02 -3.91367972e-02  1.54316034e-02 -5.54908440e-02\n",
      "  1.23318695e-02 -2.59520821e-02  6.66423291e-02 -6.91259784e-34\n",
      "  3.31628881e-02  8.47929120e-02 -6.65583685e-02  3.33541296e-02\n",
      "  4.71612019e-03  1.35361934e-02 -5.38694076e-02  9.20694098e-02\n",
      " -2.96876878e-02  3.16219591e-02 -2.37497296e-02  1.98771264e-02\n",
      "  1.03446208e-01 -9.06947628e-02  6.30630227e-03  1.42886210e-02\n",
      "  1.19293965e-02  6.43724250e-03  4.20104489e-02  1.25344675e-02\n",
      "  3.93019728e-02  5.35691902e-02 -4.30749878e-02  6.10432550e-02\n",
      " -5.39894900e-05  6.91682622e-02  1.05520161e-02  1.22111859e-02\n",
      " -7.23185241e-02  2.50469632e-02 -5.18371426e-02 -4.36562151e-02\n",
      " -6.71818480e-02  1.34828622e-02 -7.25888833e-02  7.04169506e-03\n",
      "  6.58939555e-02  1.08994814e-02 -2.60012504e-03  5.49968928e-02\n",
      "  5.06966524e-02  3.27948593e-02 -6.68833479e-02  6.45557567e-02\n",
      " -2.52075791e-02 -2.92572360e-02 -1.16696693e-01  3.24064419e-02\n",
      "  5.85858300e-02 -3.51756364e-02 -7.15240538e-02  2.24935971e-02\n",
      " -1.00786731e-01 -4.74544838e-02 -7.61962980e-02 -5.87166660e-02\n",
      "  4.21138406e-02 -7.47214034e-02  1.98468212e-02 -3.36501049e-03\n",
      " -5.29736504e-02  2.74729654e-02  3.45736481e-02 -6.11846745e-02\n",
      "  1.06364816e-01 -9.64119881e-02 -4.55944762e-02  1.51489871e-02\n",
      " -5.13524143e-03 -6.64447695e-02  4.31721397e-02 -1.10405665e-02\n",
      " -9.80248768e-03  7.53783211e-02 -1.49571085e-02 -4.80208732e-02\n",
      "  5.80726638e-02 -2.43896600e-02 -2.23137531e-02 -4.36992384e-02\n",
      "  5.12054116e-02 -3.28625925e-02  1.08763345e-01  6.08926564e-02\n",
      "  3.30792693e-03  5.53820096e-02  8.43201354e-02  1.27087506e-02\n",
      "  3.84465680e-02  6.52325526e-02 -2.94683855e-02  5.08005209e-02\n",
      " -2.09347811e-02  1.46135718e-01  2.25561447e-02 -1.77227797e-08\n",
      " -5.02672754e-02 -2.79197848e-04 -1.00328609e-01  2.42811460e-02\n",
      " -7.54043311e-02 -3.79139930e-02  3.96049619e-02  3.10079549e-02\n",
      " -9.05706547e-03 -6.50411993e-02  4.05453183e-02  4.83390093e-02\n",
      " -4.56962548e-02  4.76004649e-03  2.64360011e-03  9.35614109e-02\n",
      " -4.02600132e-02  3.27402242e-02  1.18298084e-02  5.54344878e-02\n",
      "  1.48052201e-01  7.21189529e-02  2.76963983e-04  1.68650933e-02\n",
      "  8.34880210e-03 -8.76157451e-03 -1.33649604e-02  6.14237003e-02\n",
      "  1.57168359e-02  6.94961101e-02  1.08621605e-02  6.08018115e-02\n",
      " -5.33421598e-02 -3.47924158e-02 -3.36272568e-02  6.93906695e-02\n",
      "  1.22987814e-02 -1.45237401e-01 -2.06970051e-03 -4.61132862e-02\n",
      "  3.72745539e-03 -5.59357181e-03 -1.00659855e-01 -4.45953384e-02\n",
      "  5.40921614e-02  4.98891901e-03  1.49534428e-02 -8.26059729e-02\n",
      "  6.26630709e-02 -5.01907524e-03 -4.81857546e-02 -3.53991427e-02\n",
      "  9.03387740e-03 -2.42338106e-02  5.66267483e-02  2.51529049e-02\n",
      " -1.70709044e-02 -1.24780368e-02  3.19517814e-02  1.38421049e-02\n",
      " -1.55814998e-02  1.00178242e-01  1.23657227e-01 -4.22966927e-02]\n",
      "\n",
      "Sentence: Sentences are passed as a list of string.\n",
      "Embedding: [ 5.64525016e-02  5.50024062e-02  3.13795693e-02  3.39485370e-02\n",
      " -3.54247540e-02  8.34667832e-02  9.88801047e-02  7.27542909e-03\n",
      " -6.68665115e-03 -7.65809743e-03  7.93737993e-02  7.39662442e-04\n",
      "  1.49291996e-02 -1.51046878e-02  3.67673934e-02  4.78743389e-02\n",
      " -4.81969267e-02 -3.76051776e-02 -4.60278392e-02 -8.89816433e-02\n",
      "  1.20228142e-01  1.30663231e-01 -3.73936184e-02  2.47858884e-03\n",
      "  2.55820365e-03  7.25814402e-02 -6.80436492e-02 -5.24696633e-02\n",
      "  4.90234196e-02  2.99563054e-02 -5.84429577e-02 -2.02263445e-02\n",
      "  2.08821781e-02  9.76692066e-02  3.52390595e-02  3.91141139e-02\n",
      "  1.05667952e-02  1.56233308e-03 -1.30823189e-02  8.52903072e-03\n",
      " -4.84092347e-03 -2.03766599e-02 -2.71800850e-02  2.83307601e-02\n",
      "  3.66017893e-02  2.51276270e-02 -9.90861878e-02  1.15626426e-02\n",
      " -3.60380225e-02 -7.23784119e-02 -1.12670131e-01  1.12942196e-02\n",
      " -3.86397503e-02  4.67386246e-02 -2.88460795e-02  2.26703603e-02\n",
      " -8.52406863e-03  3.32814641e-02 -1.06581522e-03 -7.09745809e-02\n",
      " -6.31170496e-02 -5.72187155e-02 -6.16026372e-02  5.47146462e-02\n",
      "  1.18317446e-02 -4.66261171e-02  2.56959517e-02 -7.07414048e-03\n",
      " -5.73842712e-02  4.12839502e-02 -5.91503382e-02  5.89021817e-02\n",
      " -4.41697873e-02  4.65081111e-02 -3.15814093e-02  5.58312573e-02\n",
      "  5.54578491e-02 -5.96533604e-02  4.06407155e-02  4.83759400e-03\n",
      " -4.96768132e-02 -1.00944333e-01  3.40078212e-02  4.13271086e-03\n",
      " -2.93521979e-03  2.11837552e-02 -3.73962112e-02 -2.79066768e-02\n",
      " -4.61767651e-02  5.26138432e-02 -2.79735159e-02 -1.62379250e-01\n",
      "  6.61042258e-02  1.72274057e-02 -5.45110973e-03  4.74473760e-02\n",
      " -3.82236913e-02 -3.96897048e-02  1.34544503e-02  4.49653938e-02\n",
      "  4.53669298e-03  2.82978993e-02  8.36632997e-02 -1.00857988e-02\n",
      " -1.19353980e-01 -3.84624228e-02  4.82859015e-02 -9.46084335e-02\n",
      "  1.91853978e-02 -9.96518061e-02 -6.30596727e-02  3.02696228e-02\n",
      "  1.17402487e-02 -4.78372276e-02 -6.20265491e-03 -3.32850292e-02\n",
      " -4.04388038e-03  1.28307184e-02  4.05254140e-02  7.56476894e-02\n",
      "  2.92434990e-02  2.84270588e-02 -2.78938916e-02  1.66858025e-02\n",
      " -2.47961842e-02 -6.83650747e-02  2.89968736e-02 -5.39868005e-33\n",
      " -2.69015739e-03 -2.65069511e-02 -6.47948589e-04 -8.46194383e-03\n",
      " -7.35154673e-02  4.94083064e-03 -5.97841851e-02  1.03438217e-02\n",
      "  2.12904741e-03 -2.88216653e-03 -3.17076445e-02 -9.42364484e-02\n",
      "  3.03019565e-02  7.00226724e-02  4.50685434e-02  3.69439498e-02\n",
      "  1.13593470e-02  3.53027023e-02  5.50448336e-03  1.34416309e-03\n",
      "  3.46123381e-03  7.75047541e-02  5.45112044e-02 -7.92055354e-02\n",
      " -9.31696817e-02 -4.03398871e-02  3.10668759e-02 -3.83081213e-02\n",
      " -5.89443557e-02  1.93332005e-02 -2.67159659e-02 -7.91938230e-02\n",
      "  1.04162682e-04  7.70621449e-02  4.16603424e-02  8.90932009e-02\n",
      "  3.56843211e-02 -1.09152794e-02  3.71498615e-02 -2.07070429e-02\n",
      " -2.46100854e-02 -2.05025598e-02  2.62201242e-02  3.43590863e-02\n",
      "  4.39250991e-02 -8.20521731e-03 -8.40710327e-02  4.24170867e-02\n",
      "  4.87499535e-02  5.95384985e-02  2.87747439e-02  3.37638222e-02\n",
      " -4.07443084e-02 -1.66375691e-03  7.91927055e-02  3.41088288e-02\n",
      " -5.72823978e-04  1.87749472e-02 -1.36963744e-02  7.38332793e-02\n",
      "  5.74492384e-04  8.33505020e-02  5.60810938e-02 -1.13710836e-02\n",
      "  4.42611724e-02  2.69581974e-02 -4.80536148e-02 -3.15087698e-02\n",
      "  7.75226504e-02  1.81773230e-02 -8.83005634e-02 -7.85521138e-03\n",
      " -6.22242913e-02  7.19373003e-02 -2.33475026e-02  6.52485946e-03\n",
      " -9.49530024e-03 -9.88313630e-02  4.01306525e-02  3.07397172e-02\n",
      " -2.21607387e-02 -9.45910886e-02  1.02367662e-02  1.02187768e-01\n",
      " -4.12959792e-02 -3.15778032e-02  4.74752225e-02 -1.10209785e-01\n",
      "  1.69614628e-02 -3.71709019e-02 -1.03262085e-02 -4.72538248e-02\n",
      " -1.20213768e-02 -1.93255320e-02  5.79292364e-02  4.23866870e-34\n",
      "  3.92013080e-02  8.41361880e-02 -1.02946684e-01  6.92259893e-02\n",
      "  1.68821309e-02 -3.26760970e-02  9.65959299e-03  1.80899724e-02\n",
      "  2.17939913e-02  1.63189974e-02 -9.69292447e-02  3.74849513e-03\n",
      " -2.38456950e-02 -3.44055705e-02  7.11962953e-02  9.21897357e-04\n",
      " -6.23854436e-03  3.23753953e-02 -8.90362659e-04  5.01905615e-03\n",
      " -4.24538255e-02  9.89084691e-02 -4.60320786e-02  4.69705015e-02\n",
      " -1.75284613e-02 -7.02515198e-03  1.32743726e-02 -5.30151948e-02\n",
      "  2.66408012e-03  1.45819271e-02  7.43345078e-03 -3.07131726e-02\n",
      " -2.09415946e-02  8.24110433e-02 -5.15893921e-02 -2.71178726e-02\n",
      "  1.17583036e-01  7.72504834e-03 -1.89523473e-02  3.94559428e-02\n",
      "  7.17360452e-02  2.59116851e-02  2.75191721e-02  9.50547494e-03\n",
      " -3.02355420e-02 -4.07944657e-02 -1.04028471e-01 -7.97421765e-03\n",
      " -3.64454160e-03  3.29716653e-02 -2.35954896e-02 -7.50512443e-03\n",
      " -5.82234561e-02 -3.17905843e-02 -4.18049246e-02  2.17453763e-02\n",
      " -6.67291954e-02 -4.89104502e-02  4.58517997e-03 -2.66046412e-02\n",
      " -1.12597056e-01  5.11167720e-02  5.48534207e-02 -6.69856966e-02\n",
      "  1.26766294e-01 -8.59487802e-02 -5.94231449e-02 -2.92186439e-03\n",
      " -1.14875976e-02 -1.26025766e-01 -3.48282931e-03 -9.12001580e-02\n",
      " -1.22933045e-01  1.33777084e-02 -4.75774705e-02 -6.57933280e-02\n",
      " -3.39409970e-02 -3.07107009e-02 -5.22033535e-02 -2.35463921e-02\n",
      "  5.90035319e-02 -3.85758020e-02  3.19701470e-02  4.05118540e-02\n",
      "  1.67077631e-02 -3.58281434e-02  1.45688681e-02  3.20137516e-02\n",
      " -1.34843532e-02  6.07819632e-02 -8.31400231e-03 -1.08106090e-02\n",
      "  4.69410643e-02  7.66133517e-02 -4.23399955e-02 -2.11963336e-08\n",
      " -7.25292712e-02 -4.20228206e-02 -6.12374321e-02  5.24666533e-02\n",
      " -1.42363682e-02  1.18486667e-02 -1.40789449e-02 -3.67530100e-02\n",
      " -4.44977954e-02 -1.15140425e-02  5.23316897e-02  2.96652168e-02\n",
      " -4.62780148e-02 -3.70892435e-02  1.89129896e-02  2.04306692e-02\n",
      " -2.24006381e-02 -1.48562612e-02 -1.79504305e-02  4.20007780e-02\n",
      "  1.40942698e-02 -2.83492487e-02 -1.16862997e-01  1.48956459e-02\n",
      " -7.30551197e-04  5.66028208e-02 -2.68740170e-02  1.09106652e-01\n",
      "  2.94566294e-03  1.19267896e-01  1.14212476e-01  8.92973840e-02\n",
      " -1.70255341e-02 -4.99054156e-02 -2.11931001e-02  3.18421163e-02\n",
      "  7.03436211e-02 -1.02929413e-01  8.23816732e-02  2.81967986e-02\n",
      "  3.21146585e-02  3.79108004e-02 -1.09553106e-01  8.19620416e-02\n",
      "  8.73216689e-02 -5.73564172e-02 -2.01709569e-02 -5.69444261e-02\n",
      " -1.30338520e-02 -5.55684268e-02 -1.32966284e-02  8.64011794e-03\n",
      "  5.30012697e-02 -4.06847149e-02  2.71708909e-02 -2.55951867e-03\n",
      "  3.05775590e-02 -4.61865738e-02  4.68038488e-03 -3.64947282e-02\n",
      "  6.80802613e-02  6.65087625e-02  8.49151909e-02 -3.32848765e-02]\n",
      "\n"
     ]
    }
   ],
   "source": [
    "sentences = [\n",
    "    'This framework generates embeddings for each input sentence',\n",
    "    'Sentences are passed as a list of string.'\n",
    "]\n",
    "\n",
    "embeddings = model.encode(sentences)\n",
    "\n",
    "for sentence, embedding in zip(sentences, embeddings):\n",
    "    print(\"Sentence:\", sentence)\n",
    "    print(\"Embedding:\", embedding)\n",
    "    print(\"\")"
   ]
  },
  {
   "cell_type": "markdown",
   "id": "a98a36dd-d4ca-4f6c-9532-d38b70a7d066",
   "metadata": {},
   "source": [
    "### Finding Cosine Similarity"
   ]
  },
  {
   "cell_type": "code",
   "execution_count": 25,
   "id": "7e054ab9-231e-4f57-a30a-c3ce25d44afc",
   "metadata": {},
   "outputs": [
    {
     "name": "stdout",
     "output_type": "stream",
     "text": [
      "Cosine-Similarity: tensor([[0.5398]])\n"
     ]
    }
   ],
   "source": [
    "emb1 = model.encode(\"I am eating Apple\")\n",
    "emb2 = model.encode(\"I like fruits\")\n",
    "cos_sim = util.cos_sim(emb1, emb2)\n",
    "print(\"Cosine-Similarity:\", cos_sim)"
   ]
  },
  {
   "cell_type": "markdown",
   "id": "7e37893d-5657-4339-b224-67fd53b9874c",
   "metadata": {},
   "source": [
    "### Compute cosine similarity between Different pairs"
   ]
  },
  {
   "cell_type": "code",
   "execution_count": 26,
   "id": "30b20645-1470-4f47-9ec8-222126bcaf26",
   "metadata": {},
   "outputs": [
    {
     "data": {
      "text/plain": [
       "tensor([[ 1.0000,  0.7553, -0.1050,  0.2474, -0.0704, -0.0333,  0.1707,  0.0476,\n",
       "          0.0630],\n",
       "        [ 0.7553,  1.0000, -0.0610,  0.1442, -0.0809, -0.0216,  0.1157,  0.0362,\n",
       "          0.0216],\n",
       "        [-0.1050, -0.0610,  1.0000, -0.1088,  0.0217, -0.0413, -0.0928,  0.0231,\n",
       "          0.0247],\n",
       "        [ 0.2474,  0.1442, -0.1088,  1.0000, -0.0348,  0.0362,  0.7369,  0.0821,\n",
       "          0.1389],\n",
       "        [-0.0704, -0.0809,  0.0217, -0.0348,  1.0000, -0.1654, -0.0592,  0.1961,\n",
       "          0.2564],\n",
       "        [-0.0333, -0.0216, -0.0413,  0.0362, -0.1654,  1.0000,  0.0769, -0.0380,\n",
       "         -0.0895],\n",
       "        [ 0.1707,  0.1157, -0.0928,  0.7369, -0.0592,  0.0769,  1.0000,  0.0495,\n",
       "          0.1191],\n",
       "        [ 0.0476,  0.0362,  0.0231,  0.0821,  0.1961, -0.0380,  0.0495,  1.0000,\n",
       "          0.6433],\n",
       "        [ 0.0630,  0.0216,  0.0247,  0.1389,  0.2564, -0.0895,  0.1191,  0.6433,\n",
       "          1.0000]])"
      ]
     },
     "execution_count": 26,
     "metadata": {},
     "output_type": "execute_result"
    }
   ],
   "source": [
    "sentences = [\n",
    "          'A man is eating food.',\n",
    "          'A man is eating a piece of bread.',\n",
    "          'The girl is carrying a baby.',\n",
    "          'A man is riding a horse.',\n",
    "          'A woman is playing violin.',\n",
    "          'Two men pushed carts through the woods.',\n",
    "          'A man is riding a white horse on an enclosed ground.',\n",
    "          'A monkey is playing drums.',\n",
    "          'Someone in a gorilla costume is playing a set of drums.'\n",
    "          ]\n",
    "\n",
    "#Encode all sentences\n",
    "embeddings = model.encode(sentences)\n",
    "\n",
    "#Compute cosine similarity between all pairs\n",
    "cos_sim = util.cos_sim(embeddings, embeddings)\n",
    "cos_sim"
   ]
  },
  {
   "cell_type": "markdown",
   "id": "6761168e-4165-4ac6-b789-572c4ce1e1f5",
   "metadata": {},
   "source": [
    "### Add all pairs to a list with their cosine similarity score"
   ]
  },
  {
   "cell_type": "code",
   "execution_count": 27,
   "id": "b32fad47-aa8c-4183-95d5-5ed974a6d23d",
   "metadata": {},
   "outputs": [
    {
     "data": {
      "text/plain": [
       "[(tensor(0.7553), 0, 1),\n",
       " (tensor(-0.1050), 0, 2),\n",
       " (tensor(0.2474), 0, 3),\n",
       " (tensor(-0.0704), 0, 4),\n",
       " (tensor(-0.0333), 0, 5),\n",
       " (tensor(0.1707), 0, 6),\n",
       " (tensor(0.0476), 0, 7),\n",
       " (tensor(0.0630), 0, 8),\n",
       " (tensor(-0.0610), 1, 2),\n",
       " (tensor(0.1442), 1, 3),\n",
       " (tensor(-0.0809), 1, 4),\n",
       " (tensor(-0.0216), 1, 5),\n",
       " (tensor(0.1157), 1, 6),\n",
       " (tensor(0.0362), 1, 7),\n",
       " (tensor(0.0216), 1, 8),\n",
       " (tensor(-0.1088), 2, 3),\n",
       " (tensor(0.0217), 2, 4),\n",
       " (tensor(-0.0413), 2, 5),\n",
       " (tensor(-0.0928), 2, 6),\n",
       " (tensor(0.0231), 2, 7),\n",
       " (tensor(0.0247), 2, 8),\n",
       " (tensor(-0.0348), 3, 4),\n",
       " (tensor(0.0362), 3, 5),\n",
       " (tensor(0.7369), 3, 6),\n",
       " (tensor(0.0821), 3, 7),\n",
       " (tensor(0.1389), 3, 8),\n",
       " (tensor(-0.1654), 4, 5),\n",
       " (tensor(-0.0592), 4, 6),\n",
       " (tensor(0.1961), 4, 7),\n",
       " (tensor(0.2564), 4, 8),\n",
       " (tensor(0.0769), 5, 6),\n",
       " (tensor(-0.0380), 5, 7),\n",
       " (tensor(-0.0895), 5, 8),\n",
       " (tensor(0.0495), 6, 7),\n",
       " (tensor(0.1191), 6, 8),\n",
       " (tensor(0.6433), 7, 8)]"
      ]
     },
     "execution_count": 27,
     "metadata": {},
     "output_type": "execute_result"
    }
   ],
   "source": [
    "all_sentence_combinations = []\n",
    "for i in range(len(cos_sim)-1):\n",
    "    for j in range(i+1, len(cos_sim)):\n",
    "        all_sentence_combinations.append((cos_sim[i][j], i, j))\n",
    "all_sentence_combinations"
   ]
  },
  {
   "cell_type": "markdown",
   "id": "26c7f581-dbc3-4c87-9513-6f7e01ff08ae",
   "metadata": {},
   "source": [
    "### Sort list by the highest cosine similarity score"
   ]
  },
  {
   "cell_type": "code",
   "execution_count": 28,
   "id": "994efc67-bc16-4d6e-9f97-3041d492d0e6",
   "metadata": {},
   "outputs": [
    {
     "name": "stdout",
     "output_type": "stream",
     "text": [
      "Top-5 most similar pairs:\n",
      "A man is eating food. \t A man is eating a piece of bread. \t 0.7553\n",
      "A man is riding a horse. \t A man is riding a white horse on an enclosed ground. \t 0.7369\n",
      "A monkey is playing drums. \t Someone in a gorilla costume is playing a set of drums. \t 0.6433\n",
      "A woman is playing violin. \t Someone in a gorilla costume is playing a set of drums. \t 0.2564\n",
      "A man is eating food. \t A man is riding a horse. \t 0.2474\n"
     ]
    }
   ],
   "source": [
    "all_sentence_combinations = sorted(all_sentence_combinations, key=lambda x: x[0], reverse=True)\n",
    "\n",
    "print(\"Top-5 most similar pairs:\")\n",
    "for score, i, j in all_sentence_combinations[0:5]:\n",
    "    print(\"{} \\t {} \\t {:.4f}\".format(sentences[i], sentences[j], cos_sim[i][j]))"
   ]
  },
  {
   "cell_type": "markdown",
   "id": "2faf9907-f326-4712-8305-69c84c933453",
   "metadata": {},
   "source": [
    "### Applying Different Model"
   ]
  },
  {
   "cell_type": "code",
   "execution_count": 29,
   "id": "d12e9f6c-0666-4b8c-a516-c8cbe233623e",
   "metadata": {
    "scrolled": true
   },
   "outputs": [
    {
     "data": {
      "application/vnd.jupyter.widget-view+json": {
       "model_id": "6a6901ed00e54e52a67971c1f2a87334",
       "version_major": 2,
       "version_minor": 0
      },
      "text/plain": [
       "modules.json:   0%|          | 0.00/229 [00:00<?, ?B/s]"
      ]
     },
     "metadata": {},
     "output_type": "display_data"
    },
    {
     "name": "stderr",
     "output_type": "stream",
     "text": [
      "G:\\Sem 7\\NLP\\Practicals\\venv\\Lib\\site-packages\\huggingface_hub\\file_download.py:147: UserWarning: `huggingface_hub` cache-system uses symlinks by default to efficiently store duplicated files but your machine does not support them in C:\\Users\\PCD\\.cache\\huggingface\\hub\\models--clips--mfaq. Caching files will still work but in a degraded version that might require more space on your disk. This warning can be disabled by setting the `HF_HUB_DISABLE_SYMLINKS_WARNING` environment variable. For more details, see https://huggingface.co/docs/huggingface_hub/how-to-cache#limitations.\n",
      "To support symlinks on Windows, you either need to activate Developer Mode or to run Python as an administrator. In order to activate developer mode, see this article: https://docs.microsoft.com/en-us/windows/apps/get-started/enable-your-device-for-development\n",
      "  warnings.warn(message)\n"
     ]
    },
    {
     "data": {
      "application/vnd.jupyter.widget-view+json": {
       "model_id": "4aafd8be0bc34dc0be63d738deaac598",
       "version_major": 2,
       "version_minor": 0
      },
      "text/plain": [
       "config_sentence_transformers.json:   0%|          | 0.00/117 [00:00<?, ?B/s]"
      ]
     },
     "metadata": {},
     "output_type": "display_data"
    },
    {
     "data": {
      "application/vnd.jupyter.widget-view+json": {
       "model_id": "a5ce608e6a84450c913611a543d9b85c",
       "version_major": 2,
       "version_minor": 0
      },
      "text/plain": [
       "README.md:   0%|          | 0.00/3.74k [00:00<?, ?B/s]"
      ]
     },
     "metadata": {},
     "output_type": "display_data"
    },
    {
     "data": {
      "application/vnd.jupyter.widget-view+json": {
       "model_id": "a067b87ad0614f82a774f5c6a0e3195e",
       "version_major": 2,
       "version_minor": 0
      },
      "text/plain": [
       "sentence_bert_config.json:   0%|          | 0.00/53.0 [00:00<?, ?B/s]"
      ]
     },
     "metadata": {},
     "output_type": "display_data"
    },
    {
     "data": {
      "application/vnd.jupyter.widget-view+json": {
       "model_id": "6d006e8d9ea84bcab4a873313a498645",
       "version_major": 2,
       "version_minor": 0
      },
      "text/plain": [
       "config.json:   0%|          | 0.00/778 [00:00<?, ?B/s]"
      ]
     },
     "metadata": {},
     "output_type": "display_data"
    },
    {
     "name": "stderr",
     "output_type": "stream",
     "text": [
      "G:\\Sem 7\\NLP\\Practicals\\venv\\Lib\\site-packages\\transformers\\configuration_utils.py:302: UserWarning: Passing `gradient_checkpointing` to a config initialization is deprecated and will be removed in v5 Transformers. Using `model.gradient_checkpointing_enable()` instead, or if you are using the `Trainer` API, pass `gradient_checkpointing=True` in your `TrainingArguments`.\n",
      "  warnings.warn(\n"
     ]
    },
    {
     "data": {
      "application/vnd.jupyter.widget-view+json": {
       "model_id": "6e4fb9816d58473e884608c7f63a4f09",
       "version_major": 2,
       "version_minor": 0
      },
      "text/plain": [
       "pytorch_model.bin:   0%|          | 0.00/1.11G [00:00<?, ?B/s]"
      ]
     },
     "metadata": {},
     "output_type": "display_data"
    },
    {
     "data": {
      "application/vnd.jupyter.widget-view+json": {
       "model_id": "34af388c65db434e8f03f47e63a9a122",
       "version_major": 2,
       "version_minor": 0
      },
      "text/plain": [
       "tokenizer_config.json:   0%|          | 0.00/464 [00:00<?, ?B/s]"
      ]
     },
     "metadata": {},
     "output_type": "display_data"
    },
    {
     "data": {
      "application/vnd.jupyter.widget-view+json": {
       "model_id": "eb77b49c9d68402a8da9986fd3dc6727",
       "version_major": 2,
       "version_minor": 0
      },
      "text/plain": [
       "sentencepiece.bpe.model:   0%|          | 0.00/5.07M [00:00<?, ?B/s]"
      ]
     },
     "metadata": {},
     "output_type": "display_data"
    },
    {
     "data": {
      "application/vnd.jupyter.widget-view+json": {
       "model_id": "0c35269a70444c489eabe2bd82896e80",
       "version_major": 2,
       "version_minor": 0
      },
      "text/plain": [
       "tokenizer.json:   0%|          | 0.00/9.08M [00:00<?, ?B/s]"
      ]
     },
     "metadata": {},
     "output_type": "display_data"
    },
    {
     "data": {
      "application/vnd.jupyter.widget-view+json": {
       "model_id": "d24b9b102d0341beb1741648f54a4a40",
       "version_major": 2,
       "version_minor": 0
      },
      "text/plain": [
       "added_tokens.json:   0%|          | 0.00/48.0 [00:00<?, ?B/s]"
      ]
     },
     "metadata": {},
     "output_type": "display_data"
    },
    {
     "data": {
      "application/vnd.jupyter.widget-view+json": {
       "model_id": "ae9d04e5062741d497bb56a6826dcf82",
       "version_major": 2,
       "version_minor": 0
      },
      "text/plain": [
       "special_tokens_map.json:   0%|          | 0.00/294 [00:00<?, ?B/s]"
      ]
     },
     "metadata": {},
     "output_type": "display_data"
    },
    {
     "data": {
      "application/vnd.jupyter.widget-view+json": {
       "model_id": "259e07a45deb440aa5309765048d55dd",
       "version_major": 2,
       "version_minor": 0
      },
      "text/plain": [
       "1_Pooling/config.json:   0%|          | 0.00/190 [00:00<?, ?B/s]"
      ]
     },
     "metadata": {},
     "output_type": "display_data"
    }
   ],
   "source": [
    "model = SentenceTransformer('clips/mfaq')"
   ]
  },
  {
   "cell_type": "markdown",
   "id": "7259c94a-27d3-492b-9225-c579fe365803",
   "metadata": {},
   "source": [
    "### Repeting The Above Process With  Different Corpus"
   ]
  },
  {
   "cell_type": "code",
   "execution_count": 30,
   "id": "f636e337-9d1e-4fdf-ba84-6d2d9ed69632",
   "metadata": {},
   "outputs": [
    {
     "name": "stdout",
     "output_type": "stream",
     "text": [
      "[[{'corpus_id': 0, 'score': 0.5507141351699829}, {'corpus_id': 2, 'score': 0.4993181824684143}, {'corpus_id': 1, 'score': 0.4596719443798065}]]\n"
     ]
    }
   ],
   "source": [
    "question = \"How many models can I host on HuggingFace?\"\n",
    "answer_1 = \"All plans come with unlimited private models and datasets.\"\n",
    "answer_2 = \"AutoNLP is an automatic way to train and deploy state-of-the-art NLP models, seamlessly integrated with the Hugging Face ecosystem.\"\n",
    "answer_3 = \"Based on how much training data and model variants are created, we send you a compute cost and payment link - as low as $10 per job.\"\n",
    "\n",
    "query_embedding = model.encode(question)\n",
    "corpus_embeddings = model.encode([answer_1, answer_2, answer_3])\n",
    "\n",
    "print(util.semantic_search(query_embedding, corpus_embeddings))"
   ]
  },
  {
   "cell_type": "markdown",
   "id": "4b812533-db98-486e-b590-a2f37b3c009f",
   "metadata": {},
   "source": [
    "### Applying Pipelines "
   ]
  },
  {
   "cell_type": "code",
   "execution_count": 31,
   "id": "46eacee2-f060-4d1a-8b66-bfb8402c1e1c",
   "metadata": {},
   "outputs": [],
   "source": [
    "from transformers import pipeline"
   ]
  },
  {
   "cell_type": "code",
   "execution_count": 32,
   "id": "510d4d23-6d27-4f7f-ba64-a844d727856e",
   "metadata": {},
   "outputs": [
    {
     "name": "stderr",
     "output_type": "stream",
     "text": [
      "No model was supplied, defaulted to distilbert/distilbert-base-cased-distilled-squad and revision 564e9b5 (https://huggingface.co/distilbert/distilbert-base-cased-distilled-squad).\n",
      "Using a pipeline without specifying a model name and revision in production is not recommended.\n"
     ]
    },
    {
     "data": {
      "application/vnd.jupyter.widget-view+json": {
       "model_id": "4f2586ee5c98435c8b9b5061a98bbf7f",
       "version_major": 2,
       "version_minor": 0
      },
      "text/plain": [
       "config.json:   0%|          | 0.00/473 [00:00<?, ?B/s]"
      ]
     },
     "metadata": {},
     "output_type": "display_data"
    },
    {
     "name": "stderr",
     "output_type": "stream",
     "text": [
      "G:\\Sem 7\\NLP\\Practicals\\venv\\Lib\\site-packages\\huggingface_hub\\file_download.py:147: UserWarning: `huggingface_hub` cache-system uses symlinks by default to efficiently store duplicated files but your machine does not support them in C:\\Users\\PCD\\.cache\\huggingface\\hub\\models--distilbert--distilbert-base-cased-distilled-squad. Caching files will still work but in a degraded version that might require more space on your disk. This warning can be disabled by setting the `HF_HUB_DISABLE_SYMLINKS_WARNING` environment variable. For more details, see https://huggingface.co/docs/huggingface_hub/how-to-cache#limitations.\n",
      "To support symlinks on Windows, you either need to activate Developer Mode or to run Python as an administrator. In order to activate developer mode, see this article: https://docs.microsoft.com/en-us/windows/apps/get-started/enable-your-device-for-development\n",
      "  warnings.warn(message)\n"
     ]
    },
    {
     "data": {
      "application/vnd.jupyter.widget-view+json": {
       "model_id": "1de522d5361945f4ac7171e49cc150c2",
       "version_major": 2,
       "version_minor": 0
      },
      "text/plain": [
       "model.safetensors:   0%|          | 0.00/261M [00:00<?, ?B/s]"
      ]
     },
     "metadata": {},
     "output_type": "display_data"
    },
    {
     "data": {
      "application/vnd.jupyter.widget-view+json": {
       "model_id": "b36f87cd4f934070807207b961fb34cd",
       "version_major": 2,
       "version_minor": 0
      },
      "text/plain": [
       "tokenizer_config.json:   0%|          | 0.00/49.0 [00:00<?, ?B/s]"
      ]
     },
     "metadata": {},
     "output_type": "display_data"
    },
    {
     "data": {
      "application/vnd.jupyter.widget-view+json": {
       "model_id": "7f917dd3a68f43709358343dfd060e86",
       "version_major": 2,
       "version_minor": 0
      },
      "text/plain": [
       "vocab.txt:   0%|          | 0.00/213k [00:00<?, ?B/s]"
      ]
     },
     "metadata": {},
     "output_type": "display_data"
    },
    {
     "data": {
      "application/vnd.jupyter.widget-view+json": {
       "model_id": "e12a1eae4a1f4201b750cc3d2db5f779",
       "version_major": 2,
       "version_minor": 0
      },
      "text/plain": [
       "tokenizer.json:   0%|          | 0.00/436k [00:00<?, ?B/s]"
      ]
     },
     "metadata": {},
     "output_type": "display_data"
    },
    {
     "data": {
      "text/plain": [
       "{'score': 0.7017180323600769, 'start': 20, 'end': 29, 'answer': 'unlimited'}"
      ]
     },
     "execution_count": 32,
     "metadata": {},
     "output_type": "execute_result"
    }
   ],
   "source": [
    "qa_model = pipeline(\"question-answering\")\n",
    "question = \"How many models can I host on HuggingFace?\"\n",
    "context = \"All plans come with unlimited private models and datasets.\"\n",
    "qa_model(question = question, context = context)"
   ]
  },
  {
   "cell_type": "code",
   "execution_count": 33,
   "id": "8d064ebf-e8df-48aa-b3d7-ee47fe8fdf96",
   "metadata": {},
   "outputs": [
    {
     "name": "stdout",
     "output_type": "stream",
     "text": [
      "[[{'corpus_id': 0, 'score': 0.5507141351699829}, {'corpus_id': 2, 'score': 0.4993181824684143}, {'corpus_id': 1, 'score': 0.4596719443798065}]]\n"
     ]
    }
   ],
   "source": [
    "print(util.semantic_search(query_embedding, corpus_embeddings))"
   ]
  },
  {
   "cell_type": "markdown",
   "id": "7fb5b5ab-6ba7-4969-ade7-4f08307270c1",
   "metadata": {},
   "source": [
    "### Using Scikit-Learn to Train Text Similarity Model"
   ]
  },
  {
   "cell_type": "code",
   "execution_count": 34,
   "id": "498806bc-791e-4999-8e37-8374da84cb04",
   "metadata": {},
   "outputs": [],
   "source": [
    "from sklearn.cluster import KMeans\n",
    "import numpy as np"
   ]
  },
  {
   "cell_type": "markdown",
   "id": "3dd48413-b4bc-497f-bb37-827846aa04fc",
   "metadata": {},
   "source": [
    "### Corpus with example sentences"
   ]
  },
  {
   "cell_type": "code",
   "execution_count": 37,
   "id": "0e7d0a13-4551-4c2b-a777-36411ef5c353",
   "metadata": {},
   "outputs": [],
   "source": [
    "corpus = [\n",
    "          'A man is eating food.',\n",
    "          'A man is eating a piece of bread.',\n",
    "          'Horse is eating grass.',\n",
    "          'A man is eating pasta.',\n",
    "          'A Woman is eating Biryani.',\n",
    "          'The girl is carrying a baby.',\n",
    "          'The baby is carried by the woman',\n",
    "          'A man is riding a horse.',\n",
    "          'A man is riding a white horse on an enclosed ground.',\n",
    "          'A monkey is playing drums.',\n",
    "          'Someone in a gorilla costume is playing a set of drums.',\n",
    "          'A cheetah is running behind its prey.',\n",
    "          'A cheetah chases prey on across a field.',\n",
    "          'The cheetah is chasing a man who is riding the horse.',\n",
    "          'man and women with their baby are watching cheetah in zoo'\n",
    "        ]"
   ]
  },
  {
   "cell_type": "markdown",
   "id": "7828345e-f011-4aa3-9b29-3ccdfff8c073",
   "metadata": {},
   "source": [
    "### Encoding Corpus with Embeder of SentenceTransformer's pretrained model"
   ]
  },
  {
   "cell_type": "code",
   "execution_count": 38,
   "id": "c9dde7c6-5aae-453a-af51-4306eed17231",
   "metadata": {},
   "outputs": [
    {
     "name": "stderr",
     "output_type": "stream",
     "text": [
      "G:\\Sem 7\\NLP\\Practicals\\venv\\Lib\\site-packages\\transformers\\tokenization_utils_base.py:1617: FutureWarning: `clean_up_tokenization_spaces` was not set. It will be set to `True` by default. This behavior will be deprecated in transformers v4.45, and will be then set to `False` by default. For more details check this issue: https://github.com/huggingface/transformers/issues/31884\n",
      "  warnings.warn(\n"
     ]
    }
   ],
   "source": [
    "embedder = SentenceTransformer('all-MiniLM-L6-v2')\n",
    "corpus_embeddings = embedder.encode(corpus)"
   ]
  },
  {
   "cell_type": "markdown",
   "id": "c46b633b-5a49-4638-8dca-398bcff046cd",
   "metadata": {},
   "source": [
    "### Normalize the embeddings to unit length"
   ]
  },
  {
   "cell_type": "code",
   "execution_count": 39,
   "id": "c35276ba-3992-45c7-9e7e-d2b355851876",
   "metadata": {},
   "outputs": [],
   "source": [
    "corpus_embeddings = corpus_embeddings /  np.linalg.norm(corpus_embeddings, axis=1, keepdims=True)"
   ]
  },
  {
   "cell_type": "markdown",
   "id": "6c46ed18-ca90-4846-bd6a-5c39652d3168",
   "metadata": {},
   "source": [
    "### Doing Clustering"
   ]
  },
  {
   "cell_type": "code",
   "execution_count": 40,
   "id": "5c775da4-172f-47fa-b2d5-118f47d53e66",
   "metadata": {},
   "outputs": [
    {
     "name": "stdout",
     "output_type": "stream",
     "text": [
      "[0 0 0 0 0 3 3 0 0 2 2 1 1 1 1]\n"
     ]
    }
   ],
   "source": [
    "clustering_model = KMeans(n_clusters=4)\n",
    "clustering_model.fit(corpus_embeddings)\n",
    "cluster_assignment = clustering_model.labels_\n",
    "print(cluster_assignment)"
   ]
  },
  {
   "cell_type": "markdown",
   "id": "c4eaa75e-d9a5-49c7-9c13-88b79aa27142",
   "metadata": {},
   "source": [
    "### Printing Clustered Sentences"
   ]
  },
  {
   "cell_type": "code",
   "execution_count": 41,
   "id": "0915815c-d56f-4975-ae49-a38c49f3c08c",
   "metadata": {},
   "outputs": [
    {
     "data": {
      "text/plain": [
       "{0: ['A man is eating food.',\n",
       "  'A man is eating a piece of bread.',\n",
       "  'Horse is eating grass.',\n",
       "  'A man is eating pasta.',\n",
       "  'A Woman is eating Biryani.',\n",
       "  'A man is riding a horse.',\n",
       "  'A man is riding a white horse on an enclosed ground.'],\n",
       " 3: ['The girl is carrying a baby.', 'The baby is carried by the woman'],\n",
       " 2: ['A monkey is playing drums.',\n",
       "  'Someone in a gorilla costume is playing a set of drums.'],\n",
       " 1: ['A cheetah is running behind its prey.',\n",
       "  'A cheetah chases prey on across a field.',\n",
       "  'The cheetah is chasing a man who is riding the horse.',\n",
       "  'man and women with their baby are watching cheetah in zoo']}"
      ]
     },
     "execution_count": 41,
     "metadata": {},
     "output_type": "execute_result"
    }
   ],
   "source": [
    "clustered_sentences = {}\n",
    "for sentence_id, cluster_id in enumerate(cluster_assignment):\n",
    "    if cluster_id not in clustered_sentences:\n",
    "        clustered_sentences[cluster_id] = []\n",
    "    clustered_sentences[cluster_id].append(corpus[sentence_id])\n",
    "clustered_sentences"
   ]
  }
 ],
 "metadata": {
  "kernelspec": {
   "display_name": "Python 3 (ipykernel)",
   "language": "python",
   "name": "python3"
  },
  "language_info": {
   "codemirror_mode": {
    "name": "ipython",
    "version": 3
   },
   "file_extension": ".py",
   "mimetype": "text/x-python",
   "name": "python",
   "nbconvert_exporter": "python",
   "pygments_lexer": "ipython3",
   "version": "3.12.6"
  }
 },
 "nbformat": 4,
 "nbformat_minor": 5
}
